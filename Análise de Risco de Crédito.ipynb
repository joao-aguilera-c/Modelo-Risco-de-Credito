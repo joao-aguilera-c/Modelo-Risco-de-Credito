{
 "cells": [
  {
   "cell_type": "markdown",
   "metadata": {
    "_uuid": "614bef697e5766a622ffb1d078c44b7d2d54b8db"
   },
   "source": [
    "# Análise de Risco de Crédito"
   ]
  },
  {
   "cell_type": "markdown",
   "metadata": {
    "_uuid": "6bb6745121c7af5d0111e9c14ce114c2b2170e59"
   },
   "source": [
    "## Case - Modelo preditivo para aprovação de crédito\n",
    "\n",
    "Modelos de score de crédito calculam a probabilidade de inadimplência e são uma das\n",
    "principais ferramentas utilizadas por diversas empresas para aprovar ou negar um crédito.\n",
    "O objetivo deste desafio é criar um modelo preditivo calculando a probabilidade de\n",
    "inadimplência de cada novo pedido de crédito.\n"
   ]
  },
  {
   "cell_type": "markdown",
   "metadata": {
    "_uuid": "3956f449ccbf943860240b0b7d2f48a4f17d01ff",
    "tags": []
   },
   "source": [
    "### Dados:\n",
    "Cada linha representa um cliente e as colunas representam os dados (informações) desses\n",
    "clientes.\n",
    "A variável resposta é a coluna inadimplente, que indica se o tomador veio a se tornar\n",
    "inadimplente(1) ou não(0).\n",
    "As variáveis da base de dados são descritas abaixo:\n",
    "\n",
    "* idade: A idade do cliente..\n",
    "* numero_de_dependentes: O número de pessoas dependentes do cliente.\n",
    "* salario_mensal: Salário mensal do cliente.\n",
    "* numero_emprestimos_imobiliarios: Quantidade de empréstimos imobiliários que o\n",
    "cliente possui em aberto.\n",
    "* numero_vezes_passou_90_dias: Número de vezes que o tomador passou mais\n",
    "de 90 dias em atraso.\n",
    "* util_linhas_inseguras: Quanto que o cliente está usando, relativamente ao limite\n",
    "dele, de linhas de crédito que não são seguradas por qualquer bem do tomador\n",
    "e.g: imoveis, carros etc.\n",
    "* vezes_passou_de_30_59_dias: Número de vezes que o cliente atrasou, entre 30\n",
    "e 59 dias, o pagamento de um empréstimo.\n",
    "* razao_debito: Razão entre as dívidas e o patrimônio do tomador. razão débito =\n",
    "Dividas/Patrimônio\n",
    "* numero_linhas_crdto_aberto: Número de empréstimos em aberto pelo cliente.\n",
    "* numero_de_vezes_que_passou_60_89_dias: Número de vezes que o cliente\n",
    "atrasou, entre 60 e 89 dias, o pagamento de um empréstimo."
   ]
  },
  {
   "cell_type": "markdown",
   "metadata": {},
   "source": [
    "**ps: Os dados desta análise foram retirados de processo seletivo e devidamente alterados para que fossem tornados públicos**"
   ]
  },
  {
   "cell_type": "code",
   "execution_count": 284,
   "metadata": {
    "_uuid": "83736d6d37d21737c54ad0dd30829cbb4f5ed8dc"
   },
   "outputs": [
    {
     "data": {
      "text/plain": [
       "<Figure size 720x540 with 0 Axes>"
      ]
     },
     "metadata": {},
     "output_type": "display_data"
    }
   ],
   "source": [
    "import pandas as pd\n",
    "import numpy as np\n",
    "import seaborn as sns\n",
    "import matplotlib.pyplot as plt\n",
    "\n",
    "import statsmodels.formula.api as sm\n",
    "import scipy.stats as stats\n",
    "import pandas_profiling   \n",
    "\n",
    "plt.rcParams['figure.figsize'] = 10, 7.5\n",
    "plt.rcParams['axes.grid'] = True\n",
    "plt.gray()\n",
    "\n",
    "from matplotlib.backends.backend_pdf import PdfPages\n",
    "\n",
    "from sklearn.model_selection import train_test_split\n",
    "from sklearn import metrics\n",
    "from sklearn.linear_model import LogisticRegression\n",
    "from statsmodels.stats.outliers_influence import variance_inflation_factor\n",
    "from patsy import dmatrices\n",
    "\n",
    "from tqdm import tqdm"
   ]
  },
  {
   "cell_type": "markdown",
   "metadata": {
    "_uuid": "ddd3e9f3067316872a59a10f5d68cbce8910b38c"
   },
   "source": [
    "## Pré processando e analisando os dados\n",
    "- Tratar os valores nulos\n",
    "- Verificar os outliers"
   ]
  },
  {
   "cell_type": "code",
   "execution_count": 285,
   "metadata": {
    "_uuid": "1ede60dd34f783a030fc559471a055561640ef2c"
   },
   "outputs": [],
   "source": [
    "emprestimos = pd.read_csv('treino.csv')"
   ]
  },
  {
   "cell_type": "code",
   "execution_count": 286,
   "metadata": {
    "_uuid": "7b771f77115692ee9ac9227de15970b63bc6afbb",
    "scrolled": true
   },
   "outputs": [
    {
     "data": {
      "text/plain": [
       "110000"
      ]
     },
     "execution_count": 286,
     "metadata": {},
     "output_type": "execute_result"
    }
   ],
   "source": [
    "len(emprestimos)"
   ]
  },
  {
   "cell_type": "code",
   "execution_count": 287,
   "metadata": {},
   "outputs": [
    {
     "data": {
      "text/plain": [
       "0.07140422133263205"
      ]
     },
     "execution_count": 287,
     "metadata": {},
     "output_type": "execute_result"
    }
   ],
   "source": [
    "n_inadimplentes = emprestimos.loc[emprestimos.inadimplente == 1].count()\n",
    "n_inadimplentes = n_inadimplentes.iloc[0]\n",
    "\n",
    "n_bons_pagadores = emprestimos.loc[emprestimos.inadimplente == 0].count()\n",
    "n_bons_pagadores = n_bons_pagadores.iloc[0]\n",
    "\n",
    "desbalanceamento = n_inadimplentes/n_bons_pagadores\n",
    "desbalanceamento"
   ]
  },
  {
   "cell_type": "markdown",
   "metadata": {},
   "source": [
    "--------\n",
    "**Os dados estão severamente desbalanceados, caso o modelo gerado por regressão logística não seja satisfatório, considerarei balanceá-los.**\n",
    "\n",
    "----"
   ]
  },
  {
   "cell_type": "code",
   "execution_count": 288,
   "metadata": {
    "_uuid": "033da87fbc5c22f0b4e8b94fdd6633633e49e897"
   },
   "outputs": [],
   "source": [
    "## Funções genéricas para tratamento de dados\n",
    "def var_summary(x):\n",
    "    return pd.Series([x.count(), x.isnull().sum(), x.sum(), x.mean(), x.median(),  x.std(), x.var(), x.min(), x.dropna().quantile(0.01), x.dropna().quantile(0.05),x.dropna().quantile(0.10),x.dropna().quantile(0.25),x.dropna().quantile(0.50),x.dropna().quantile(0.75), x.dropna().quantile(0.90),x.dropna().quantile(0.95), x.dropna().quantile(0.99),x.max()], \n",
    "                  index=['N', 'NMISS', 'SUM', 'MEAN','MEDIAN', 'STD', 'VAR', 'MIN', 'P1' , 'P5' ,'P10' ,'P25' ,'P50' ,'P75' ,'P90' ,'P95' ,'P99' ,'MAX'])\n",
    "\n",
    "\n",
    "def cat_summary(x):\n",
    "    return pd.Series([x.count(), x.isnull().sum(), x.value_counts()], \n",
    "                  index=['N', 'NMISS', 'ColumnsNames'])\n",
    "\n",
    "def create_dummies( df, colname ):\n",
    "    col_dummies = pd.get_dummies(df[colname], prefix=colname)\n",
    "    col_dummies.drop(col_dummies.columns[0], axis=1, inplace=True)\n",
    "    df = pd.concat([df, col_dummies], axis=1)\n",
    "    df.drop( colname, axis = 1, inplace = True )\n",
    "    return df\n",
    "\n",
    "#Lidando com outliers\n",
    "def outlier_capping(x):\n",
    "    x = x.clip(upper=x.quantile(0.99))\n",
    "    x = x.clip(lower=x.quantile(0.01))\n",
    "    return x\n",
    "\n",
    "def Missing_imputation(x):\n",
    "    x = x.fillna(x.mean())\n",
    "    return x\n"
   ]
  },
  {
   "cell_type": "code",
   "execution_count": 289,
   "metadata": {
    "_uuid": "39b1ced33882386b693073f786be2bdab1ba0edf",
    "scrolled": true
   },
   "outputs": [
    {
     "data": {
      "text/html": [
       "<div>\n",
       "<style scoped>\n",
       "    .dataframe tbody tr th:only-of-type {\n",
       "        vertical-align: middle;\n",
       "    }\n",
       "\n",
       "    .dataframe tbody tr th {\n",
       "        vertical-align: top;\n",
       "    }\n",
       "\n",
       "    .dataframe thead th {\n",
       "        text-align: right;\n",
       "    }\n",
       "</style>\n",
       "<table border=\"1\" class=\"dataframe\">\n",
       "  <thead>\n",
       "    <tr style=\"text-align: right;\">\n",
       "      <th></th>\n",
       "      <th>N</th>\n",
       "      <th>NMISS</th>\n",
       "      <th>SUM</th>\n",
       "      <th>MEAN</th>\n",
       "      <th>MEDIAN</th>\n",
       "      <th>STD</th>\n",
       "      <th>VAR</th>\n",
       "      <th>MIN</th>\n",
       "      <th>P1</th>\n",
       "      <th>P5</th>\n",
       "      <th>P10</th>\n",
       "      <th>P25</th>\n",
       "      <th>P50</th>\n",
       "      <th>P75</th>\n",
       "      <th>P90</th>\n",
       "      <th>P95</th>\n",
       "      <th>P99</th>\n",
       "      <th>MAX</th>\n",
       "    </tr>\n",
       "  </thead>\n",
       "  <tbody>\n",
       "    <tr>\n",
       "      <th>inadimplente</th>\n",
       "      <td>110000.00</td>\n",
       "      <td>0.00</td>\n",
       "      <td>7331.00</td>\n",
       "      <td>0.07</td>\n",
       "      <td>0.00</td>\n",
       "      <td>0.25</td>\n",
       "      <td>0.06</td>\n",
       "      <td>0.00</td>\n",
       "      <td>0.00</td>\n",
       "      <td>0.00</td>\n",
       "      <td>0.00</td>\n",
       "      <td>0.00</td>\n",
       "      <td>0.00</td>\n",
       "      <td>0.00</td>\n",
       "      <td>0.00</td>\n",
       "      <td>1.00</td>\n",
       "      <td>1.00</td>\n",
       "      <td>1.00</td>\n",
       "    </tr>\n",
       "    <tr>\n",
       "      <th>util_linhas_inseguras</th>\n",
       "      <td>110000.00</td>\n",
       "      <td>0.00</td>\n",
       "      <td>652297.74</td>\n",
       "      <td>5.93</td>\n",
       "      <td>0.16</td>\n",
       "      <td>252.30</td>\n",
       "      <td>63656.28</td>\n",
       "      <td>0.00</td>\n",
       "      <td>0.00</td>\n",
       "      <td>0.00</td>\n",
       "      <td>0.00</td>\n",
       "      <td>0.03</td>\n",
       "      <td>0.16</td>\n",
       "      <td>0.56</td>\n",
       "      <td>0.98</td>\n",
       "      <td>1.00</td>\n",
       "      <td>1.09</td>\n",
       "      <td>50708.00</td>\n",
       "    </tr>\n",
       "    <tr>\n",
       "      <th>idade</th>\n",
       "      <td>110000.00</td>\n",
       "      <td>0.00</td>\n",
       "      <td>5748120.00</td>\n",
       "      <td>52.26</td>\n",
       "      <td>52.00</td>\n",
       "      <td>14.77</td>\n",
       "      <td>218.10</td>\n",
       "      <td>0.00</td>\n",
       "      <td>24.00</td>\n",
       "      <td>29.00</td>\n",
       "      <td>33.00</td>\n",
       "      <td>41.00</td>\n",
       "      <td>52.00</td>\n",
       "      <td>63.00</td>\n",
       "      <td>72.00</td>\n",
       "      <td>78.00</td>\n",
       "      <td>87.00</td>\n",
       "      <td>109.00</td>\n",
       "    </tr>\n",
       "    <tr>\n",
       "      <th>vezes_passou_de_30_59_dias</th>\n",
       "      <td>110000.00</td>\n",
       "      <td>0.00</td>\n",
       "      <td>46646.00</td>\n",
       "      <td>0.42</td>\n",
       "      <td>0.00</td>\n",
       "      <td>4.24</td>\n",
       "      <td>17.98</td>\n",
       "      <td>0.00</td>\n",
       "      <td>0.00</td>\n",
       "      <td>0.00</td>\n",
       "      <td>0.00</td>\n",
       "      <td>0.00</td>\n",
       "      <td>0.00</td>\n",
       "      <td>0.00</td>\n",
       "      <td>1.00</td>\n",
       "      <td>2.00</td>\n",
       "      <td>4.00</td>\n",
       "      <td>98.00</td>\n",
       "    </tr>\n",
       "    <tr>\n",
       "      <th>razao_debito</th>\n",
       "      <td>110000.00</td>\n",
       "      <td>0.00</td>\n",
       "      <td>39030594.74</td>\n",
       "      <td>354.82</td>\n",
       "      <td>0.37</td>\n",
       "      <td>2074.14</td>\n",
       "      <td>4302058.49</td>\n",
       "      <td>0.00</td>\n",
       "      <td>0.00</td>\n",
       "      <td>0.00</td>\n",
       "      <td>0.03</td>\n",
       "      <td>0.18</td>\n",
       "      <td>0.37</td>\n",
       "      <td>0.87</td>\n",
       "      <td>1265.00</td>\n",
       "      <td>2464.05</td>\n",
       "      <td>5000.01</td>\n",
       "      <td>329664.00</td>\n",
       "    </tr>\n",
       "    <tr>\n",
       "      <th>salario_mensal</th>\n",
       "      <td>88237.00</td>\n",
       "      <td>21763.00</td>\n",
       "      <td>585665240.00</td>\n",
       "      <td>6637.41</td>\n",
       "      <td>5400.00</td>\n",
       "      <td>13383.95</td>\n",
       "      <td>179130142.84</td>\n",
       "      <td>0.00</td>\n",
       "      <td>0.00</td>\n",
       "      <td>1300.00</td>\n",
       "      <td>2018.60</td>\n",
       "      <td>3400.00</td>\n",
       "      <td>5400.00</td>\n",
       "      <td>8225.00</td>\n",
       "      <td>11666.00</td>\n",
       "      <td>14593.40</td>\n",
       "      <td>25000.00</td>\n",
       "      <td>3008750.00</td>\n",
       "    </tr>\n",
       "    <tr>\n",
       "      <th>numero_linhas_crdto_aberto</th>\n",
       "      <td>110000.00</td>\n",
       "      <td>0.00</td>\n",
       "      <td>929013.00</td>\n",
       "      <td>8.45</td>\n",
       "      <td>8.00</td>\n",
       "      <td>5.14</td>\n",
       "      <td>26.41</td>\n",
       "      <td>0.00</td>\n",
       "      <td>0.00</td>\n",
       "      <td>2.00</td>\n",
       "      <td>3.00</td>\n",
       "      <td>5.00</td>\n",
       "      <td>8.00</td>\n",
       "      <td>11.00</td>\n",
       "      <td>15.00</td>\n",
       "      <td>18.00</td>\n",
       "      <td>24.00</td>\n",
       "      <td>58.00</td>\n",
       "    </tr>\n",
       "    <tr>\n",
       "      <th>numero_vezes_passou_90_dias</th>\n",
       "      <td>110000.00</td>\n",
       "      <td>0.00</td>\n",
       "      <td>29695.00</td>\n",
       "      <td>0.27</td>\n",
       "      <td>0.00</td>\n",
       "      <td>4.22</td>\n",
       "      <td>17.79</td>\n",
       "      <td>0.00</td>\n",
       "      <td>0.00</td>\n",
       "      <td>0.00</td>\n",
       "      <td>0.00</td>\n",
       "      <td>0.00</td>\n",
       "      <td>0.00</td>\n",
       "      <td>0.00</td>\n",
       "      <td>0.00</td>\n",
       "      <td>1.00</td>\n",
       "      <td>3.00</td>\n",
       "      <td>98.00</td>\n",
       "    </tr>\n",
       "    <tr>\n",
       "      <th>numero_emprestimos_imobiliarios</th>\n",
       "      <td>110000.00</td>\n",
       "      <td>0.00</td>\n",
       "      <td>112188.00</td>\n",
       "      <td>1.02</td>\n",
       "      <td>1.00</td>\n",
       "      <td>1.14</td>\n",
       "      <td>1.29</td>\n",
       "      <td>0.00</td>\n",
       "      <td>0.00</td>\n",
       "      <td>0.00</td>\n",
       "      <td>0.00</td>\n",
       "      <td>0.00</td>\n",
       "      <td>1.00</td>\n",
       "      <td>2.00</td>\n",
       "      <td>2.00</td>\n",
       "      <td>3.00</td>\n",
       "      <td>4.00</td>\n",
       "      <td>54.00</td>\n",
       "    </tr>\n",
       "    <tr>\n",
       "      <th>numero_de_vezes_que_passou_60_89_dias</th>\n",
       "      <td>110000.00</td>\n",
       "      <td>0.00</td>\n",
       "      <td>26828.00</td>\n",
       "      <td>0.24</td>\n",
       "      <td>0.00</td>\n",
       "      <td>4.20</td>\n",
       "      <td>17.67</td>\n",
       "      <td>0.00</td>\n",
       "      <td>0.00</td>\n",
       "      <td>0.00</td>\n",
       "      <td>0.00</td>\n",
       "      <td>0.00</td>\n",
       "      <td>0.00</td>\n",
       "      <td>0.00</td>\n",
       "      <td>0.00</td>\n",
       "      <td>1.00</td>\n",
       "      <td>2.00</td>\n",
       "      <td>98.00</td>\n",
       "    </tr>\n",
       "    <tr>\n",
       "      <th>numero_de_dependentes</th>\n",
       "      <td>107122.00</td>\n",
       "      <td>2878.00</td>\n",
       "      <td>81143.00</td>\n",
       "      <td>0.76</td>\n",
       "      <td>0.00</td>\n",
       "      <td>1.11</td>\n",
       "      <td>1.24</td>\n",
       "      <td>0.00</td>\n",
       "      <td>0.00</td>\n",
       "      <td>0.00</td>\n",
       "      <td>0.00</td>\n",
       "      <td>0.00</td>\n",
       "      <td>0.00</td>\n",
       "      <td>1.00</td>\n",
       "      <td>2.00</td>\n",
       "      <td>3.00</td>\n",
       "      <td>4.00</td>\n",
       "      <td>20.00</td>\n",
       "    </tr>\n",
       "  </tbody>\n",
       "</table>\n",
       "</div>"
      ],
      "text/plain": [
       "                                              N    NMISS          SUM    MEAN  \\\n",
       "inadimplente                          110000.00     0.00      7331.00    0.07   \n",
       "util_linhas_inseguras                 110000.00     0.00    652297.74    5.93   \n",
       "idade                                 110000.00     0.00   5748120.00   52.26   \n",
       "vezes_passou_de_30_59_dias            110000.00     0.00     46646.00    0.42   \n",
       "razao_debito                          110000.00     0.00  39030594.74  354.82   \n",
       "salario_mensal                         88237.00 21763.00 585665240.00 6637.41   \n",
       "numero_linhas_crdto_aberto            110000.00     0.00    929013.00    8.45   \n",
       "numero_vezes_passou_90_dias           110000.00     0.00     29695.00    0.27   \n",
       "numero_emprestimos_imobiliarios       110000.00     0.00    112188.00    1.02   \n",
       "numero_de_vezes_que_passou_60_89_dias 110000.00     0.00     26828.00    0.24   \n",
       "numero_de_dependentes                 107122.00  2878.00     81143.00    0.76   \n",
       "\n",
       "                                       MEDIAN      STD          VAR  MIN  \\\n",
       "inadimplente                             0.00     0.25         0.06 0.00   \n",
       "util_linhas_inseguras                    0.16   252.30     63656.28 0.00   \n",
       "idade                                   52.00    14.77       218.10 0.00   \n",
       "vezes_passou_de_30_59_dias               0.00     4.24        17.98 0.00   \n",
       "razao_debito                             0.37  2074.14   4302058.49 0.00   \n",
       "salario_mensal                        5400.00 13383.95 179130142.84 0.00   \n",
       "numero_linhas_crdto_aberto               8.00     5.14        26.41 0.00   \n",
       "numero_vezes_passou_90_dias              0.00     4.22        17.79 0.00   \n",
       "numero_emprestimos_imobiliarios          1.00     1.14         1.29 0.00   \n",
       "numero_de_vezes_que_passou_60_89_dias    0.00     4.20        17.67 0.00   \n",
       "numero_de_dependentes                    0.00     1.11         1.24 0.00   \n",
       "\n",
       "                                         P1      P5     P10     P25     P50  \\\n",
       "inadimplente                           0.00    0.00    0.00    0.00    0.00   \n",
       "util_linhas_inseguras                  0.00    0.00    0.00    0.03    0.16   \n",
       "idade                                 24.00   29.00   33.00   41.00   52.00   \n",
       "vezes_passou_de_30_59_dias             0.00    0.00    0.00    0.00    0.00   \n",
       "razao_debito                           0.00    0.00    0.03    0.18    0.37   \n",
       "salario_mensal                         0.00 1300.00 2018.60 3400.00 5400.00   \n",
       "numero_linhas_crdto_aberto             0.00    2.00    3.00    5.00    8.00   \n",
       "numero_vezes_passou_90_dias            0.00    0.00    0.00    0.00    0.00   \n",
       "numero_emprestimos_imobiliarios        0.00    0.00    0.00    0.00    1.00   \n",
       "numero_de_vezes_que_passou_60_89_dias  0.00    0.00    0.00    0.00    0.00   \n",
       "numero_de_dependentes                  0.00    0.00    0.00    0.00    0.00   \n",
       "\n",
       "                                          P75      P90      P95      P99  \\\n",
       "inadimplente                             0.00     0.00     1.00     1.00   \n",
       "util_linhas_inseguras                    0.56     0.98     1.00     1.09   \n",
       "idade                                   63.00    72.00    78.00    87.00   \n",
       "vezes_passou_de_30_59_dias               0.00     1.00     2.00     4.00   \n",
       "razao_debito                             0.87  1265.00  2464.05  5000.01   \n",
       "salario_mensal                        8225.00 11666.00 14593.40 25000.00   \n",
       "numero_linhas_crdto_aberto              11.00    15.00    18.00    24.00   \n",
       "numero_vezes_passou_90_dias              0.00     0.00     1.00     3.00   \n",
       "numero_emprestimos_imobiliarios          2.00     2.00     3.00     4.00   \n",
       "numero_de_vezes_que_passou_60_89_dias    0.00     0.00     1.00     2.00   \n",
       "numero_de_dependentes                    1.00     2.00     3.00     4.00   \n",
       "\n",
       "                                             MAX  \n",
       "inadimplente                                1.00  \n",
       "util_linhas_inseguras                   50708.00  \n",
       "idade                                     109.00  \n",
       "vezes_passou_de_30_59_dias                 98.00  \n",
       "razao_debito                           329664.00  \n",
       "salario_mensal                        3008750.00  \n",
       "numero_linhas_crdto_aberto                 58.00  \n",
       "numero_vezes_passou_90_dias                98.00  \n",
       "numero_emprestimos_imobiliarios            54.00  \n",
       "numero_de_vezes_que_passou_60_89_dias      98.00  \n",
       "numero_de_dependentes                      20.00  "
      ]
     },
     "execution_count": 289,
     "metadata": {},
     "output_type": "execute_result"
    }
   ],
   "source": [
    "emprestimos.apply(lambda x: var_summary(x)).T\n"
   ]
  },
  {
   "cell_type": "markdown",
   "metadata": {
    "_uuid": "f165b9b4a7160fa582e4837d0f3e84860cade33b"
   },
   "source": [
    "Avaliando os dados acima percebemos <b>alguns outliers</b> no data set entre os percentis **99 e 100.**</br>\n",
    "Remover os outliers é considerado uma boa pratica pois os mesmos podem interferir negativamente em nosso modelo.\n",
    "\n",
    "As únicas colunas com valores nulos são **salario_mensal** e **numero_de_dependentes**. Considerarei ambas como sendo a média de cada coluna:\n",
    "\n"
   ]
  },
  {
   "cell_type": "code",
   "execution_count": 290,
   "metadata": {
    "_uuid": "f84627e2cb33fd553834914fb16c8cffc2fa9c07"
   },
   "outputs": [],
   "source": [
    "emprestimos=emprestimos.apply(lambda x: outlier_capping(x))\n",
    "emprestimos=emprestimos.apply(lambda x: Missing_imputation(x))"
   ]
  },
  {
   "cell_type": "code",
   "execution_count": 370,
   "metadata": {},
   "outputs": [
    {
     "data": {
      "text/plain": [
       "inadimplente                               int64\n",
       "util_linhas_inseguras                    float64\n",
       "idade                                      int64\n",
       "vezes_passou_de_30_59_dias                 int64\n",
       "razao_debito                             float64\n",
       "salario_mensal                           float64\n",
       "numero_linhas_crdto_aberto                 int64\n",
       "numero_vezes_passou_90_dias                int64\n",
       "numero_emprestimos_imobiliarios            int64\n",
       "numero_de_vezes_que_passou_60_89_dias      int64\n",
       "numero_de_dependentes                    float64\n",
       "dtype: object"
      ]
     },
     "execution_count": 370,
     "metadata": {},
     "output_type": "execute_result"
    }
   ],
   "source": [
    "emprestimos.dtypes"
   ]
  },
  {
   "cell_type": "code",
   "execution_count": 292,
   "metadata": {
    "_uuid": "1e592879af9b4f2a2d72c8ce363bcb9d2673cf38"
   },
   "outputs": [],
   "source": [
    "variaveis=[key for key in dict(emprestimos.dtypes) if dict(emprestimos.dtypes)[key] in ['float64', 'int64', 'float32', 'int32']]"
   ]
  },
  {
   "cell_type": "code",
   "execution_count": 293,
   "metadata": {
    "_uuid": "3e6a9bc35f42aeb032e188365439a57c596734ad"
   },
   "outputs": [
    {
     "data": {
      "text/plain": [
       "<AxesSubplot:>"
      ]
     },
     "execution_count": 293,
     "metadata": {},
     "output_type": "execute_result"
    },
    {
     "data": {
      "image/png": "[encoded data removed]",
      "text/plain": [
       "<Figure size 720x540 with 2 Axes>"
      ]
     },
     "metadata": {
      "needs_background": "light"
     },
     "output_type": "display_data"
    }
   ],
   "source": [
    "sns.heatmap(emprestimos.corr(), annot=True, cmap='PuBu')"
   ]
  },
  {
   "cell_type": "markdown",
   "metadata": {
    "_uuid": "fdd793362c0013a8e7efdf28aa62f553bc21ebfb"
   },
   "source": [
    "A correlação acima mostra que não há **nenhuma forte correlação entre as variáveis**, tendo as correlações mais fortes entre **numero_emprestimos_imobiliarios** e  **numero_linhas_crdto_aberto**. Também para **numero_de_vezes_que_passou_60_89_dias** e **numero_vezes_passou_90_dias**.\n",
    "\n",
    "Percebemos que **numero_vezes_passou_90_dias** e **numero_de_vezes_que_passou_60_89_dias** tem uma maior correlação com a **inadimplencia**, mas não chega a ser alta.\n",
    "\n",
    "Tentarei entender o impacto de cada variavel na variavel dependente inadimplencia utilizando **Box Plots**:"
   ]
  },
  {
   "cell_type": "code",
   "execution_count": 294,
   "metadata": {
    "_uuid": "821c805f9f0bad9f95b399b35189d4c170460b22"
   },
   "outputs": [
    {
     "data": {
      "image/png": "[encoded data removed]",
      "text/plain": [
       "<Figure size 720x288 with 1 Axes>"
      ]
     },
     "metadata": {
      "needs_background": "light"
     },
     "output_type": "display_data"
    },
    {
     "data": {
      "image/png": "[encoded data removed]",
      "text/plain": [
       "<Figure size 720x288 with 1 Axes>"
      ]
     },
     "metadata": {
      "needs_background": "light"
     },
     "output_type": "display_data"
    },
    {
     "data": {
      "image/png": "[encoded data removed]",
      "text/plain": [
       "<Figure size 720x288 with 1 Axes>"
      ]
     },
     "metadata": {
      "needs_background": "light"
     },
     "output_type": "display_data"
    },
    {
     "data": {
      "image/png": "[encoded data removed]",
      "text/plain": [
       "<Figure size 720x288 with 1 Axes>"
      ]
     },
     "metadata": {
      "needs_background": "light"
     },
     "output_type": "display_data"
    },
    {
     "data": {
      "image/png": "[encoded data removed]",
      "text/plain": [
       "<Figure size 720x288 with 1 Axes>"
      ]
     },
     "metadata": {
      "needs_background": "light"
     },
     "output_type": "display_data"
    },
    {
     "data": {
      "image/png": "[encoded data removed]",
      "text/plain": [
       "<Figure size 720x288 with 1 Axes>"
      ]
     },
     "metadata": {
      "needs_background": "light"
     },
     "output_type": "display_data"
    },
    {
     "data": {
      "image/png": "[encoded data removed]",
      "text/plain": [
       "<Figure size 720x288 with 1 Axes>"
      ]
     },
     "metadata": {
      "needs_background": "light"
     },
     "output_type": "display_data"
    },
    {
     "data": {
      "image/png": "[encoded data removed]",
      "text/plain": [
       "<Figure size 720x288 with 1 Axes>"
      ]
     },
     "metadata": {
      "needs_background": "light"
     },
     "output_type": "display_data"
    },
    {
     "data": {
      "image/png": "[encoded data removed]",
      "text/plain": [
       "<Figure size 720x288 with 1 Axes>"
      ]
     },
     "metadata": {
      "needs_background": "light"
     },
     "output_type": "display_data"
    },
    {
     "data": {
      "image/png": "[encoded data removed]",
      "text/plain": [
       "<Figure size 720x288 with 1 Axes>"
      ]
     },
     "metadata": {
      "needs_background": "light"
     },
     "output_type": "display_data"
    },
    {
     "data": {
      "image/png": "[encoded data removed]",
      "text/plain": [
       "<Figure size 720x288 with 1 Axes>"
      ]
     },
     "metadata": {
      "needs_background": "light"
     },
     "output_type": "display_data"
    }
   ],
   "source": [
    "bp = PdfPages('BoxPlots with default Split.pdf')\n",
    "\n",
    "for var in variaveis:\n",
    "    fig,axes = plt.subplots(figsize=(10,4))\n",
    "    sns.boxplot(x='inadimplente', y=var, data = emprestimos, palette='PuBu')\n",
    "    bp.savefig(fig)\n",
    "bp.close()"
   ]
  },
  {
   "cell_type": "markdown",
   "metadata": {
    "_uuid": "7f1379a2b54c2952ec40ed8f835c55602bc12724"
   },
   "source": [
    "Vamos avaliar as plotagens acima e ver se encontramos informações importantes:\n",
    "\n",
    "* **util_linhas_inseguras** - Claramente pessoas que usam acima de 50% das suas linhas de crédito não seguradas tendem a ser mais inadimplentes\n",
    "\n",
    "* **idade** - Há uma indicação que pessoas com menos idade tendem a ser mais inadimplentes.\n",
    "\n",
    "* **vezes_passou_de_30_59_dias** - Como esperado, pessoas que atrasam o pagamento de suas dividas tendem a ser inadimplentes\n",
    "\n",
    "* **razao_debito** - Muitos outliers, endereçar essa variável mais tarde\n",
    "\n",
    "* **salario_mensal** - Também muitos outliers, porém há uma tendencia de pessoas com rendas menores serem inadimplentes\n",
    "\n",
    "* **numero_linhas_crdto_aberto** - Distribuições parecidas, porém a mediana do número de linhas abertas é levemente menor para inadimplentes\n",
    "\n",
    "* **numero_vezes_passou_90_dias** - Pessoas que não atrasam o pagamento de suas dívidas por mais de 90 dias tendem a ser menos inadimplentes\n",
    "\n",
    "* **numero_emprestimos_imobiliarios** - Nenhuma diferença entre inadimplentes e bons pagadores\n",
    "\n",
    "* **numero_de_vezes_que_passou_60_89_dias** - Pessoas que não atrasam o pagamento de suas dívidas por mais de 60 dias tendem a ser menos inadimplentes\n",
    "\n",
    "* **numero_de_dependentes**  - Inadimplentes tem em média mais dependentes do que os pagadores\n",
    "\n",
    "\n",
    "As interpretações acima colhidas confirmam algumas presunções basicas acerca do tema, ao menos no data set fornecido"
   ]
  },
  {
   "cell_type": "markdown",
   "metadata": {
    "_uuid": "dad9316d5e09d21c5d6c5973686fcde37339fe97"
   },
   "source": [
    "### Bivariate Analysis - TTest<br>\n",
    "\n",
    "O TTest abaixo tem como objetivo avaliar a relação entre a **variável dependente inadimplente** com todas as **variáveis independentes** no data set. Isso nos ajudará a identificar se alguma variável esta enviesada a algum segmento da variável dependente\n",
    "\n",
    "Minha hipótese H0 é que as amostras independentes de cada variável não são tendenciosas / relacionadas à variável dependente, ou seja, 'inadimplente'. No entanto, se o valor P for maior, as variáveis são independentes e não são significativas para o modelo. Essas variáveis poderão ser excluídas."
   ]
  },
  {
   "cell_type": "code",
   "execution_count": 295,
   "metadata": {
    "_uuid": "8e623fd43cc8531e1d0fa2771689b5ea328fdb36"
   },
   "outputs": [
    {
     "name": "stdout",
     "output_type": "stream",
     "text": [
      "                        Nome da Variável T-Statistic P-Value\n",
      "0                                  idade      -38.28    0.00\n",
      "1                  numero_de_dependentes       14.31    0.00\n",
      "2  numero_de_vezes_que_passou_60_89_dias       97.92    0.00\n",
      "3        numero_emprestimos_imobiliarios       -7.40    0.00\n",
      "4             numero_linhas_crdto_aberto      -10.34    0.00\n",
      "5            numero_vezes_passou_90_dias      121.54    0.00\n",
      "6                           razao_debito       -5.22    0.00\n",
      "7                         salario_mensal      -16.80    0.00\n",
      "8                  util_linhas_inseguras       96.68    0.00\n",
      "9             vezes_passou_de_30_59_dias       98.92    0.00\n"
     ]
    }
   ],
   "source": [
    "tstats_df = pd.DataFrame()\n",
    "for var in emprestimos.columns.difference(['inadimplente']):\n",
    "    tstats=stats.ttest_ind(emprestimos[emprestimos.inadimplente==1][var],emprestimos[emprestimos.inadimplente==0][var])\n",
    "    temp = pd.DataFrame([var, tstats[0], tstats[1]]).T\n",
    "    temp.columns = ['Nome da Variável', 'T-Statistic', 'P-Value']\n",
    "    tstats_df = pd.concat([tstats_df, temp], axis=0, ignore_index=True)\n",
    "print(tstats_df)\n"
   ]
  },
  {
   "cell_type": "markdown",
   "metadata": {
    "_uuid": "a9a1003b201b800611fca6d47f2bdbb24f060e42"
   },
   "source": [
    "**Como todos os P-values são 0 podemos considerar que não é nescessário remover nenhuma variável.**"
   ]
  },
  {
   "cell_type": "markdown",
   "metadata": {
    "_uuid": "a316f77bfa7458b2166ffa64f0ef88670e94e1da"
   },
   "source": [
    "### Visualização da importância da variável\n"
   ]
  },
  {
   "cell_type": "code",
   "execution_count": 13,
   "metadata": {
    "_uuid": "e2ac4a31b7eea7ea754a9d0301933bea4384ecb9"
   },
   "outputs": [
    {
     "data": {
      "image/png": "[encoded data removed]",
      "text/plain": [
       "<Figure size 720x288 with 1 Axes>"
      ]
     },
     "metadata": {
      "needs_background": "light"
     },
     "output_type": "display_data"
    },
    {
     "data": {
      "image/png": "[encoded data removed]",
      "text/plain": [
       "<Figure size 720x288 with 1 Axes>"
      ]
     },
     "metadata": {
      "needs_background": "light"
     },
     "output_type": "display_data"
    },
    {
     "data": {
      "image/png": "[encoded data removed]",
      "text/plain": [
       "<Figure size 720x288 with 1 Axes>"
      ]
     },
     "metadata": {
      "needs_background": "light"
     },
     "output_type": "display_data"
    },
    {
     "data": {
      "image/png": "[encoded data removed]",
      "text/plain": [
       "<Figure size 720x288 with 1 Axes>"
      ]
     },
     "metadata": {
      "needs_background": "light"
     },
     "output_type": "display_data"
    },
    {
     "data": {
      "image/png": "[encoded data removed]",
      "text/plain": [
       "<Figure size 720x288 with 1 Axes>"
      ]
     },
     "metadata": {
      "needs_background": "light"
     },
     "output_type": "display_data"
    },
    {
     "data": {
      "image/png": "[encoded data removed]",
      "text/plain": [
       "<Figure size 720x288 with 1 Axes>"
      ]
     },
     "metadata": {
      "needs_background": "light"
     },
     "output_type": "display_data"
    },
    {
     "data": {
      "image/png": "[encoded data removed]",
      "text/plain": [
       "<Figure size 720x288 with 1 Axes>"
      ]
     },
     "metadata": {
      "needs_background": "light"
     },
     "output_type": "display_data"
    },
    {
     "data": {
      "image/png": "[encoded data removed]",
      "text/plain": [
       "<Figure size 720x288 with 1 Axes>"
      ]
     },
     "metadata": {
      "needs_background": "light"
     },
     "output_type": "display_data"
    },
    {
     "data": {
      "image/png": "[encoded data removed]",
      "text/plain": [
       "<Figure size 720x288 with 1 Axes>"
      ]
     },
     "metadata": {
      "needs_background": "light"
     },
     "output_type": "display_data"
    },
    {
     "data": {
      "image/png": "[encoded data removed]",
      "text/plain": [
       "<Figure size 720x288 with 1 Axes>"
      ]
     },
     "metadata": {
      "needs_background": "light"
     },
     "output_type": "display_data"
    },
    {
     "data": {
      "image/png": "[encoded data removed]",
      "text/plain": [
       "<Figure size 720x288 with 1 Axes>"
      ]
     },
     "metadata": {
      "needs_background": "light"
     },
     "output_type": "display_data"
    }
   ],
   "source": [
    "import warnings\n",
    "warnings.filterwarnings(\"ignore\")\n",
    "\n",
    "for var in variaveis:\n",
    "    fig,axes = plt.subplots(figsize=(10,4))\n",
    "    sns.distplot(emprestimos[emprestimos['inadimplente']==0][var], label='não inadimplente', color='tab:blue', hist=True, norm_hist=False)\n",
    "    sns.distplot(emprestimos[emprestimos['inadimplente']==1][var], label='inadimplente', color='Black', hist=True, norm_hist=False)\n",
    "    plt.xlabel(str(\"X variable \") + str(var) )\n",
    "    plt.ylabel('Density Function')\n",
    "    plt.title(str('inadimplente Split Density Plot of ')+str(var))\n",
    "    plt.legend()"
   ]
  },
  {
   "cell_type": "markdown",
   "metadata": {},
   "source": [
    "Apenas razão débito parece não influenciar na inadimplência, porém como estou lidando com poucas variáveis escolhi não remover nenhuma dos modelos."
   ]
  },
  {
   "cell_type": "markdown",
   "metadata": {
    "_uuid": "d42fbb81796183502ea7fe37f3a5f310d55a0bbf"
   },
   "source": [
    "## 1. Regressão logística via modelo estatístico"
   ]
  },
  {
   "cell_type": "markdown",
   "metadata": {},
   "source": [
    "#### Dividindo train e test"
   ]
  },
  {
   "cell_type": "code",
   "execution_count": 423,
   "metadata": {
    "_uuid": "70dfc2726bd37b59666031edb07f79571a061066",
    "scrolled": true
   },
   "outputs": [],
   "source": [
    "train_features = emprestimos.columns.difference(['inadimplente'])\n",
    "train_X_y, test_X_y = train_test_split(emprestimos, test_size=0.3, random_state=42)"
   ]
  },
  {
   "cell_type": "markdown",
   "metadata": {
    "tags": []
   },
   "source": [
    "### Gerando modelo e resultados"
   ]
  },
  {
   "cell_type": "code",
   "execution_count": 424,
   "metadata": {
    "_uuid": "3d2dc72b9132a975f3c5643901478cd4ee1f3a36"
   },
   "outputs": [
    {
     "name": "stdout",
     "output_type": "stream",
     "text": [
      "Optimization terminated successfully.\n",
      "         Current function value: 0.187181\n",
      "         Iterations 8\n"
     ]
    },
    {
     "data": {
      "text/html": [
       "<table class=\"simpletable\">\n",
       "<caption>Logit Regression Results</caption>\n",
       "<tr>\n",
       "  <th>Dep. Variable:</th>     <td>inadimplente</td>   <th>  No. Observations:  </th>  <td> 77000</td> \n",
       "</tr>\n",
       "<tr>\n",
       "  <th>Model:</th>                 <td>Logit</td>      <th>  Df Residuals:      </th>  <td> 76989</td> \n",
       "</tr>\n",
       "<tr>\n",
       "  <th>Method:</th>                 <td>MLE</td>       <th>  Df Model:          </th>  <td>    10</td> \n",
       "</tr>\n",
       "<tr>\n",
       "  <th>Date:</th>            <td>Fri, 27 Aug 2021</td> <th>  Pseudo R-squ.:     </th>  <td>0.2424</td> \n",
       "</tr>\n",
       "<tr>\n",
       "  <th>Time:</th>                <td>18:44:56</td>     <th>  Log-Likelihood:    </th> <td> -14413.</td>\n",
       "</tr>\n",
       "<tr>\n",
       "  <th>converged:</th>             <td>True</td>       <th>  LL-Null:           </th> <td> -19025.</td>\n",
       "</tr>\n",
       "<tr>\n",
       "  <th>Covariance Type:</th>     <td>nonrobust</td>    <th>  LLR p-value:       </th>  <td> 0.000</td> \n",
       "</tr>\n",
       "</table>\n",
       "<table class=\"simpletable\">\n",
       "<tr>\n",
       "                    <td></td>                       <th>coef</th>     <th>std err</th>      <th>z</th>      <th>P>|z|</th>  <th>[0.025</th>    <th>0.975]</th>  \n",
       "</tr>\n",
       "<tr>\n",
       "  <th>Intercept</th>                             <td>   -3.4687</td> <td>    0.079</td> <td>  -43.825</td> <td> 0.000</td> <td>   -3.624</td> <td>   -3.314</td>\n",
       "</tr>\n",
       "<tr>\n",
       "  <th>idade</th>                                 <td>   -0.0177</td> <td>    0.001</td> <td>  -13.342</td> <td> 0.000</td> <td>   -0.020</td> <td>   -0.015</td>\n",
       "</tr>\n",
       "<tr>\n",
       "  <th>numero_de_dependentes</th>                 <td>    0.0361</td> <td>    0.015</td> <td>    2.453</td> <td> 0.014</td> <td>    0.007</td> <td>    0.065</td>\n",
       "</tr>\n",
       "<tr>\n",
       "  <th>numero_de_vezes_que_passou_60_89_dias</th> <td>    0.6174</td> <td>    0.036</td> <td>   17.074</td> <td> 0.000</td> <td>    0.547</td> <td>    0.688</td>\n",
       "</tr>\n",
       "<tr>\n",
       "  <th>numero_emprestimos_imobiliarios</th>       <td>    0.0863</td> <td>    0.019</td> <td>    4.453</td> <td> 0.000</td> <td>    0.048</td> <td>    0.124</td>\n",
       "</tr>\n",
       "<tr>\n",
       "  <th>numero_linhas_crdto_aberto</th>            <td>    0.0459</td> <td>    0.004</td> <td>   12.110</td> <td> 0.000</td> <td>    0.038</td> <td>    0.053</td>\n",
       "</tr>\n",
       "<tr>\n",
       "  <th>numero_vezes_passou_90_dias</th>           <td>    0.7697</td> <td>    0.025</td> <td>   30.874</td> <td> 0.000</td> <td>    0.721</td> <td>    0.819</td>\n",
       "</tr>\n",
       "<tr>\n",
       "  <th>razao_debito</th>                          <td>-4.181e-05</td> <td> 1.88e-05</td> <td>   -2.228</td> <td> 0.026</td> <td>-7.86e-05</td> <td>-5.04e-06</td>\n",
       "</tr>\n",
       "<tr>\n",
       "  <th>salario_mensal</th>                        <td> -3.69e-05</td> <td> 4.98e-06</td> <td>   -7.405</td> <td> 0.000</td> <td>-4.67e-05</td> <td>-2.71e-05</td>\n",
       "</tr>\n",
       "<tr>\n",
       "  <th>util_linhas_inseguras</th>                 <td>    2.0636</td> <td>    0.048</td> <td>   42.557</td> <td> 0.000</td> <td>    1.969</td> <td>    2.159</td>\n",
       "</tr>\n",
       "<tr>\n",
       "  <th>vezes_passou_de_30_59_dias</th>            <td>    0.4271</td> <td>    0.017</td> <td>   25.238</td> <td> 0.000</td> <td>    0.394</td> <td>    0.460</td>\n",
       "</tr>\n",
       "</table>"
      ],
      "text/plain": [
       "<class 'statsmodels.iolib.summary.Summary'>\n",
       "\"\"\"\n",
       "                           Logit Regression Results                           \n",
       "==============================================================================\n",
       "Dep. Variable:           inadimplente   No. Observations:                77000\n",
       "Model:                          Logit   Df Residuals:                    76989\n",
       "Method:                           MLE   Df Model:                           10\n",
       "Date:                Fri, 27 Aug 2021   Pseudo R-squ.:                  0.2424\n",
       "Time:                        18:44:56   Log-Likelihood:                -14413.\n",
       "converged:                       True   LL-Null:                       -19025.\n",
       "Covariance Type:            nonrobust   LLR p-value:                     0.000\n",
       "=========================================================================================================\n",
       "                                            coef    std err          z      P>|z|      [0.025      0.975]\n",
       "---------------------------------------------------------------------------------------------------------\n",
       "Intercept                                -3.4687      0.079    -43.825      0.000      -3.624      -3.314\n",
       "idade                                    -0.0177      0.001    -13.342      0.000      -0.020      -0.015\n",
       "numero_de_dependentes                     0.0361      0.015      2.453      0.014       0.007       0.065\n",
       "numero_de_vezes_que_passou_60_89_dias     0.6174      0.036     17.074      0.000       0.547       0.688\n",
       "numero_emprestimos_imobiliarios           0.0863      0.019      4.453      0.000       0.048       0.124\n",
       "numero_linhas_crdto_aberto                0.0459      0.004     12.110      0.000       0.038       0.053\n",
       "numero_vezes_passou_90_dias               0.7697      0.025     30.874      0.000       0.721       0.819\n",
       "razao_debito                          -4.181e-05   1.88e-05     -2.228      0.026   -7.86e-05   -5.04e-06\n",
       "salario_mensal                         -3.69e-05   4.98e-06     -7.405      0.000   -4.67e-05   -2.71e-05\n",
       "util_linhas_inseguras                     2.0636      0.048     42.557      0.000       1.969       2.159\n",
       "vezes_passou_de_30_59_dias                0.4271      0.017     25.238      0.000       0.394       0.460\n",
       "=========================================================================================================\n",
       "\"\"\""
      ]
     },
     "execution_count": 424,
     "metadata": {},
     "output_type": "execute_result"
    }
   ],
   "source": [
    "logreg = sm.logit(formula='inadimplente ~ ' + \"+\".join(train_features), data=train_X_y)\n",
    "result = logreg.fit()\n",
    "summ = result.summary()\n",
    "summ"
   ]
  },
  {
   "cell_type": "code",
   "execution_count": 425,
   "metadata": {},
   "outputs": [
    {
     "name": "stdout",
     "output_type": "stream",
     "text": [
      "PR-AUC is -> 0.37386064358599147\n"
     ]
    }
   ],
   "source": [
    "AUC = metrics.average_precision_score(train_X_y['inadimplente'], result.predict(train_X_y[train_features]))\n",
    "\n",
    "print('PR-AUC is -> ' + str(AUC))"
   ]
  },
  {
   "cell_type": "code",
   "execution_count": 426,
   "metadata": {
    "_uuid": "5673188167d209743821cb92a219e01b444826f8"
   },
   "outputs": [
    {
     "name": "stdout",
     "output_type": "stream",
     "text": [
      "Train AUC é -> 0.8528741156267109\n",
      "Test AUC é -> 0.8455877013708183\n"
     ]
    }
   ],
   "source": [
    "AUC = metrics.roc_auc_score(train_X_y['inadimplente'], result.predict(train_X_y[train_features]))\n",
    "\n",
    "print('Train AUC é -> ' + str(AUC))\n",
    "\n",
    "AUC = metrics.roc_auc_score(test_X_y['inadimplente'], result.predict(test_X_y[train_features]))\n",
    "\n",
    "print('Test AUC é -> ' + str(AUC))"
   ]
  },
  {
   "cell_type": "code",
   "execution_count": 427,
   "metadata": {
    "_uuid": "26ea2baf48c70423ce31d733b353d7c150f65107"
   },
   "outputs": [
    {
     "name": "stdout",
     "output_type": "stream",
     "text": [
      "The Gini Index for the model built on the Train Data is :  0.7057482312534218\n",
      "The Gini Index for the model built on the Test Data is :  0.6911754027416366\n"
     ]
    }
   ],
   "source": [
    "train_gini = 2*metrics.roc_auc_score(train_X_y['inadimplente'], result.predict(train_X_y[train_features])) - 1\n",
    "print(\"The Gini Index for the model built on the Train Data is : \", train_gini)\n",
    "\n",
    "test_gini = 2*metrics.roc_auc_score(test_X_y['inadimplente'], result.predict(test_X_y[train_features])) - 1\n",
    "print(\"The Gini Index for the model built on the Test Data is : \", test_gini)"
   ]
  },
  {
   "cell_type": "code",
   "execution_count": 428,
   "metadata": {},
   "outputs": [],
   "source": [
    "train_predicted_prob = pd.DataFrame(result.predict(train_X_y[train_features]))\n",
    "train_predicted_prob.columns = ['prob']\n",
    "train_actual = train_X_y['inadimplente']\n",
    "# making a DataFrame with actual and prob columns\n",
    "train_predict = pd.concat([train_actual, train_predicted_prob], axis=1)\n",
    "train_predict.columns = ['actual','prob']\n",
    "\n",
    "test_predicted_prob = pd.DataFrame(result.predict(test_X_y[train_features]))\n",
    "test_predicted_prob.columns = ['prob']\n",
    "test_actual = test_X_y['inadimplente']\n",
    "# making a DataFrame with actual and prob columns\n",
    "test_predict = pd.concat([test_actual, test_predicted_prob], axis=1)\n",
    "test_predict.columns = ['actual','prob']"
   ]
  },
  {
   "cell_type": "code",
   "execution_count": 429,
   "metadata": {
    "_uuid": "c2df5a4580e35a786bcb62ce3415149717af411a"
   },
   "outputs": [
    {
     "name": "stderr",
     "output_type": "stream",
     "text": [
      "100%|██████████████████████████████████████████████████████████████████████████████████| 50/50 [08:20<00:00, 10.02s/it]\n"
     ]
    }
   ],
   "source": [
    "## Intuition behind ROC curve - predicted probability as a tool for separating the '1's and '0's\n",
    "def cut_off_calculation(result,train_X,train_predict):\n",
    "    \n",
    "    roc_like_df = pd.DataFrame()\n",
    "    train_temp = train_predict.copy()\n",
    "    \n",
    "    for cut_off in tqdm(np.linspace(0,1,50)):\n",
    "        train_temp['cut_off'] = cut_off\n",
    "        train_temp['predicted'] = train_temp['prob'].apply(lambda x: 0.0 if x < cut_off else 1.0)\n",
    "        train_temp['tp'] = train_temp.apply(lambda x: 1.0 if x['actual']==1.0 and x['predicted']==1 else 0.0, axis=1)\n",
    "        train_temp['fp'] = train_temp.apply(lambda x: 1.0 if x['actual']==0.0 and x['predicted']==1 else 0.0, axis=1)\n",
    "        train_temp['tn'] = train_temp.apply(lambda x: 1.0 if x['actual']==0.0 and x['predicted']==0 else 0.0, axis=1)\n",
    "        train_temp['fn'] = train_temp.apply(lambda x: 1.0 if x['actual']==1.0 and x['predicted']==0 else 0.0, axis=1)\n",
    "        sensitivity = train_temp['tp'].sum() / (train_temp['tp'].sum() + train_temp['fn'].sum())\n",
    "        specificity = train_temp['tn'].sum() / (train_temp['tn'].sum() + train_temp['fp'].sum())\n",
    "        roc_like_table = pd.DataFrame([cut_off, sensitivity, specificity]).T\n",
    "        roc_like_table.columns = ['cutoff', 'sensitivity', 'specificity']\n",
    "        roc_like_df = pd.concat([roc_like_df, roc_like_table], axis=0)\n",
    "    return roc_like_df\n",
    "\n",
    "roc_like_df = cut_off_calculation(result,train_X,train_predict)"
   ]
  },
  {
   "cell_type": "code",
   "execution_count": 430,
   "metadata": {
    "_uuid": "7a335b631e95ffe386366084eb90858342458032"
   },
   "outputs": [
    {
     "data": {
      "text/html": [
       "<div>\n",
       "<style scoped>\n",
       "    .dataframe tbody tr th:only-of-type {\n",
       "        vertical-align: middle;\n",
       "    }\n",
       "\n",
       "    .dataframe tbody tr th {\n",
       "        vertical-align: top;\n",
       "    }\n",
       "\n",
       "    .dataframe thead th {\n",
       "        text-align: right;\n",
       "    }\n",
       "</style>\n",
       "<table border=\"1\" class=\"dataframe\">\n",
       "  <thead>\n",
       "    <tr style=\"text-align: right;\">\n",
       "      <th></th>\n",
       "      <th>cutoff</th>\n",
       "      <th>sensitivity</th>\n",
       "      <th>specificity</th>\n",
       "      <th>total</th>\n",
       "    </tr>\n",
       "  </thead>\n",
       "  <tbody>\n",
       "    <tr>\n",
       "      <th>0</th>\n",
       "      <td>0.06</td>\n",
       "      <td>0.78</td>\n",
       "      <td>0.77</td>\n",
       "      <td>1.55</td>\n",
       "    </tr>\n",
       "  </tbody>\n",
       "</table>\n",
       "</div>"
      ],
      "text/plain": [
       "   cutoff  sensitivity  specificity  total\n",
       "0    0.06         0.78         0.77   1.55"
      ]
     },
     "execution_count": 430,
     "metadata": {},
     "output_type": "execute_result"
    }
   ],
   "source": [
    "## Finding ideal cut-off for checking if this remains same in OOS validation\n",
    "roc_like_df['total'] = roc_like_df['sensitivity'] + roc_like_df['specificity']\n",
    "roc_like_df[roc_like_df['total']==roc_like_df['total'].max()]"
   ]
  },
  {
   "cell_type": "code",
   "execution_count": 431,
   "metadata": {
    "_uuid": "5e7aba9e1b6f80d08dab6ef26fd9e25cf3cbdb88"
   },
   "outputs": [
    {
     "data": {
      "image/png": "[encoded data removed]",
      "text/plain": [
       "<Figure size 720x540 with 2 Axes>"
      ]
     },
     "metadata": {
      "needs_background": "light"
     },
     "output_type": "display_data"
    }
   ],
   "source": [
    "test_predict['predicted'] = test_predict['prob'].apply(lambda x: 1 if x > 0.06 else 0)\n",
    "sns.heatmap(pd.crosstab(test_predict['actual'], test_predict['predicted'], normalize='index'), annot=True, cmap='PuBu')\n",
    "plt.title('Test Data Confusion Matrix')\n",
    "plt.show()\n",
    "\n",
    "train_predict['predicted'] = train_predict['prob'].apply(lambda x: 1 if x > 0.06 else 0)\n"
   ]
  },
  {
   "cell_type": "code",
   "execution_count": 432,
   "metadata": {
    "_uuid": "1ea77b47a653820a14de72749289e0458d65f684",
    "scrolled": true
   },
   "outputs": [
    {
     "name": "stdout",
     "output_type": "stream",
     "text": [
      "A pontuação geral de precisão para a Train Data é:  0.7624805194805194\n",
      "A pontuação geral de precisão para a Test Data é:  0.760969696969697\n"
     ]
    }
   ],
   "source": [
    "print(\"A pontuação geral de precisão para a Train Data é: \", metrics.accuracy_score(train_predict.actual, train_predict.predicted))\n",
    "print(\"A pontuação geral de precisão para a Test Data é: \", metrics.accuracy_score(test_predict.actual, test_predict.predicted))"
   ]
  },
  {
   "cell_type": "markdown",
   "metadata": {},
   "source": [
    "**Pouca diferença entre train e test nos indica que não há overfiting!**"
   ]
  },
  {
   "cell_type": "markdown",
   "metadata": {
    "_uuid": "59b549dc6dd55ab101f7fc5654aab620276a46e6"
   },
   "source": [
    "#### Decile Analysis"
   ]
  },
  {
   "cell_type": "code",
   "execution_count": 433,
   "metadata": {
    "_uuid": "2a1badbae86cd5886708114a9427d59ef48542b6"
   },
   "outputs": [
    {
     "data": {
      "text/html": [
       "<div>\n",
       "<style scoped>\n",
       "    .dataframe tbody tr th:only-of-type {\n",
       "        vertical-align: middle;\n",
       "    }\n",
       "\n",
       "    .dataframe tbody tr th {\n",
       "        vertical-align: top;\n",
       "    }\n",
       "\n",
       "    .dataframe thead th {\n",
       "        text-align: right;\n",
       "    }\n",
       "</style>\n",
       "<table border=\"1\" class=\"dataframe\">\n",
       "  <thead>\n",
       "    <tr style=\"text-align: right;\">\n",
       "      <th></th>\n",
       "      <th>actual</th>\n",
       "      <th>prob</th>\n",
       "      <th>predicted</th>\n",
       "      <th>Deciles</th>\n",
       "    </tr>\n",
       "  </thead>\n",
       "  <tbody>\n",
       "    <tr>\n",
       "      <th>19925</th>\n",
       "      <td>0</td>\n",
       "      <td>0.03</td>\n",
       "      <td>0</td>\n",
       "      <td>5</td>\n",
       "    </tr>\n",
       "    <tr>\n",
       "      <th>48272</th>\n",
       "      <td>0</td>\n",
       "      <td>0.03</td>\n",
       "      <td>0</td>\n",
       "      <td>5</td>\n",
       "    </tr>\n",
       "    <tr>\n",
       "      <th>25771</th>\n",
       "      <td>0</td>\n",
       "      <td>0.04</td>\n",
       "      <td>0</td>\n",
       "      <td>6</td>\n",
       "    </tr>\n",
       "    <tr>\n",
       "      <th>107971</th>\n",
       "      <td>0</td>\n",
       "      <td>0.07</td>\n",
       "      <td>1</td>\n",
       "      <td>7</td>\n",
       "    </tr>\n",
       "    <tr>\n",
       "      <th>51063</th>\n",
       "      <td>0</td>\n",
       "      <td>0.01</td>\n",
       "      <td>0</td>\n",
       "      <td>0</td>\n",
       "    </tr>\n",
       "  </tbody>\n",
       "</table>\n",
       "</div>"
      ],
      "text/plain": [
       "        actual  prob  predicted  Deciles\n",
       "19925        0  0.03          0        5\n",
       "48272        0  0.03          0        5\n",
       "25771        0  0.04          0        6\n",
       "107971       0  0.07          1        7\n",
       "51063        0  0.01          0        0"
      ]
     },
     "execution_count": 433,
     "metadata": {},
     "output_type": "execute_result"
    }
   ],
   "source": [
    "train_predict['Deciles']=pd.qcut(train_predict['prob'],10, labels=False)\n",
    "#test['Deciles']=pd.qcut(test['prob'],10, labels=False)\n",
    "train_predict.head()"
   ]
  },
  {
   "cell_type": "code",
   "execution_count": 434,
   "metadata": {
    "_uuid": "22290836e21916c07f30fe3cd21c0d41777bbf51"
   },
   "outputs": [
    {
     "data": {
      "text/html": [
       "<div>\n",
       "<style scoped>\n",
       "    .dataframe tbody tr th:only-of-type {\n",
       "        vertical-align: middle;\n",
       "    }\n",
       "\n",
       "    .dataframe tbody tr th {\n",
       "        vertical-align: top;\n",
       "    }\n",
       "\n",
       "    .dataframe thead th {\n",
       "        text-align: right;\n",
       "    }\n",
       "</style>\n",
       "<table border=\"1\" class=\"dataframe\">\n",
       "  <thead>\n",
       "    <tr style=\"text-align: right;\">\n",
       "      <th></th>\n",
       "      <th>Deciles</th>\n",
       "      <th>actual</th>\n",
       "    </tr>\n",
       "    <tr>\n",
       "      <th>Deciles</th>\n",
       "      <th></th>\n",
       "      <th></th>\n",
       "    </tr>\n",
       "  </thead>\n",
       "  <tbody>\n",
       "    <tr>\n",
       "      <th>9</th>\n",
       "      <td>69300</td>\n",
       "      <td>2729</td>\n",
       "    </tr>\n",
       "    <tr>\n",
       "      <th>8</th>\n",
       "      <td>61600</td>\n",
       "      <td>877</td>\n",
       "    </tr>\n",
       "    <tr>\n",
       "      <th>7</th>\n",
       "      <td>53900</td>\n",
       "      <td>572</td>\n",
       "    </tr>\n",
       "    <tr>\n",
       "      <th>6</th>\n",
       "      <td>46200</td>\n",
       "      <td>363</td>\n",
       "    </tr>\n",
       "    <tr>\n",
       "      <th>5</th>\n",
       "      <td>38500</td>\n",
       "      <td>244</td>\n",
       "    </tr>\n",
       "    <tr>\n",
       "      <th>4</th>\n",
       "      <td>30800</td>\n",
       "      <td>148</td>\n",
       "    </tr>\n",
       "    <tr>\n",
       "      <th>3</th>\n",
       "      <td>23100</td>\n",
       "      <td>94</td>\n",
       "    </tr>\n",
       "    <tr>\n",
       "      <th>2</th>\n",
       "      <td>15400</td>\n",
       "      <td>83</td>\n",
       "    </tr>\n",
       "    <tr>\n",
       "      <th>1</th>\n",
       "      <td>7700</td>\n",
       "      <td>53</td>\n",
       "    </tr>\n",
       "    <tr>\n",
       "      <th>0</th>\n",
       "      <td>0</td>\n",
       "      <td>33</td>\n",
       "    </tr>\n",
       "  </tbody>\n",
       "</table>\n",
       "</div>"
      ],
      "text/plain": [
       "         Deciles  actual\n",
       "Deciles                 \n",
       "9          69300    2729\n",
       "8          61600     877\n",
       "7          53900     572\n",
       "6          46200     363\n",
       "5          38500     244\n",
       "4          30800     148\n",
       "3          23100      94\n",
       "2          15400      83\n",
       "1           7700      53\n",
       "0              0      33"
      ]
     },
     "execution_count": 434,
     "metadata": {},
     "output_type": "execute_result"
    }
   ],
   "source": [
    "df = train_predict[['Deciles','actual']].groupby(train_predict.Deciles).sum().sort_index(ascending=False)\n",
    "df"
   ]
  },
  {
   "cell_type": "markdown",
   "metadata": {
    "_uuid": "a99938fa56480eec4bd0278b7a54cd4cfcbcf74f"
   },
   "source": [
    "O modelo de Regressão Logística parece interpretar bem o problema proposto. Métricas como **AUC, Overral Score, Confusion Matrix** e a **Decile Analysis** me indicam que o modelo performa bem, porém, como dito préviamente, o dataset está desbalanceado, e acho que vale a pena balanceá-lo para descobrir se conseguimos algum ganho na **AUC**. Caso não haja ganho, procurarei modelos preditivos diferentes com melhores métricas.\n",
    "\n",
    "-----------"
   ]
  },
  {
   "cell_type": "markdown",
   "metadata": {
    "_uuid": "d42fbb81796183502ea7fe37f3a5f310d55a0bbf",
    "tags": []
   },
   "source": [
    "## 2. Regressão logística via modelo estatístico com o data set balanceado\n",
    "\n",
    "Não é sempre que dados desbalanceados apresentam um problema para nosso modelo, mas nesse caso específico queremos melhorar a previsão da condição rara no dados - o inadimplente - e para isso acredito que ao balancear o conjunto de dados eu talvez obtenha melhores resultados\n"
   ]
  },
  {
   "cell_type": "code",
   "execution_count": 435,
   "metadata": {},
   "outputs": [],
   "source": [
    "from imblearn.over_sampling import SMOTE\n",
    "from imblearn.under_sampling import RandomUnderSampler\n",
    "from imblearn.pipeline import Pipeline \n",
    "\n",
    "from collections import Counter\n"
   ]
  },
  {
   "cell_type": "markdown",
   "metadata": {},
   "source": [
    "Para performar o balanceamento utilizarei como base a função **SMOTE**. \n",
    "\n",
    "Com base em sugestão do paper original a apresentar a função, combinarei o **oversample** de inadimplentes utilizando o SMOTE com um **undersample** dos bons pagadores.\n",
    "\n",
    "Primeiro farei o **oversample** até os inadimplentes serem **10%** da base, e depois farei o **undersample** para que bons pagadores sejam **50%** mais frequentes que inadimplentes"
   ]
  },
  {
   "cell_type": "markdown",
   "metadata": {
    "tags": []
   },
   "source": [
    "#### Dividindo train e test e realizando o balanceamento"
   ]
  },
  {
   "cell_type": "code",
   "execution_count": 499,
   "metadata": {},
   "outputs": [],
   "source": [
    "train_features = emprestimos.columns.difference(['inadimplente'])\n",
    "train_X_y, test_X_y = train_test_split(emprestimos, test_size=0.3, random_state=42)"
   ]
  },
  {
   "cell_type": "code",
   "execution_count": 500,
   "metadata": {
    "scrolled": true
   },
   "outputs": [
    {
     "name": "stdout",
     "output_type": "stream",
     "text": [
      "Previous Counter({0: 71804, 1: 5196})\n",
      "New Counter({0: 14360, 1: 7180})\n"
     ]
    }
   ],
   "source": [
    "# transformar o data set\n",
    "over = SMOTE(sampling_strategy=0.1, random_state=42)\n",
    "under = RandomUnderSampler(sampling_strategy=0.5, random_state=42)\n",
    "\n",
    "steps = [('o', over), ('u', under)]\n",
    "pipeline = Pipeline(steps=steps)\n",
    "\n",
    "X = train_X_y.drop(labels='inadimplente', axis=1)\n",
    "y =  train_X_y['inadimplente']\n",
    "counter = Counter(y)\n",
    "print('Previous', counter)\n",
    "X, y = pipeline.fit_resample(X, y)\n",
    "\n",
    "counter = Counter(y)\n",
    "print('New' ,counter)"
   ]
  },
  {
   "cell_type": "markdown",
   "metadata": {},
   "source": [
    "-----------------------\n"
   ]
  },
  {
   "cell_type": "markdown",
   "metadata": {},
   "source": [
    "### Gerando Modelo e resultados "
   ]
  },
  {
   "cell_type": "code",
   "execution_count": 501,
   "metadata": {},
   "outputs": [],
   "source": [
    "train_y = pd.DataFrame(y, columns=['inadimplente'])\n",
    "train_X_y = train_y.merge(X, how='left', left_index=True, right_index=True)"
   ]
  },
  {
   "cell_type": "code",
   "execution_count": 502,
   "metadata": {
    "_uuid": "3d2dc72b9132a975f3c5643901478cd4ee1f3a36"
   },
   "outputs": [
    {
     "name": "stdout",
     "output_type": "stream",
     "text": [
      "Optimization terminated successfully.\n",
      "         Current function value: 0.458286\n",
      "         Iterations 6\n"
     ]
    },
    {
     "data": {
      "text/html": [
       "<table class=\"simpletable\">\n",
       "<caption>Logit Regression Results</caption>\n",
       "<tr>\n",
       "  <th>Dep. Variable:</th>     <td>inadimplente</td>   <th>  No. Observations:  </th>  <td> 21540</td> \n",
       "</tr>\n",
       "<tr>\n",
       "  <th>Model:</th>                 <td>Logit</td>      <th>  Df Residuals:      </th>  <td> 21529</td> \n",
       "</tr>\n",
       "<tr>\n",
       "  <th>Method:</th>                 <td>MLE</td>       <th>  Df Model:          </th>  <td>    10</td> \n",
       "</tr>\n",
       "<tr>\n",
       "  <th>Date:</th>            <td>Fri, 27 Aug 2021</td> <th>  Pseudo R-squ.:     </th>  <td>0.2800</td> \n",
       "</tr>\n",
       "<tr>\n",
       "  <th>Time:</th>                <td>19:48:30</td>     <th>  Log-Likelihood:    </th> <td> -9871.5</td>\n",
       "</tr>\n",
       "<tr>\n",
       "  <th>converged:</th>             <td>True</td>       <th>  LL-Null:           </th> <td> -13711.</td>\n",
       "</tr>\n",
       "<tr>\n",
       "  <th>Covariance Type:</th>     <td>nonrobust</td>    <th>  LLR p-value:       </th>  <td> 0.000</td> \n",
       "</tr>\n",
       "</table>\n",
       "<table class=\"simpletable\">\n",
       "<tr>\n",
       "                    <td></td>                       <th>coef</th>     <th>std err</th>      <th>z</th>      <th>P>|z|</th>  <th>[0.025</th>    <th>0.975]</th>  \n",
       "</tr>\n",
       "<tr>\n",
       "  <th>Intercept</th>                             <td>   -1.6008</td> <td>    0.085</td> <td>  -18.863</td> <td> 0.000</td> <td>   -1.767</td> <td>   -1.434</td>\n",
       "</tr>\n",
       "<tr>\n",
       "  <th>idade</th>                                 <td>   -0.0197</td> <td>    0.001</td> <td>  -13.918</td> <td> 0.000</td> <td>   -0.022</td> <td>   -0.017</td>\n",
       "</tr>\n",
       "<tr>\n",
       "  <th>numero_de_dependentes</th>                 <td>    0.0487</td> <td>    0.017</td> <td>    2.948</td> <td> 0.003</td> <td>    0.016</td> <td>    0.081</td>\n",
       "</tr>\n",
       "<tr>\n",
       "  <th>numero_de_vezes_que_passou_60_89_dias</th> <td>    0.6880</td> <td>    0.053</td> <td>   12.917</td> <td> 0.000</td> <td>    0.584</td> <td>    0.792</td>\n",
       "</tr>\n",
       "<tr>\n",
       "  <th>numero_emprestimos_imobiliarios</th>       <td>   -0.0248</td> <td>    0.021</td> <td>   -1.171</td> <td> 0.242</td> <td>   -0.066</td> <td>    0.017</td>\n",
       "</tr>\n",
       "<tr>\n",
       "  <th>numero_linhas_crdto_aberto</th>            <td>    0.0487</td> <td>    0.004</td> <td>   11.763</td> <td> 0.000</td> <td>    0.041</td> <td>    0.057</td>\n",
       "</tr>\n",
       "<tr>\n",
       "  <th>numero_vezes_passou_90_dias</th>           <td>    0.8870</td> <td>    0.041</td> <td>   21.879</td> <td> 0.000</td> <td>    0.808</td> <td>    0.966</td>\n",
       "</tr>\n",
       "<tr>\n",
       "  <th>razao_debito</th>                          <td>-4.274e-06</td> <td> 1.99e-05</td> <td>   -0.215</td> <td> 0.830</td> <td>-4.33e-05</td> <td> 3.48e-05</td>\n",
       "</tr>\n",
       "<tr>\n",
       "  <th>salario_mensal</th>                        <td>-1.705e-05</td> <td>  5.1e-06</td> <td>   -3.345</td> <td> 0.001</td> <td> -2.7e-05</td> <td>-7.06e-06</td>\n",
       "</tr>\n",
       "<tr>\n",
       "  <th>util_linhas_inseguras</th>                 <td>    2.1893</td> <td>    0.051</td> <td>   42.652</td> <td> 0.000</td> <td>    2.089</td> <td>    2.290</td>\n",
       "</tr>\n",
       "<tr>\n",
       "  <th>vezes_passou_de_30_59_dias</th>            <td>    0.5216</td> <td>    0.024</td> <td>   22.170</td> <td> 0.000</td> <td>    0.475</td> <td>    0.568</td>\n",
       "</tr>\n",
       "</table>"
      ],
      "text/plain": [
       "<class 'statsmodels.iolib.summary.Summary'>\n",
       "\"\"\"\n",
       "                           Logit Regression Results                           \n",
       "==============================================================================\n",
       "Dep. Variable:           inadimplente   No. Observations:                21540\n",
       "Model:                          Logit   Df Residuals:                    21529\n",
       "Method:                           MLE   Df Model:                           10\n",
       "Date:                Fri, 27 Aug 2021   Pseudo R-squ.:                  0.2800\n",
       "Time:                        19:48:30   Log-Likelihood:                -9871.5\n",
       "converged:                       True   LL-Null:                       -13711.\n",
       "Covariance Type:            nonrobust   LLR p-value:                     0.000\n",
       "=========================================================================================================\n",
       "                                            coef    std err          z      P>|z|      [0.025      0.975]\n",
       "---------------------------------------------------------------------------------------------------------\n",
       "Intercept                                -1.6008      0.085    -18.863      0.000      -1.767      -1.434\n",
       "idade                                    -0.0197      0.001    -13.918      0.000      -0.022      -0.017\n",
       "numero_de_dependentes                     0.0487      0.017      2.948      0.003       0.016       0.081\n",
       "numero_de_vezes_que_passou_60_89_dias     0.6880      0.053     12.917      0.000       0.584       0.792\n",
       "numero_emprestimos_imobiliarios          -0.0248      0.021     -1.171      0.242      -0.066       0.017\n",
       "numero_linhas_crdto_aberto                0.0487      0.004     11.763      0.000       0.041       0.057\n",
       "numero_vezes_passou_90_dias               0.8870      0.041     21.879      0.000       0.808       0.966\n",
       "razao_debito                          -4.274e-06   1.99e-05     -0.215      0.830   -4.33e-05    3.48e-05\n",
       "salario_mensal                        -1.705e-05    5.1e-06     -3.345      0.001    -2.7e-05   -7.06e-06\n",
       "util_linhas_inseguras                     2.1893      0.051     42.652      0.000       2.089       2.290\n",
       "vezes_passou_de_30_59_dias                0.5216      0.024     22.170      0.000       0.475       0.568\n",
       "=========================================================================================================\n",
       "\"\"\""
      ]
     },
     "execution_count": 502,
     "metadata": {},
     "output_type": "execute_result"
    }
   ],
   "source": [
    "logreg = sm.logit(formula='inadimplente ~ ' + \"+\".join(train_features), data=train_X_y)\n",
    "result = logreg.fit()\n",
    "summ = result.summary()\n",
    "summ"
   ]
  },
  {
   "cell_type": "code",
   "execution_count": 503,
   "metadata": {},
   "outputs": [
    {
     "name": "stdout",
     "output_type": "stream",
     "text": [
      "PR-AUC is -> 0.3617625514827067\n"
     ]
    }
   ],
   "source": [
    "AUC = metrics.average_precision_score(test_X_y['inadimplente'], result.predict(test_X_y[train_features]))\n",
    "\n",
    "print('PR-AUC is -> ' + str(AUC))"
   ]
  },
  {
   "cell_type": "code",
   "execution_count": 504,
   "metadata": {
    "_uuid": "5673188167d209743821cb92a219e01b444826f8"
   },
   "outputs": [
    {
     "name": "stdout",
     "output_type": "stream",
     "text": [
      "Train AUC é -> 0.847240943195661\n",
      "Test AUC é -> 0.8460855102544851\n"
     ]
    }
   ],
   "source": [
    "AUC = metrics.roc_auc_score(train_X_y['inadimplente'], result.predict(train_X_y[train_features]))\n",
    "\n",
    "print('Train AUC é -> ' + str(AUC))\n",
    "\n",
    "AUC = metrics.roc_auc_score(test_X_y['inadimplente'], result.predict(test_X_y[train_features]))\n",
    "\n",
    "print('Test AUC é -> ' + str(AUC))"
   ]
  },
  {
   "cell_type": "code",
   "execution_count": 505,
   "metadata": {
    "_uuid": "26ea2baf48c70423ce31d733b353d7c150f65107"
   },
   "outputs": [
    {
     "name": "stdout",
     "output_type": "stream",
     "text": [
      "The Gini Index for the model built on the Train Data is :  0.694481886391322\n",
      "The Gini Index for the model built on the Test Data is :  0.6921710205089702\n"
     ]
    }
   ],
   "source": [
    "train_gini = 2*metrics.roc_auc_score(train_X_y['inadimplente'], result.predict(train_X_y[train_features])) - 1\n",
    "print(\"The Gini Index for the model built on the Train Data is : \", train_gini)\n",
    "\n",
    "test_gini = 2*metrics.roc_auc_score(test_X_y['inadimplente'], result.predict(test_X_y[train_features])) - 1\n",
    "print(\"The Gini Index for the model built on the Test Data is : \", test_gini)"
   ]
  },
  {
   "cell_type": "code",
   "execution_count": 506,
   "metadata": {
    "_uuid": "c2df5a4580e35a786bcb62ce3415149717af411a"
   },
   "outputs": [
    {
     "name": "stderr",
     "output_type": "stream",
     "text": [
      "100%|██████████████████████████████████████████████████████████████████████████████████| 50/50 [02:14<00:00,  2.69s/it]\n"
     ]
    }
   ],
   "source": [
    "train_predicted_prob = pd.DataFrame(result.predict(train_X_y[train_features]))\n",
    "train_predicted_prob.columns = ['prob']\n",
    "train_actual = train_X_y['inadimplente']\n",
    "# making a DataFrame with actual and prob columns\n",
    "train_predict = pd.concat([train_actual, train_predicted_prob], axis=1)\n",
    "train_predict.columns = ['actual','prob']\n",
    "\n",
    "test_predicted_prob = pd.DataFrame(result.predict(test_X_y[train_features]))\n",
    "test_predicted_prob.columns = ['prob']\n",
    "test_actual = test_X_y['inadimplente']\n",
    "# making a DataFrame with actual and prob columns\n",
    "test_predict = pd.concat([test_actual, test_predicted_prob], axis=1)\n",
    "test_predict.columns = ['actual','prob']\n",
    "\n",
    "## Intuition behind ROC curve - predicted probability as a tool for separating the '1's and '0's\n",
    "def cut_off_calculation(result,train_X,train_predict):\n",
    "    \n",
    "    roc_like_df = pd.DataFrame()\n",
    "    train_temp = train_predict.copy()\n",
    "\n",
    "    for cut_off in  tqdm(np.linspace(0,1,50)):\n",
    "        train_temp['cut_off'] = cut_off\n",
    "        train_temp['predicted'] = train_temp['prob'].apply(lambda x: 0.0 if x < cut_off else 1.0)\n",
    "        train_temp['tp'] = train_temp.apply(lambda x: 1.0 if x['actual']==1.0 and x['predicted']==1 else 0.0, axis=1)\n",
    "        train_temp['fp'] = train_temp.apply(lambda x: 1.0 if x['actual']==0.0 and x['predicted']==1 else 0.0, axis=1)\n",
    "        train_temp['tn'] = train_temp.apply(lambda x: 1.0 if x['actual']==0.0 and x['predicted']==0 else 0.0, axis=1)\n",
    "        train_temp['fn'] = train_temp.apply(lambda x: 1.0 if x['actual']==1.0 and x['predicted']==0 else 0.0, axis=1)\n",
    "        sensitivity = train_temp['tp'].sum() / (train_temp['tp'].sum() + train_temp['fn'].sum())\n",
    "        specificity = train_temp['tn'].sum() / (train_temp['tn'].sum() + train_temp['fp'].sum())\n",
    "        roc_like_table = pd.DataFrame([cut_off, sensitivity, specificity]).T\n",
    "        roc_like_table.columns = ['cutoff', 'sensitivity', 'specificity']\n",
    "        roc_like_df = pd.concat([roc_like_df, roc_like_table], axis=0)\n",
    "    return roc_like_df\n",
    "\n",
    "roc_like_df = cut_off_calculation(result,train_X,train_predict)"
   ]
  },
  {
   "cell_type": "code",
   "execution_count": 507,
   "metadata": {
    "_uuid": "7a335b631e95ffe386366084eb90858342458032"
   },
   "outputs": [
    {
     "data": {
      "text/html": [
       "<div>\n",
       "<style scoped>\n",
       "    .dataframe tbody tr th:only-of-type {\n",
       "        vertical-align: middle;\n",
       "    }\n",
       "\n",
       "    .dataframe tbody tr th {\n",
       "        vertical-align: top;\n",
       "    }\n",
       "\n",
       "    .dataframe thead th {\n",
       "        text-align: right;\n",
       "    }\n",
       "</style>\n",
       "<table border=\"1\" class=\"dataframe\">\n",
       "  <thead>\n",
       "    <tr style=\"text-align: right;\">\n",
       "      <th></th>\n",
       "      <th>cutoff</th>\n",
       "      <th>sensitivity</th>\n",
       "      <th>specificity</th>\n",
       "      <th>total</th>\n",
       "    </tr>\n",
       "  </thead>\n",
       "  <tbody>\n",
       "    <tr>\n",
       "      <th>0</th>\n",
       "      <td>0.29</td>\n",
       "      <td>0.79</td>\n",
       "      <td>0.75</td>\n",
       "      <td>1.54</td>\n",
       "    </tr>\n",
       "  </tbody>\n",
       "</table>\n",
       "</div>"
      ],
      "text/plain": [
       "   cutoff  sensitivity  specificity  total\n",
       "0    0.29         0.79         0.75   1.54"
      ]
     },
     "execution_count": 507,
     "metadata": {},
     "output_type": "execute_result"
    }
   ],
   "source": [
    "## Finding ideal cut-off for checking if this remains same in OOS validation\n",
    "roc_like_df['total'] = roc_like_df['sensitivity'] + roc_like_df['specificity']\n",
    "roc_like_df[roc_like_df['total']==roc_like_df['total'].max()]"
   ]
  },
  {
   "cell_type": "code",
   "execution_count": 511,
   "metadata": {
    "_uuid": "5e7aba9e1b6f80d08dab6ef26fd9e25cf3cbdb88"
   },
   "outputs": [
    {
     "data": {
      "image/png": "[encoded data removed]",
      "text/plain": [
       "<Figure size 720x540 with 2 Axes>"
      ]
     },
     "metadata": {
      "needs_background": "light"
     },
     "output_type": "display_data"
    }
   ],
   "source": [
    "test_predict['predicted'] = test_predict['prob'].apply(lambda x: 1 if x > 0.29 else 0)\n",
    "sns.heatmap(pd.crosstab(test_predict['actual'], test_predict['predicted'], normalize='index'), annot=True, cmap='PuBu')\n",
    "plt.title('Test Data Confusion Matrix')\n",
    "plt.show()\n",
    "\n",
    "train_predict['predicted'] = train_predict['prob'].apply(lambda x: 1 if x > 0.29 else 0)\n"
   ]
  },
  {
   "cell_type": "code",
   "execution_count": 512,
   "metadata": {
    "_uuid": "1ea77b47a653820a14de72749289e0458d65f684",
    "scrolled": true,
    "tags": []
   },
   "outputs": [
    {
     "name": "stdout",
     "output_type": "stream",
     "text": [
      "A pontuação geral de precisão para a Train Data é:  0.7624883936861653\n",
      "A pontuação geral de precisão para a Test Data é:  0.7492727272727273\n"
     ]
    }
   ],
   "source": [
    "print(\"A pontuação geral de precisão para a Train Data é: \", metrics.accuracy_score(train_predict.actual, train_predict.predicted))\n",
    "print(\"A pontuação geral de precisão para a Test Data é: \", metrics.accuracy_score(test_predict.actual, test_predict.predicted))"
   ]
  },
  {
   "cell_type": "markdown",
   "metadata": {},
   "source": [
    "Ao compararmos a ***AUC(Area under the curve)*** percebemos que o modelo **balanceado** performa **levemente melhor** que o modelo **não balanceado**. Por conta disso considerarei, por enquanto, o **modelo de regressão logística balanceado** como o a **melhor opção**.\n",
    "\n",
    "---------"
   ]
  },
  {
   "cell_type": "markdown",
   "metadata": {},
   "source": [
    "**O modelo baseado em regressão logística até apresenta boa performance. Mas será que seríamos capazes de alcançar resultados ainda mais acurados? Para descobrir utilizarei a biblioteca lazy predict para descobrir quais modelos se encaixam melhor em nosso problema.**"
   ]
  },
  {
   "cell_type": "markdown",
   "metadata": {
    "tags": []
   },
   "source": [
    "## 3. Encontrando melhores modelos"
   ]
  },
  {
   "cell_type": "code",
   "execution_count": 150,
   "metadata": {},
   "outputs": [],
   "source": [
    "from lazypredict.Supervised import LazyClassifier\n",
    "from sklearn.utils import shuffle\n",
    "import numpy as np\n",
    "\n",
    "from imblearn.over_sampling import SMOTE\n",
    "from imblearn.under_sampling import RandomUnderSampler\n",
    "from imblearn.pipeline import Pipeline \n",
    "\n",
    "from collections import Counter"
   ]
  },
  {
   "cell_type": "code",
   "execution_count": 151,
   "metadata": {},
   "outputs": [],
   "source": [
    "train_features = emprestimos.columns.difference(['inadimplente'])\n",
    "train_X_y, test_X_y = train_test_split(emprestimos, test_size=0.3, random_state=42)"
   ]
  },
  {
   "cell_type": "code",
   "execution_count": 152,
   "metadata": {},
   "outputs": [],
   "source": [
    "train_y = train_X_y['inadimplente']\n",
    "train_X = train_X_y[train_features]\n",
    "\n",
    "test_y = test_X_y['inadimplente']\n",
    "test_X = test_X_y[train_features]\n"
   ]
  },
  {
   "cell_type": "code",
   "execution_count": 220,
   "metadata": {},
   "outputs": [
    {
     "name": "stdout",
     "output_type": "stream",
     "text": [
      "Antes: Counter({0: 71804, 1: 5196})\n",
      "Agora: Counter({0: 10392, 1: 5196})\n"
     ]
    }
   ],
   "source": [
    "# reduzindo o data set por undersampling para otimizar o desempenho do lazy predict\n",
    "under = RandomUnderSampler(sampling_strategy=0.5)\n",
    "\n",
    "steps = [('u', under)]\n",
    "pipeline = Pipeline(steps=steps)\n",
    "\n",
    "counter = Counter(train_y)\n",
    "print('Antes:', counter)\n",
    "train_X, train_y = pipeline.fit_resample(train_X, train_y)\n",
    "\n",
    "counter = Counter(train_y)\n",
    "print('Agora:',counter)"
   ]
  },
  {
   "cell_type": "code",
   "execution_count": 157,
   "metadata": {
    "tags": []
   },
   "outputs": [],
   "source": [
    "### fitting data in LazyRegressor because here we are solving Regression use case. \n",
    "clf = LazyClassifier(verbose=0,ignore_warnings=True, custom_metric=None, predictions=True)"
   ]
  },
  {
   "cell_type": "code",
   "execution_count": 158,
   "metadata": {
    "tags": []
   },
   "outputs": [
    {
     "name": "stderr",
     "output_type": "stream",
     "text": [
      "100%|██████████████████████████████████████████████████████████████████████████████████| 29/29 [20:35<00:00, 42.61s/it]\n"
     ]
    }
   ],
   "source": [
    "### fitting data in LazyClassifier\n",
    "models, lazy_predictions = clf.fit(train_X, test_X, train_y, test_y)\n",
    "### lets check which model did better on Breast Cancer data set\n"
   ]
  },
  {
   "cell_type": "code",
   "execution_count": 174,
   "metadata": {},
   "outputs": [
    {
     "data": {
      "text/html": [
       "<div>\n",
       "<style scoped>\n",
       "    .dataframe tbody tr th:only-of-type {\n",
       "        vertical-align: middle;\n",
       "    }\n",
       "\n",
       "    .dataframe tbody tr th {\n",
       "        vertical-align: top;\n",
       "    }\n",
       "\n",
       "    .dataframe thead th {\n",
       "        text-align: right;\n",
       "    }\n",
       "</style>\n",
       "<table border=\"1\" class=\"dataframe\">\n",
       "  <thead>\n",
       "    <tr style=\"text-align: right;\">\n",
       "      <th></th>\n",
       "      <th>Accuracy</th>\n",
       "      <th>Balanced Accuracy</th>\n",
       "      <th>ROC AUC</th>\n",
       "      <th>F1 Score</th>\n",
       "      <th>Time Taken</th>\n",
       "    </tr>\n",
       "    <tr>\n",
       "      <th>Model</th>\n",
       "      <th></th>\n",
       "      <th></th>\n",
       "      <th></th>\n",
       "      <th></th>\n",
       "      <th></th>\n",
       "    </tr>\n",
       "  </thead>\n",
       "  <tbody>\n",
       "    <tr>\n",
       "      <th>LGBMClassifier</th>\n",
       "      <td>0.87</td>\n",
       "      <td>0.77</td>\n",
       "      <td>0.77</td>\n",
       "      <td>0.89</td>\n",
       "      <td>1.11</td>\n",
       "    </tr>\n",
       "    <tr>\n",
       "      <th>NearestCentroid</th>\n",
       "      <td>0.84</td>\n",
       "      <td>0.76</td>\n",
       "      <td>0.76</td>\n",
       "      <td>0.87</td>\n",
       "      <td>0.53</td>\n",
       "    </tr>\n",
       "    <tr>\n",
       "      <th>RandomForestClassifier</th>\n",
       "      <td>0.87</td>\n",
       "      <td>0.76</td>\n",
       "      <td>0.76</td>\n",
       "      <td>0.89</td>\n",
       "      <td>4.25</td>\n",
       "    </tr>\n",
       "    <tr>\n",
       "      <th>XGBClassifier</th>\n",
       "      <td>0.86</td>\n",
       "      <td>0.75</td>\n",
       "      <td>0.75</td>\n",
       "      <td>0.89</td>\n",
       "      <td>2.48</td>\n",
       "    </tr>\n",
       "    <tr>\n",
       "      <th>BernoulliNB</th>\n",
       "      <td>0.87</td>\n",
       "      <td>0.75</td>\n",
       "      <td>0.75</td>\n",
       "      <td>0.89</td>\n",
       "      <td>0.12</td>\n",
       "    </tr>\n",
       "    <tr>\n",
       "      <th>ExtraTreesClassifier</th>\n",
       "      <td>0.86</td>\n",
       "      <td>0.75</td>\n",
       "      <td>0.75</td>\n",
       "      <td>0.89</td>\n",
       "      <td>2.89</td>\n",
       "    </tr>\n",
       "    <tr>\n",
       "      <th>SVC</th>\n",
       "      <td>0.89</td>\n",
       "      <td>0.75</td>\n",
       "      <td>0.75</td>\n",
       "      <td>0.90</td>\n",
       "      <td>15.86</td>\n",
       "    </tr>\n",
       "    <tr>\n",
       "      <th>AdaBoostClassifier</th>\n",
       "      <td>0.89</td>\n",
       "      <td>0.74</td>\n",
       "      <td>0.74</td>\n",
       "      <td>0.90</td>\n",
       "      <td>1.52</td>\n",
       "    </tr>\n",
       "    <tr>\n",
       "      <th>SGDClassifier</th>\n",
       "      <td>0.89</td>\n",
       "      <td>0.74</td>\n",
       "      <td>0.74</td>\n",
       "      <td>0.91</td>\n",
       "      <td>0.29</td>\n",
       "    </tr>\n",
       "    <tr>\n",
       "      <th>Perceptron</th>\n",
       "      <td>0.83</td>\n",
       "      <td>0.74</td>\n",
       "      <td>0.74</td>\n",
       "      <td>0.87</td>\n",
       "      <td>0.27</td>\n",
       "    </tr>\n",
       "    <tr>\n",
       "      <th>KNeighborsClassifier</th>\n",
       "      <td>0.85</td>\n",
       "      <td>0.74</td>\n",
       "      <td>0.74</td>\n",
       "      <td>0.88</td>\n",
       "      <td>7.42</td>\n",
       "    </tr>\n",
       "    <tr>\n",
       "      <th>LogisticRegression</th>\n",
       "      <td>0.89</td>\n",
       "      <td>0.74</td>\n",
       "      <td>0.74</td>\n",
       "      <td>0.91</td>\n",
       "      <td>2.42</td>\n",
       "    </tr>\n",
       "    <tr>\n",
       "      <th>CalibratedClassifierCV</th>\n",
       "      <td>0.90</td>\n",
       "      <td>0.74</td>\n",
       "      <td>0.74</td>\n",
       "      <td>0.91</td>\n",
       "      <td>5.56</td>\n",
       "    </tr>\n",
       "    <tr>\n",
       "      <th>QuadraticDiscriminantAnalysis</th>\n",
       "      <td>0.89</td>\n",
       "      <td>0.73</td>\n",
       "      <td>0.73</td>\n",
       "      <td>0.91</td>\n",
       "      <td>0.60</td>\n",
       "    </tr>\n",
       "    <tr>\n",
       "      <th>NuSVC</th>\n",
       "      <td>0.90</td>\n",
       "      <td>0.73</td>\n",
       "      <td>0.73</td>\n",
       "      <td>0.91</td>\n",
       "      <td>34.08</td>\n",
       "    </tr>\n",
       "    <tr>\n",
       "      <th>LinearSVC</th>\n",
       "      <td>0.90</td>\n",
       "      <td>0.73</td>\n",
       "      <td>0.73</td>\n",
       "      <td>0.91</td>\n",
       "      <td>3.30</td>\n",
       "    </tr>\n",
       "    <tr>\n",
       "      <th>LinearDiscriminantAnalysis</th>\n",
       "      <td>0.89</td>\n",
       "      <td>0.73</td>\n",
       "      <td>0.73</td>\n",
       "      <td>0.91</td>\n",
       "      <td>6.91</td>\n",
       "    </tr>\n",
       "    <tr>\n",
       "      <th>GaussianNB</th>\n",
       "      <td>0.90</td>\n",
       "      <td>0.73</td>\n",
       "      <td>0.73</td>\n",
       "      <td>0.91</td>\n",
       "      <td>0.12</td>\n",
       "    </tr>\n",
       "    <tr>\n",
       "      <th>RidgeClassifierCV</th>\n",
       "      <td>0.90</td>\n",
       "      <td>0.72</td>\n",
       "      <td>0.72</td>\n",
       "      <td>0.91</td>\n",
       "      <td>0.38</td>\n",
       "    </tr>\n",
       "    <tr>\n",
       "      <th>RidgeClassifier</th>\n",
       "      <td>0.90</td>\n",
       "      <td>0.72</td>\n",
       "      <td>0.72</td>\n",
       "      <td>0.91</td>\n",
       "      <td>0.49</td>\n",
       "    </tr>\n",
       "    <tr>\n",
       "      <th>BaggingClassifier</th>\n",
       "      <td>0.86</td>\n",
       "      <td>0.72</td>\n",
       "      <td>0.72</td>\n",
       "      <td>0.88</td>\n",
       "      <td>1.11</td>\n",
       "    </tr>\n",
       "    <tr>\n",
       "      <th>LabelSpreading</th>\n",
       "      <td>0.81</td>\n",
       "      <td>0.71</td>\n",
       "      <td>0.71</td>\n",
       "      <td>0.85</td>\n",
       "      <td>772.85</td>\n",
       "    </tr>\n",
       "    <tr>\n",
       "      <th>LabelPropagation</th>\n",
       "      <td>0.81</td>\n",
       "      <td>0.71</td>\n",
       "      <td>0.71</td>\n",
       "      <td>0.85</td>\n",
       "      <td>368.05</td>\n",
       "    </tr>\n",
       "    <tr>\n",
       "      <th>ExtraTreeClassifier</th>\n",
       "      <td>0.78</td>\n",
       "      <td>0.69</td>\n",
       "      <td>0.69</td>\n",
       "      <td>0.83</td>\n",
       "      <td>0.13</td>\n",
       "    </tr>\n",
       "    <tr>\n",
       "      <th>DecisionTreeClassifier</th>\n",
       "      <td>0.78</td>\n",
       "      <td>0.68</td>\n",
       "      <td>0.68</td>\n",
       "      <td>0.83</td>\n",
       "      <td>0.22</td>\n",
       "    </tr>\n",
       "    <tr>\n",
       "      <th>PassiveAggressiveClassifier</th>\n",
       "      <td>0.92</td>\n",
       "      <td>0.68</td>\n",
       "      <td>0.68</td>\n",
       "      <td>0.92</td>\n",
       "      <td>0.83</td>\n",
       "    </tr>\n",
       "    <tr>\n",
       "      <th>DummyClassifier</th>\n",
       "      <td>0.65</td>\n",
       "      <td>0.50</td>\n",
       "      <td>0.50</td>\n",
       "      <td>0.74</td>\n",
       "      <td>0.11</td>\n",
       "    </tr>\n",
       "  </tbody>\n",
       "</table>\n",
       "</div>"
      ],
      "text/plain": [
       "                               Accuracy  Balanced Accuracy  ROC AUC  F1 Score  \\\n",
       "Model                                                                           \n",
       "LGBMClassifier                     0.87               0.77     0.77      0.89   \n",
       "NearestCentroid                    0.84               0.76     0.76      0.87   \n",
       "RandomForestClassifier             0.87               0.76     0.76      0.89   \n",
       "XGBClassifier                      0.86               0.75     0.75      0.89   \n",
       "BernoulliNB                        0.87               0.75     0.75      0.89   \n",
       "ExtraTreesClassifier               0.86               0.75     0.75      0.89   \n",
       "SVC                                0.89               0.75     0.75      0.90   \n",
       "AdaBoostClassifier                 0.89               0.74     0.74      0.90   \n",
       "SGDClassifier                      0.89               0.74     0.74      0.91   \n",
       "Perceptron                         0.83               0.74     0.74      0.87   \n",
       "KNeighborsClassifier               0.85               0.74     0.74      0.88   \n",
       "LogisticRegression                 0.89               0.74     0.74      0.91   \n",
       "CalibratedClassifierCV             0.90               0.74     0.74      0.91   \n",
       "QuadraticDiscriminantAnalysis      0.89               0.73     0.73      0.91   \n",
       "NuSVC                              0.90               0.73     0.73      0.91   \n",
       "LinearSVC                          0.90               0.73     0.73      0.91   \n",
       "LinearDiscriminantAnalysis         0.89               0.73     0.73      0.91   \n",
       "GaussianNB                         0.90               0.73     0.73      0.91   \n",
       "RidgeClassifierCV                  0.90               0.72     0.72      0.91   \n",
       "RidgeClassifier                    0.90               0.72     0.72      0.91   \n",
       "BaggingClassifier                  0.86               0.72     0.72      0.88   \n",
       "LabelSpreading                     0.81               0.71     0.71      0.85   \n",
       "LabelPropagation                   0.81               0.71     0.71      0.85   \n",
       "ExtraTreeClassifier                0.78               0.69     0.69      0.83   \n",
       "DecisionTreeClassifier             0.78               0.68     0.68      0.83   \n",
       "PassiveAggressiveClassifier        0.92               0.68     0.68      0.92   \n",
       "DummyClassifier                    0.65               0.50     0.50      0.74   \n",
       "\n",
       "                               Time Taken  \n",
       "Model                                      \n",
       "LGBMClassifier                       1.11  \n",
       "NearestCentroid                      0.53  \n",
       "RandomForestClassifier               4.25  \n",
       "XGBClassifier                        2.48  \n",
       "BernoulliNB                          0.12  \n",
       "ExtraTreesClassifier                 2.89  \n",
       "SVC                                 15.86  \n",
       "AdaBoostClassifier                   1.52  \n",
       "SGDClassifier                        0.29  \n",
       "Perceptron                           0.27  \n",
       "KNeighborsClassifier                 7.42  \n",
       "LogisticRegression                   2.42  \n",
       "CalibratedClassifierCV               5.56  \n",
       "QuadraticDiscriminantAnalysis        0.60  \n",
       "NuSVC                               34.08  \n",
       "LinearSVC                            3.30  \n",
       "LinearDiscriminantAnalysis           6.91  \n",
       "GaussianNB                           0.12  \n",
       "RidgeClassifierCV                    0.38  \n",
       "RidgeClassifier                      0.49  \n",
       "BaggingClassifier                    1.11  \n",
       "LabelSpreading                     772.85  \n",
       "LabelPropagation                   368.05  \n",
       "ExtraTreeClassifier                  0.13  \n",
       "DecisionTreeClassifier               0.22  \n",
       "PassiveAggressiveClassifier          0.83  \n",
       "DummyClassifier                      0.11  "
      ]
     },
     "execution_count": 174,
     "metadata": {},
     "output_type": "execute_result"
    }
   ],
   "source": [
    "models"
   ]
  },
  {
   "cell_type": "markdown",
   "metadata": {
    "tags": []
   },
   "source": [
    "-----\n",
    "\n",
    "## 4. LGBMClassifier"
   ]
  },
  {
   "cell_type": "code",
   "execution_count": 334,
   "metadata": {},
   "outputs": [],
   "source": [
    "# histogram-based gradient boosting for classification in scikit-learn\n",
    "from numpy import mean\n",
    "from numpy import std\n",
    "from sklearn.datasets import make_classification\n",
    "from lightgbm import LGBMClassifier\n",
    "from sklearn.model_selection import cross_val_score\n",
    "from sklearn.model_selection import RepeatedStratifiedKFold\n",
    "from matplotlib import pyplot"
   ]
  },
  {
   "cell_type": "code",
   "execution_count": 335,
   "metadata": {},
   "outputs": [],
   "source": [
    "# define data set\n",
    "\n",
    "train_features = emprestimos.columns.difference(['inadimplente'])\n",
    "train_X_y, test_X_y = train_test_split(emprestimos, test_size=0.3, random_state=42)\n",
    "\n"
   ]
  },
  {
   "cell_type": "code",
   "execution_count": 336,
   "metadata": {},
   "outputs": [],
   "source": [
    "train_y = train_X_y['inadimplente']\n",
    "train_X = train_X_y[train_features]\n",
    "\n",
    "test_y = test_X_y['inadimplente']\n",
    "test_X = test_X_y[train_features]\n"
   ]
  },
  {
   "cell_type": "code",
   "execution_count": 337,
   "metadata": {},
   "outputs": [],
   "source": [
    "# fit the model on the whole data set\n",
    "model = LGBMClassifier()\n",
    "result = model.fit(train_X, train_y)"
   ]
  },
  {
   "cell_type": "code",
   "execution_count": 331,
   "metadata": {},
   "outputs": [
    {
     "name": "stdout",
     "output_type": "stream",
     "text": [
      "PR-AUC is -> 0.22573098522658433\n"
     ]
    }
   ],
   "source": [
    "AUC = metrics.average_precision_score(train_y, result.predict(train_X))\n",
    "\n",
    "print('PR-AUC is -> ' + str(AUC))"
   ]
  },
  {
   "cell_type": "code",
   "execution_count": 332,
   "metadata": {},
   "outputs": [
    {
     "name": "stdout",
     "output_type": "stream",
     "text": [
      "Train AUC é -> 0.6155432841750502\n",
      "Test AUC é -> 0.5858946435542559\n"
     ]
    }
   ],
   "source": [
    "AUC = metrics.roc_auc_score(train_y, result.predict(train_X))\n",
    "\n",
    "print('Train AUC é -> ' + str(AUC))\n",
    "\n",
    "AUC = metrics.roc_auc_score(test_y, result.predict(test_X))\n",
    "\n",
    "print('Test AUC é -> ' + str(AUC))"
   ]
  },
  {
   "cell_type": "code",
   "execution_count": 333,
   "metadata": {},
   "outputs": [],
   "source": [
    "# create prediction tables\n",
    "train_predicted_prob = pd.DataFrame(result.predict_proba(train_X))\n",
    "train_predicted_prob = train_predicted_prob[1]\n",
    "train_predicted_prob.columns = ['prob']\n",
    "train_actual = train_y.reset_index().drop(labels='index', axis=1)\n",
    "# making a DataFrame with actual and prob columns\n",
    "train_predict = pd.concat([train_actual, train_predicted_prob], axis=1)\n",
    "train_predict.columns = ['actual','prob']\n",
    "\n",
    "test_predicted_prob = pd.DataFrame(result.predict_proba(test_X))\n",
    "test_predicted_prob = test_predicted_prob[1]\n",
    "test_predicted_prob.columns = ['prob']\n",
    "test_actual = test_y.reset_index().drop(labels='index', axis=1)\n",
    "# making a DataFrame with actual and prob columns\n",
    "test_predict = pd.concat([test_actual, test_predicted_prob], axis=1)\n",
    "test_predict.columns = ['actual','prob']"
   ]
  },
  {
   "cell_type": "code",
   "execution_count": 96,
   "metadata": {},
   "outputs": [
    {
     "name": "stderr",
     "output_type": "stream",
     "text": [
      "100%|██████████████████████████████████████████████████████████████████████████████████| 50/50 [08:11<00:00,  9.83s/it]\n"
     ]
    }
   ],
   "source": [
    "## Intuition behind ROC curve - predicted probability as a tool for separating the '1's and '0's\n",
    "def cut_off_calculation(result,train_X,train_predict):\n",
    "    \n",
    "    roc_like_df = pd.DataFrame()\n",
    "    train_temp = train_predict.copy()\n",
    "\n",
    "    for cut_off in  tqdm(np.linspace(0,1,50)):\n",
    "        train_temp['cut_off'] = cut_off\n",
    "        train_temp['predicted'] = train_temp['prob'].apply(lambda x: 0.0 if x < cut_off else 1.0)\n",
    "        train_temp['tp'] = train_temp.apply(lambda x: 1.0 if x['actual']==1.0 and x['predicted']==1 else 0.0, axis=1)\n",
    "        train_temp['fp'] = train_temp.apply(lambda x: 1.0 if x['actual']==0.0 and x['predicted']==1 else 0.0, axis=1)\n",
    "        train_temp['tn'] = train_temp.apply(lambda x: 1.0 if x['actual']==0.0 and x['predicted']==0 else 0.0, axis=1)\n",
    "        train_temp['fn'] = train_temp.apply(lambda x: 1.0 if x['actual']==1.0 and x['predicted']==0 else 0.0, axis=1)\n",
    "        sensitivity = train_temp['tp'].sum() / (train_temp['tp'].sum() + train_temp['fn'].sum())\n",
    "        specificity = train_temp['tn'].sum() / (train_temp['tn'].sum() + train_temp['fp'].sum())\n",
    "        roc_like_table = pd.DataFrame([cut_off, sensitivity, specificity]).T\n",
    "        roc_like_table.columns = ['cutoff', 'sensitivity', 'specificity']\n",
    "        roc_like_df = pd.concat([roc_like_df, roc_like_table], axis=0)\n",
    "    return roc_like_df\n",
    "\n",
    "roc_like_df = cut_off_calculation(result,train_X,train_predict)"
   ]
  },
  {
   "cell_type": "code",
   "execution_count": 97,
   "metadata": {},
   "outputs": [
    {
     "data": {
      "text/html": [
       "<div>\n",
       "<style scoped>\n",
       "    .dataframe tbody tr th:only-of-type {\n",
       "        vertical-align: middle;\n",
       "    }\n",
       "\n",
       "    .dataframe tbody tr th {\n",
       "        vertical-align: top;\n",
       "    }\n",
       "\n",
       "    .dataframe thead th {\n",
       "        text-align: right;\n",
       "    }\n",
       "</style>\n",
       "<table border=\"1\" class=\"dataframe\">\n",
       "  <thead>\n",
       "    <tr style=\"text-align: right;\">\n",
       "      <th></th>\n",
       "      <th>cutoff</th>\n",
       "      <th>sensitivity</th>\n",
       "      <th>specificity</th>\n",
       "      <th>total</th>\n",
       "    </tr>\n",
       "  </thead>\n",
       "  <tbody>\n",
       "    <tr>\n",
       "      <th>0</th>\n",
       "      <td>0.06</td>\n",
       "      <td>0.86</td>\n",
       "      <td>0.79</td>\n",
       "      <td>1.65</td>\n",
       "    </tr>\n",
       "  </tbody>\n",
       "</table>\n",
       "</div>"
      ],
      "text/plain": [
       "   cutoff  sensitivity  specificity  total\n",
       "0    0.06         0.86         0.79   1.65"
      ]
     },
     "execution_count": 97,
     "metadata": {},
     "output_type": "execute_result"
    }
   ],
   "source": [
    "## Finding ideal cut-off for checking if this remains same in OOS validation\n",
    "roc_like_df['total'] = roc_like_df['sensitivity'] + roc_like_df['specificity']\n",
    "roc_like_df[roc_like_df['total']==roc_like_df['total'].max()]"
   ]
  },
  {
   "cell_type": "code",
   "execution_count": 242,
   "metadata": {},
   "outputs": [
    {
     "data": {
      "image/png": "[encoded data removed]",
      "text/plain": [
       "<Figure size 720x540 with 2 Axes>"
      ]
     },
     "metadata": {
      "needs_background": "light"
     },
     "output_type": "display_data"
    }
   ],
   "source": [
    "test_predict['predicted'] = test_predict['prob'].apply(lambda x: 1 if x > 0.06 else 0)\n",
    "sns.heatmap(pd.crosstab(test_predict['actual'], test_predict['predicted'], normalize='index'), annot=True, cmap='PuBu')\n",
    "plt.title('Test Data Confusion Matrix')\n",
    "plt.show()\n",
    "\n",
    "train_predict['predicted'] = train_predict['prob'].apply(lambda x: 1 if x > 0.06 else 0)"
   ]
  },
  {
   "cell_type": "code",
   "execution_count": 243,
   "metadata": {},
   "outputs": [
    {
     "name": "stdout",
     "output_type": "stream",
     "text": [
      "A pontuação geral de precisão para a Train Data é:  0.7907532467532468\n",
      "A pontuação geral de precisão para a Test Data é:  0.7801212121212121\n"
     ]
    }
   ],
   "source": [
    "print(\"A pontuação geral de precisão para a Train Data é: \", metrics.accuracy_score(train_predict.actual, train_predict.predicted))\n",
    "print(\"A pontuação geral de precisão para a Test Data é: \", metrics.accuracy_score(test_predict.actual, test_predict.predicted))"
   ]
  },
  {
   "cell_type": "markdown",
   "metadata": {},
   "source": [
    "\n",
    "\n",
    "**PR-AUC, ROC-AUC** abaixo de **[Regressão Logistica Balanceada](#2.-Regressão-logística-via-modelo-estatístico-com-o-data-set-balanceado).**"
   ]
  },
  {
   "cell_type": "markdown",
   "metadata": {},
   "source": [
    "----------\n",
    "## 5. RandomForestClassifier\n",
    "\n",
    "Neste modelo usarei uma função de otimização como ultima tentativa de encontrar uma ROC acima de ~0.85 do modelo de **[Regressão Logistica Balanceada](#2.-Regressão-logística-via-modelo-estatístico-com-o-data-set-balanceado).**"
   ]
  },
  {
   "cell_type": "code",
   "execution_count": 271,
   "metadata": {},
   "outputs": [],
   "source": [
    "# histogram-based gradient boosting for classification in scikit-learn\n",
    "from numpy import mean\n",
    "from numpy import std\n",
    "from sklearn.model_selection import RandomizedSearchCV\n",
    "import joblib\n",
    "from sklearn.datasets import make_classification\n",
    "from sklearn.ensemble import RandomForestClassifier\n",
    "from sklearn.model_selection import cross_val_score\n",
    "from sklearn.model_selection import RepeatedStratifiedKFold\n",
    "from matplotlib import pyplot"
   ]
  },
  {
   "cell_type": "code",
   "execution_count": 460,
   "metadata": {},
   "outputs": [],
   "source": [
    "# define data set\n",
    "\n",
    "train_features = emprestimos.columns.difference(['inadimplente'])\n",
    "train_X_y, test_X_y = train_test_split(emprestimos, test_size=0.3, random_state=42)\n",
    "\n"
   ]
  },
  {
   "cell_type": "code",
   "execution_count": 461,
   "metadata": {},
   "outputs": [],
   "source": [
    "train_y = train_X_y['inadimplente']\n",
    "train_X = train_X_y[train_features]\n",
    "\n",
    "test_y = test_X_y['inadimplente']\n",
    "test_X = test_X_y[train_features]\n"
   ]
  },
  {
   "cell_type": "code",
   "execution_count": 274,
   "metadata": {
    "collapsed": true,
    "jupyter": {
     "outputs_hidden": true
    },
    "tags": []
   },
   "outputs": [
    {
     "name": "stdout",
     "output_type": "stream",
     "text": [
      "calibrando os hiperparâmetros do modelo...\n",
      "(77000, 10) (77000,)\n",
      "Fitting 6 folds for each of 20 candidates, totalling 120 fits\n",
      "[CV] n_estimators=411, min_samples_split=5, min_samples_leaf=2, max_features=sqrt, max_depth=38, bootstrap=False [CV] n_estimators=411, min_samples_split=5, min_samples_leaf=2, max_features=sqrt, max_depth=38, bootstrap=False [CV] n_estimators=411, min_samples_split=5, min_samples_leaf=2, max_features=sqrt, max_depth=38, bootstrap=False \n",
      "\n",
      "\n",
      "[CV] n_estimators=411, min_samples_split=5, min_samples_leaf=2, max_features=sqrt, max_depth=38, bootstrap=False [CV] n_estimators=411, min_samples_split=5, min_samples_leaf=2, max_features=sqrt, max_depth=38, bootstrap=False \n",
      "\n",
      "[CV] n_estimators=411, min_samples_split=5, min_samples_leaf=2, max_features=sqrt, max_depth=38, bootstrap=False \n"
     ]
    },
    {
     "name": "stderr",
     "output_type": "stream",
     "text": [
      "[Parallel(n_jobs=6)]: Using backend ThreadingBackend with 6 concurrent workers.\n"
     ]
    },
    {
     "name": "stdout",
     "output_type": "stream",
     "text": [
      "[CV]  n_estimators=411, min_samples_split=5, min_samples_leaf=2, max_features=sqrt, max_depth=38, bootstrap=False, score=0.935, total= 3.7min\n",
      "[CV] n_estimators=411, min_samples_split=5, min_samples_leaf=1, max_features=auto, max_depth=10, bootstrap=False \n",
      "[CV]  n_estimators=411, min_samples_split=5, min_samples_leaf=2, max_features=sqrt, max_depth=38, bootstrap=False, score=0.936, total= 3.7min\n",
      "[CV] n_estimators=411, min_samples_split=5, min_samples_leaf=1, max_features=auto, max_depth=10, bootstrap=False \n",
      "[CV]  n_estimators=411, min_samples_split=5, min_samples_leaf=2, max_features=sqrt, max_depth=38, bootstrap=False, score=0.934, total= 3.7min\n",
      "[CV] n_estimators=411, min_samples_split=5, min_samples_leaf=1, max_features=auto, max_depth=10, bootstrap=False \n",
      "[CV]  n_estimators=411, min_samples_split=5, min_samples_leaf=2, max_features=sqrt, max_depth=38, bootstrap=False, score=0.935, total= 3.8min\n",
      "[CV] n_estimators=411, min_samples_split=5, min_samples_leaf=1, max_features=auto, max_depth=10, bootstrap=False \n",
      "[CV]  n_estimators=411, min_samples_split=5, min_samples_leaf=2, max_features=sqrt, max_depth=38, bootstrap=False, score=0.934, total= 3.8min\n",
      "[CV] n_estimators=411, min_samples_split=5, min_samples_leaf=1, max_features=auto, max_depth=10, bootstrap=False \n",
      "[CV]  n_estimators=411, min_samples_split=5, min_samples_leaf=2, max_features=sqrt, max_depth=38, bootstrap=False, score=0.933, total= 3.8min\n",
      "[CV] n_estimators=411, min_samples_split=5, min_samples_leaf=1, max_features=auto, max_depth=10, bootstrap=False \n",
      "[CV]  n_estimators=411, min_samples_split=5, min_samples_leaf=1, max_features=auto, max_depth=10, bootstrap=False, score=0.935, total= 2.3min\n",
      "[CV] n_estimators=188, min_samples_split=5, min_samples_leaf=4, max_features=auto, max_depth=38, bootstrap=False \n",
      "[CV]  n_estimators=411, min_samples_split=5, min_samples_leaf=1, max_features=auto, max_depth=10, bootstrap=False, score=0.938, total= 2.3min\n",
      "[CV] n_estimators=188, min_samples_split=5, min_samples_leaf=4, max_features=auto, max_depth=38, bootstrap=False \n",
      "[CV]  n_estimators=411, min_samples_split=5, min_samples_leaf=1, max_features=auto, max_depth=10, bootstrap=False, score=0.936, total= 2.3min\n",
      "[CV] n_estimators=188, min_samples_split=5, min_samples_leaf=4, max_features=auto, max_depth=38, bootstrap=False \n",
      "[CV]  n_estimators=411, min_samples_split=5, min_samples_leaf=1, max_features=auto, max_depth=10, bootstrap=False, score=0.936, total= 2.3min\n",
      "[CV] n_estimators=188, min_samples_split=5, min_samples_leaf=4, max_features=auto, max_depth=38, bootstrap=False \n",
      "[CV]  n_estimators=411, min_samples_split=5, min_samples_leaf=1, max_features=auto, max_depth=10, bootstrap=False, score=0.936, total= 2.3min\n",
      "[CV] n_estimators=188, min_samples_split=5, min_samples_leaf=4, max_features=auto, max_depth=38, bootstrap=False \n",
      "[CV]  n_estimators=411, min_samples_split=5, min_samples_leaf=1, max_features=auto, max_depth=10, bootstrap=False, score=0.935, total= 2.3min\n",
      "[CV] n_estimators=188, min_samples_split=5, min_samples_leaf=4, max_features=auto, max_depth=38, bootstrap=False \n",
      "[CV]  n_estimators=188, min_samples_split=5, min_samples_leaf=4, max_features=auto, max_depth=38, bootstrap=False, score=0.938, total= 1.6min\n",
      "[CV] n_estimators=411, min_samples_split=5, min_samples_leaf=4, max_features=auto, max_depth=38, bootstrap=False \n",
      "[CV]  n_estimators=188, min_samples_split=5, min_samples_leaf=4, max_features=auto, max_depth=38, bootstrap=False, score=0.935, total= 1.6min\n",
      "[CV] n_estimators=411, min_samples_split=5, min_samples_leaf=4, max_features=auto, max_depth=38, bootstrap=False \n",
      "[CV]  n_estimators=188, min_samples_split=5, min_samples_leaf=4, max_features=auto, max_depth=38, bootstrap=False, score=0.936, total= 1.5min\n",
      "[CV] n_estimators=411, min_samples_split=5, min_samples_leaf=4, max_features=auto, max_depth=38, bootstrap=False \n",
      "[CV]  n_estimators=188, min_samples_split=5, min_samples_leaf=4, max_features=auto, max_depth=38, bootstrap=False, score=0.935, total= 1.6min\n",
      "[CV] n_estimators=411, min_samples_split=5, min_samples_leaf=4, max_features=auto, max_depth=38, bootstrap=False \n",
      "[CV]  n_estimators=188, min_samples_split=5, min_samples_leaf=4, max_features=auto, max_depth=38, bootstrap=False, score=0.936, total= 1.6min\n",
      "[CV] n_estimators=411, min_samples_split=5, min_samples_leaf=4, max_features=auto, max_depth=38, bootstrap=False \n",
      "[CV]  n_estimators=188, min_samples_split=5, min_samples_leaf=4, max_features=auto, max_depth=38, bootstrap=False, score=0.934, total= 1.6min\n",
      "[CV] n_estimators=411, min_samples_split=5, min_samples_leaf=4, max_features=auto, max_depth=38, bootstrap=False \n",
      "[CV]  n_estimators=411, min_samples_split=5, min_samples_leaf=4, max_features=auto, max_depth=38, bootstrap=False, score=0.937, total= 3.3min\n",
      "[CV] n_estimators=277, min_samples_split=5, min_samples_leaf=2, max_features=sqrt, max_depth=50, bootstrap=False \n",
      "[CV]  n_estimators=411, min_samples_split=5, min_samples_leaf=4, max_features=auto, max_depth=38, bootstrap=False, score=0.935, total= 3.4min\n",
      "[CV] n_estimators=277, min_samples_split=5, min_samples_leaf=2, max_features=sqrt, max_depth=50, bootstrap=False \n"
     ]
    },
    {
     "name": "stderr",
     "output_type": "stream",
     "text": [
      "[Parallel(n_jobs=6)]: Done  20 tasks      | elapsed: 10.9min\n"
     ]
    },
    {
     "name": "stdout",
     "output_type": "stream",
     "text": [
      "[CV]  n_estimators=411, min_samples_split=5, min_samples_leaf=4, max_features=auto, max_depth=38, bootstrap=False, score=0.935, total= 3.4min\n",
      "[CV] n_estimators=277, min_samples_split=5, min_samples_leaf=2, max_features=sqrt, max_depth=50, bootstrap=False \n",
      "[CV]  n_estimators=411, min_samples_split=5, min_samples_leaf=4, max_features=auto, max_depth=38, bootstrap=False, score=0.935, total= 3.4min\n",
      "[CV] n_estimators=277, min_samples_split=5, min_samples_leaf=2, max_features=sqrt, max_depth=50, bootstrap=False \n",
      "[CV]  n_estimators=411, min_samples_split=5, min_samples_leaf=4, max_features=auto, max_depth=38, bootstrap=False, score=0.936, total= 3.4min\n",
      "[CV] n_estimators=277, min_samples_split=5, min_samples_leaf=2, max_features=sqrt, max_depth=50, bootstrap=False \n",
      "[CV]  n_estimators=411, min_samples_split=5, min_samples_leaf=4, max_features=auto, max_depth=38, bootstrap=False, score=0.936, total= 3.4min\n",
      "[CV] n_estimators=277, min_samples_split=5, min_samples_leaf=2, max_features=sqrt, max_depth=50, bootstrap=False \n",
      "[CV]  n_estimators=277, min_samples_split=5, min_samples_leaf=2, max_features=sqrt, max_depth=50, bootstrap=False, score=0.936, total= 2.4min\n",
      "[CV] n_estimators=500, min_samples_split=2, min_samples_leaf=1, max_features=auto, max_depth=38, bootstrap=False \n",
      "[CV]  n_estimators=277, min_samples_split=5, min_samples_leaf=2, max_features=sqrt, max_depth=50, bootstrap=False, score=0.934, total= 2.4min\n",
      "[CV] n_estimators=500, min_samples_split=2, min_samples_leaf=1, max_features=auto, max_depth=38, bootstrap=False \n",
      "[CV]  n_estimators=277, min_samples_split=5, min_samples_leaf=2, max_features=sqrt, max_depth=50, bootstrap=False, score=0.935, total= 2.5min\n",
      "[CV] n_estimators=500, min_samples_split=2, min_samples_leaf=1, max_features=auto, max_depth=38, bootstrap=False \n",
      "[CV]  n_estimators=277, min_samples_split=5, min_samples_leaf=2, max_features=sqrt, max_depth=50, bootstrap=False, score=0.935, total= 2.4min\n",
      "[CV] n_estimators=500, min_samples_split=2, min_samples_leaf=1, max_features=auto, max_depth=38, bootstrap=False \n",
      "[CV]  n_estimators=277, min_samples_split=5, min_samples_leaf=2, max_features=sqrt, max_depth=50, bootstrap=False, score=0.934, total= 2.5min\n",
      "[CV] n_estimators=500, min_samples_split=2, min_samples_leaf=1, max_features=auto, max_depth=38, bootstrap=False \n",
      "[CV]  n_estimators=277, min_samples_split=5, min_samples_leaf=2, max_features=sqrt, max_depth=50, bootstrap=False, score=0.933, total= 2.5min\n",
      "[CV] n_estimators=500, min_samples_split=2, min_samples_leaf=1, max_features=auto, max_depth=38, bootstrap=False \n",
      "[CV]  n_estimators=500, min_samples_split=2, min_samples_leaf=1, max_features=auto, max_depth=38, bootstrap=False, score=0.934, total= 4.4min\n",
      "[CV] n_estimators=366, min_samples_split=2, min_samples_leaf=1, max_features=auto, max_depth=22, bootstrap=True \n",
      "[CV]  n_estimators=500, min_samples_split=2, min_samples_leaf=1, max_features=auto, max_depth=38, bootstrap=False, score=0.932, total= 4.5min\n",
      "[CV] n_estimators=366, min_samples_split=2, min_samples_leaf=1, max_features=auto, max_depth=22, bootstrap=True \n",
      "[CV]  n_estimators=500, min_samples_split=2, min_samples_leaf=1, max_features=auto, max_depth=38, bootstrap=False, score=0.933, total= 4.4min\n",
      "[CV] n_estimators=366, min_samples_split=2, min_samples_leaf=1, max_features=auto, max_depth=22, bootstrap=True \n",
      "[CV]  n_estimators=500, min_samples_split=2, min_samples_leaf=1, max_features=auto, max_depth=38, bootstrap=False, score=0.933, total= 4.5min\n",
      "[CV] n_estimators=366, min_samples_split=2, min_samples_leaf=1, max_features=auto, max_depth=22, bootstrap=True \n",
      "[CV]  n_estimators=500, min_samples_split=2, min_samples_leaf=1, max_features=auto, max_depth=38, bootstrap=False, score=0.934, total= 4.5min\n",
      "[CV] n_estimators=366, min_samples_split=2, min_samples_leaf=1, max_features=auto, max_depth=22, bootstrap=True \n",
      "[CV]  n_estimators=500, min_samples_split=2, min_samples_leaf=1, max_features=auto, max_depth=38, bootstrap=False, score=0.931, total= 4.5min\n",
      "[CV] n_estimators=366, min_samples_split=2, min_samples_leaf=1, max_features=auto, max_depth=22, bootstrap=True \n",
      "[CV]  n_estimators=366, min_samples_split=2, min_samples_leaf=1, max_features=auto, max_depth=22, bootstrap=True, score=0.937, total= 2.2min\n",
      "[CV] n_estimators=100, min_samples_split=5, min_samples_leaf=2, max_features=sqrt, max_depth=30, bootstrap=False \n",
      "[CV]  n_estimators=366, min_samples_split=2, min_samples_leaf=1, max_features=auto, max_depth=22, bootstrap=True, score=0.935, total= 2.2min\n",
      "[CV] n_estimators=100, min_samples_split=5, min_samples_leaf=2, max_features=sqrt, max_depth=30, bootstrap=False \n",
      "[CV]  n_estimators=366, min_samples_split=2, min_samples_leaf=1, max_features=auto, max_depth=22, bootstrap=True, score=0.935, total= 2.2min\n",
      "[CV] n_estimators=100, min_samples_split=5, min_samples_leaf=2, max_features=sqrt, max_depth=30, bootstrap=False \n",
      "[CV]  n_estimators=366, min_samples_split=2, min_samples_leaf=1, max_features=auto, max_depth=22, bootstrap=True, score=0.936, total= 2.2min\n",
      "[CV] n_estimators=100, min_samples_split=5, min_samples_leaf=2, max_features=sqrt, max_depth=30, bootstrap=False \n",
      "[CV]  n_estimators=366, min_samples_split=2, min_samples_leaf=1, max_features=auto, max_depth=22, bootstrap=True, score=0.935, total= 2.2min\n",
      "[CV] n_estimators=100, min_samples_split=5, min_samples_leaf=2, max_features=sqrt, max_depth=30, bootstrap=False \n",
      "[CV]  n_estimators=366, min_samples_split=2, min_samples_leaf=1, max_features=auto, max_depth=22, bootstrap=True, score=0.934, total= 2.2min\n",
      "[CV] n_estimators=100, min_samples_split=5, min_samples_leaf=2, max_features=sqrt, max_depth=30, bootstrap=False \n",
      "[CV]  n_estimators=100, min_samples_split=5, min_samples_leaf=2, max_features=sqrt, max_depth=30, bootstrap=False, score=0.935, total=  51.7s\n",
      "[CV] n_estimators=144, min_samples_split=10, min_samples_leaf=1, max_features=auto, max_depth=38, bootstrap=False \n",
      "[CV]  n_estimators=100, min_samples_split=5, min_samples_leaf=2, max_features=sqrt, max_depth=30, bootstrap=False, score=0.934, total=  50.3s\n",
      "[CV] n_estimators=144, min_samples_split=10, min_samples_leaf=1, max_features=auto, max_depth=38, bootstrap=False \n",
      "[CV]  n_estimators=100, min_samples_split=5, min_samples_leaf=2, max_features=sqrt, max_depth=30, bootstrap=False, score=0.935, total=  51.5s\n",
      "[CV] n_estimators=144, min_samples_split=10, min_samples_leaf=1, max_features=auto, max_depth=38, bootstrap=False \n",
      "[CV]  n_estimators=100, min_samples_split=5, min_samples_leaf=2, max_features=sqrt, max_depth=30, bootstrap=False, score=0.935, total=  51.6s\n",
      "[CV] n_estimators=144, min_samples_split=10, min_samples_leaf=1, max_features=auto, max_depth=38, bootstrap=False \n",
      "[CV]  n_estimators=100, min_samples_split=5, min_samples_leaf=2, max_features=sqrt, max_depth=30, bootstrap=False, score=0.935, total=  50.4s\n",
      "[CV] n_estimators=144, min_samples_split=10, min_samples_leaf=1, max_features=auto, max_depth=38, bootstrap=False \n",
      "[CV]  n_estimators=100, min_samples_split=5, min_samples_leaf=2, max_features=sqrt, max_depth=30, bootstrap=False, score=0.933, total=  51.2s\n",
      "[CV] n_estimators=144, min_samples_split=10, min_samples_leaf=1, max_features=auto, max_depth=38, bootstrap=False \n",
      "[CV]  n_estimators=144, min_samples_split=10, min_samples_leaf=1, max_features=auto, max_depth=38, bootstrap=False, score=0.936, total= 1.2min\n",
      "[CV] n_estimators=233, min_samples_split=5, min_samples_leaf=1, max_features=sqrt, max_depth=30, bootstrap=False \n",
      "[CV]  n_estimators=144, min_samples_split=10, min_samples_leaf=1, max_features=auto, max_depth=38, bootstrap=False, score=0.933, total= 1.2min\n",
      "[CV] n_estimators=233, min_samples_split=5, min_samples_leaf=1, max_features=sqrt, max_depth=30, bootstrap=False \n",
      "[CV]  n_estimators=144, min_samples_split=10, min_samples_leaf=1, max_features=auto, max_depth=38, bootstrap=False, score=0.935, total= 1.2min[CV]  n_estimators=144, min_samples_split=10, min_samples_leaf=1, max_features=auto, max_depth=38, bootstrap=False, score=0.935, total= 1.2min\n",
      "\n",
      "[CV] n_estimators=233, min_samples_split=5, min_samples_leaf=1, max_features=sqrt, max_depth=30, bootstrap=False [CV] n_estimators=233, min_samples_split=5, min_samples_leaf=1, max_features=sqrt, max_depth=30, bootstrap=False \n",
      "\n",
      "[CV]  n_estimators=144, min_samples_split=10, min_samples_leaf=1, max_features=auto, max_depth=38, bootstrap=False, score=0.935, total= 1.2min\n",
      "[CV] n_estimators=233, min_samples_split=5, min_samples_leaf=1, max_features=sqrt, max_depth=30, bootstrap=False \n",
      "[CV]  n_estimators=144, min_samples_split=10, min_samples_leaf=1, max_features=auto, max_depth=38, bootstrap=False, score=0.933, total= 1.2min\n",
      "[CV] n_estimators=233, min_samples_split=5, min_samples_leaf=1, max_features=sqrt, max_depth=30, bootstrap=False \n",
      "[CV]  n_estimators=233, min_samples_split=5, min_samples_leaf=1, max_features=sqrt, max_depth=30, bootstrap=False, score=0.935, total= 1.9min\n",
      "[CV] n_estimators=188, min_samples_split=5, min_samples_leaf=4, max_features=sqrt, max_depth=26, bootstrap=True \n",
      "[CV]  n_estimators=233, min_samples_split=5, min_samples_leaf=1, max_features=sqrt, max_depth=30, bootstrap=False, score=0.933, total= 2.0min\n",
      "[CV] n_estimators=188, min_samples_split=5, min_samples_leaf=4, max_features=sqrt, max_depth=26, bootstrap=True \n",
      "[CV]  n_estimators=233, min_samples_split=5, min_samples_leaf=1, max_features=sqrt, max_depth=30, bootstrap=False, score=0.934, total= 2.0min\n",
      "[CV] n_estimators=188, min_samples_split=5, min_samples_leaf=4, max_features=sqrt, max_depth=26, bootstrap=True \n",
      "[CV]  n_estimators=233, min_samples_split=5, min_samples_leaf=1, max_features=sqrt, max_depth=30, bootstrap=False, score=0.933, total= 2.0min\n",
      "[CV] n_estimators=188, min_samples_split=5, min_samples_leaf=4, max_features=sqrt, max_depth=26, bootstrap=True \n",
      "[CV]  n_estimators=233, min_samples_split=5, min_samples_leaf=1, max_features=sqrt, max_depth=30, bootstrap=False, score=0.935, total= 2.0min\n",
      "[CV] n_estimators=188, min_samples_split=5, min_samples_leaf=4, max_features=sqrt, max_depth=26, bootstrap=True \n",
      "[CV]  n_estimators=233, min_samples_split=5, min_samples_leaf=1, max_features=sqrt, max_depth=30, bootstrap=False, score=0.933, total= 2.0min\n",
      "[CV] n_estimators=188, min_samples_split=5, min_samples_leaf=4, max_features=sqrt, max_depth=26, bootstrap=True \n",
      "[CV]  n_estimators=188, min_samples_split=5, min_samples_leaf=4, max_features=sqrt, max_depth=26, bootstrap=True, score=0.938, total= 1.1min\n",
      "[CV] n_estimators=277, min_samples_split=10, min_samples_leaf=2, max_features=auto, max_depth=46, bootstrap=True \n",
      "[CV]  n_estimators=188, min_samples_split=5, min_samples_leaf=4, max_features=sqrt, max_depth=26, bootstrap=True, score=0.936, total= 1.1min\n",
      "[CV] n_estimators=277, min_samples_split=10, min_samples_leaf=2, max_features=auto, max_depth=46, bootstrap=True \n",
      "[CV]  n_estimators=188, min_samples_split=5, min_samples_leaf=4, max_features=sqrt, max_depth=26, bootstrap=True, score=0.936, total= 1.1min\n",
      "[CV] n_estimators=277, min_samples_split=10, min_samples_leaf=2, max_features=auto, max_depth=46, bootstrap=True \n",
      "[CV]  n_estimators=188, min_samples_split=5, min_samples_leaf=4, max_features=sqrt, max_depth=26, bootstrap=True, score=0.936, total= 1.1min\n",
      "[CV] n_estimators=277, min_samples_split=10, min_samples_leaf=2, max_features=auto, max_depth=46, bootstrap=True \n",
      "[CV]  n_estimators=188, min_samples_split=5, min_samples_leaf=4, max_features=sqrt, max_depth=26, bootstrap=True, score=0.936, total= 1.1min\n",
      "[CV] n_estimators=277, min_samples_split=10, min_samples_leaf=2, max_features=auto, max_depth=46, bootstrap=True \n",
      "[CV]  n_estimators=188, min_samples_split=5, min_samples_leaf=4, max_features=sqrt, max_depth=26, bootstrap=True, score=0.934, total= 1.1min\n",
      "[CV] n_estimators=277, min_samples_split=10, min_samples_leaf=2, max_features=auto, max_depth=46, bootstrap=True \n",
      "[CV]  n_estimators=277, min_samples_split=10, min_samples_leaf=2, max_features=auto, max_depth=46, bootstrap=True, score=0.938, total= 1.6min\n",
      "[CV] n_estimators=411, min_samples_split=2, min_samples_leaf=2, max_features=auto, max_depth=None, bootstrap=False \n",
      "[CV]  n_estimators=277, min_samples_split=10, min_samples_leaf=2, max_features=auto, max_depth=46, bootstrap=True, score=0.936, total= 1.6min\n",
      "[CV] n_estimators=411, min_samples_split=2, min_samples_leaf=2, max_features=auto, max_depth=None, bootstrap=False \n",
      "[CV]  n_estimators=277, min_samples_split=10, min_samples_leaf=2, max_features=auto, max_depth=46, bootstrap=True, score=0.936, total= 1.6min\n",
      "[CV] n_estimators=411, min_samples_split=2, min_samples_leaf=2, max_features=auto, max_depth=None, bootstrap=False \n",
      "[CV]  n_estimators=277, min_samples_split=10, min_samples_leaf=2, max_features=auto, max_depth=46, bootstrap=True, score=0.937, total= 1.6min\n",
      "[CV] n_estimators=411, min_samples_split=2, min_samples_leaf=2, max_features=auto, max_depth=None, bootstrap=False \n",
      "[CV]  n_estimators=277, min_samples_split=10, min_samples_leaf=2, max_features=auto, max_depth=46, bootstrap=True, score=0.937, total= 1.6min\n",
      "[CV] n_estimators=411, min_samples_split=2, min_samples_leaf=2, max_features=auto, max_depth=None, bootstrap=False \n",
      "[CV]  n_estimators=277, min_samples_split=10, min_samples_leaf=2, max_features=auto, max_depth=46, bootstrap=True, score=0.935, total= 1.6min\n",
      "[CV] n_estimators=411, min_samples_split=2, min_samples_leaf=2, max_features=auto, max_depth=None, bootstrap=False \n",
      "[CV]  n_estimators=411, min_samples_split=2, min_samples_leaf=2, max_features=auto, max_depth=None, bootstrap=False, score=0.936, total= 3.4min\n",
      "[CV] n_estimators=500, min_samples_split=10, min_samples_leaf=4, max_features=sqrt, max_depth=50, bootstrap=False \n",
      "[CV]  n_estimators=411, min_samples_split=2, min_samples_leaf=2, max_features=auto, max_depth=None, bootstrap=False, score=0.933, total= 3.5min\n",
      "[CV] n_estimators=500, min_samples_split=10, min_samples_leaf=4, max_features=sqrt, max_depth=50, bootstrap=False \n",
      "[CV]  n_estimators=411, min_samples_split=2, min_samples_leaf=2, max_features=auto, max_depth=None, bootstrap=False, score=0.935, total= 3.5min\n",
      "[CV] n_estimators=500, min_samples_split=10, min_samples_leaf=4, max_features=sqrt, max_depth=50, bootstrap=False \n",
      "[CV]  n_estimators=411, min_samples_split=2, min_samples_leaf=2, max_features=auto, max_depth=None, bootstrap=False, score=0.935, total= 3.5min\n",
      "[CV] n_estimators=500, min_samples_split=10, min_samples_leaf=4, max_features=sqrt, max_depth=50, bootstrap=False \n",
      "[CV]  n_estimators=411, min_samples_split=2, min_samples_leaf=2, max_features=auto, max_depth=None, bootstrap=False, score=0.935, total= 3.5min\n",
      "[CV] n_estimators=500, min_samples_split=10, min_samples_leaf=4, max_features=sqrt, max_depth=50, bootstrap=False \n",
      "[CV]  n_estimators=411, min_samples_split=2, min_samples_leaf=2, max_features=auto, max_depth=None, bootstrap=False, score=0.933, total= 3.5min\n",
      "[CV] n_estimators=500, min_samples_split=10, min_samples_leaf=4, max_features=sqrt, max_depth=50, bootstrap=False \n",
      "[CV]  n_estimators=500, min_samples_split=10, min_samples_leaf=4, max_features=sqrt, max_depth=50, bootstrap=False, score=0.938, total= 4.6min\n",
      "[CV] n_estimators=144, min_samples_split=10, min_samples_leaf=2, max_features=auto, max_depth=14, bootstrap=True \n",
      "[CV]  n_estimators=500, min_samples_split=10, min_samples_leaf=4, max_features=sqrt, max_depth=50, bootstrap=False, score=0.934, total= 4.6min\n",
      "[CV] n_estimators=144, min_samples_split=10, min_samples_leaf=2, max_features=auto, max_depth=14, bootstrap=True \n",
      "[CV]  n_estimators=500, min_samples_split=10, min_samples_leaf=4, max_features=sqrt, max_depth=50, bootstrap=False, score=0.936, total= 4.6min\n",
      "[CV] n_estimators=144, min_samples_split=10, min_samples_leaf=2, max_features=auto, max_depth=14, bootstrap=True \n",
      "[CV]  n_estimators=500, min_samples_split=10, min_samples_leaf=4, max_features=sqrt, max_depth=50, bootstrap=False, score=0.936, total= 4.6min\n",
      "[CV] n_estimators=144, min_samples_split=10, min_samples_leaf=2, max_features=auto, max_depth=14, bootstrap=True \n",
      "[CV]  n_estimators=500, min_samples_split=10, min_samples_leaf=4, max_features=sqrt, max_depth=50, bootstrap=False, score=0.935, total= 4.7min\n",
      "[CV] n_estimators=144, min_samples_split=10, min_samples_leaf=2, max_features=auto, max_depth=14, bootstrap=True \n",
      "[CV]  n_estimators=500, min_samples_split=10, min_samples_leaf=4, max_features=sqrt, max_depth=50, bootstrap=False, score=0.934, total= 4.7min\n",
      "[CV] n_estimators=144, min_samples_split=10, min_samples_leaf=2, max_features=auto, max_depth=14, bootstrap=True \n",
      "[CV]  n_estimators=144, min_samples_split=10, min_samples_leaf=2, max_features=auto, max_depth=14, bootstrap=True, score=0.937, total=  47.8s\n",
      "[CV] n_estimators=233, min_samples_split=10, min_samples_leaf=1, max_features=auto, max_depth=10, bootstrap=True \n",
      "[CV]  n_estimators=144, min_samples_split=10, min_samples_leaf=2, max_features=auto, max_depth=14, bootstrap=True, score=0.934, total=  43.1s\n",
      "[CV] n_estimators=233, min_samples_split=10, min_samples_leaf=1, max_features=auto, max_depth=10, bootstrap=True \n",
      "[CV]  n_estimators=144, min_samples_split=10, min_samples_leaf=2, max_features=auto, max_depth=14, bootstrap=True, score=0.936, total=  43.5s\n",
      "[CV] n_estimators=233, min_samples_split=10, min_samples_leaf=1, max_features=auto, max_depth=10, bootstrap=True \n",
      "[CV]  n_estimators=144, min_samples_split=10, min_samples_leaf=2, max_features=auto, max_depth=14, bootstrap=True, score=0.936, total=  43.5s\n",
      "[CV] n_estimators=233, min_samples_split=10, min_samples_leaf=1, max_features=auto, max_depth=10, bootstrap=True \n",
      "[CV]  n_estimators=144, min_samples_split=10, min_samples_leaf=2, max_features=auto, max_depth=14, bootstrap=True, score=0.936, total=  44.0s\n",
      "[CV] n_estimators=233, min_samples_split=10, min_samples_leaf=1, max_features=auto, max_depth=10, bootstrap=True \n",
      "[CV]  n_estimators=144, min_samples_split=10, min_samples_leaf=2, max_features=auto, max_depth=14, bootstrap=True, score=0.935, total=  43.1s\n",
      "[CV] n_estimators=233, min_samples_split=10, min_samples_leaf=1, max_features=auto, max_depth=10, bootstrap=True \n",
      "[CV]  n_estimators=233, min_samples_split=10, min_samples_leaf=1, max_features=auto, max_depth=10, bootstrap=True, score=0.938, total=  54.5s\n",
      "[CV] n_estimators=233, min_samples_split=2, min_samples_leaf=4, max_features=sqrt, max_depth=30, bootstrap=True \n",
      "[CV]  n_estimators=233, min_samples_split=10, min_samples_leaf=1, max_features=auto, max_depth=10, bootstrap=True, score=0.935, total=  53.3s\n",
      "[CV] n_estimators=233, min_samples_split=2, min_samples_leaf=4, max_features=sqrt, max_depth=30, bootstrap=True \n",
      "[CV]  n_estimators=233, min_samples_split=10, min_samples_leaf=1, max_features=auto, max_depth=10, bootstrap=True, score=0.936, total=  55.0s\n",
      "[CV] n_estimators=233, min_samples_split=2, min_samples_leaf=4, max_features=sqrt, max_depth=30, bootstrap=True \n",
      "[CV]  n_estimators=233, min_samples_split=10, min_samples_leaf=1, max_features=auto, max_depth=10, bootstrap=True, score=0.937, total=  54.5s\n",
      "[CV] n_estimators=233, min_samples_split=2, min_samples_leaf=4, max_features=sqrt, max_depth=30, bootstrap=True \n",
      "[CV]  n_estimators=233, min_samples_split=10, min_samples_leaf=1, max_features=auto, max_depth=10, bootstrap=True, score=0.936, total=  54.6s\n",
      "[CV] n_estimators=233, min_samples_split=2, min_samples_leaf=4, max_features=sqrt, max_depth=30, bootstrap=True \n",
      "[CV]  n_estimators=233, min_samples_split=10, min_samples_leaf=1, max_features=auto, max_depth=10, bootstrap=True, score=0.935, total=  54.0s\n",
      "[CV] n_estimators=233, min_samples_split=2, min_samples_leaf=4, max_features=sqrt, max_depth=30, bootstrap=True \n",
      "[CV]  n_estimators=233, min_samples_split=2, min_samples_leaf=4, max_features=sqrt, max_depth=30, bootstrap=True, score=0.938, total= 1.3min\n",
      "[CV] n_estimators=100, min_samples_split=2, min_samples_leaf=2, max_features=sqrt, max_depth=26, bootstrap=False \n",
      "[CV]  n_estimators=233, min_samples_split=2, min_samples_leaf=4, max_features=sqrt, max_depth=30, bootstrap=True, score=0.936, total= 1.4min\n",
      "[CV] n_estimators=100, min_samples_split=2, min_samples_leaf=2, max_features=sqrt, max_depth=26, bootstrap=False \n",
      "[CV]  n_estimators=233, min_samples_split=2, min_samples_leaf=4, max_features=sqrt, max_depth=30, bootstrap=True, score=0.936, total= 1.3min\n",
      "[CV] n_estimators=100, min_samples_split=2, min_samples_leaf=2, max_features=sqrt, max_depth=26, bootstrap=False \n",
      "[CV]  n_estimators=233, min_samples_split=2, min_samples_leaf=4, max_features=sqrt, max_depth=30, bootstrap=True, score=0.938, total= 1.3min\n",
      "[CV] n_estimators=100, min_samples_split=2, min_samples_leaf=2, max_features=sqrt, max_depth=26, bootstrap=False \n",
      "[CV]  n_estimators=233, min_samples_split=2, min_samples_leaf=4, max_features=sqrt, max_depth=30, bootstrap=True, score=0.936, total= 1.3min\n",
      "[CV] n_estimators=100, min_samples_split=2, min_samples_leaf=2, max_features=sqrt, max_depth=26, bootstrap=False \n",
      "[CV]  n_estimators=233, min_samples_split=2, min_samples_leaf=4, max_features=sqrt, max_depth=30, bootstrap=True, score=0.934, total= 1.3min\n",
      "[CV] n_estimators=100, min_samples_split=2, min_samples_leaf=2, max_features=sqrt, max_depth=26, bootstrap=False \n",
      "[CV]  n_estimators=100, min_samples_split=2, min_samples_leaf=2, max_features=sqrt, max_depth=26, bootstrap=False, score=0.935, total=  50.3s\n",
      "[CV] n_estimators=144, min_samples_split=2, min_samples_leaf=1, max_features=sqrt, max_depth=38, bootstrap=False \n",
      "[CV]  n_estimators=100, min_samples_split=2, min_samples_leaf=2, max_features=sqrt, max_depth=26, bootstrap=False, score=0.933, total=  53.9s\n",
      "[CV] n_estimators=144, min_samples_split=2, min_samples_leaf=1, max_features=sqrt, max_depth=38, bootstrap=False \n",
      "[CV]  n_estimators=100, min_samples_split=2, min_samples_leaf=2, max_features=sqrt, max_depth=26, bootstrap=False, score=0.934, total=  53.0s\n",
      "[CV] n_estimators=144, min_samples_split=2, min_samples_leaf=1, max_features=sqrt, max_depth=38, bootstrap=False \n",
      "[CV]  n_estimators=100, min_samples_split=2, min_samples_leaf=2, max_features=sqrt, max_depth=26, bootstrap=False, score=0.934, total=  54.1s\n",
      "[CV] n_estimators=144, min_samples_split=2, min_samples_leaf=1, max_features=sqrt, max_depth=38, bootstrap=False \n",
      "[CV]  n_estimators=100, min_samples_split=2, min_samples_leaf=2, max_features=sqrt, max_depth=26, bootstrap=False, score=0.935, total=  55.6s\n",
      "[CV] n_estimators=144, min_samples_split=2, min_samples_leaf=1, max_features=sqrt, max_depth=38, bootstrap=False \n",
      "[CV]  n_estimators=100, min_samples_split=2, min_samples_leaf=2, max_features=sqrt, max_depth=26, bootstrap=False, score=0.932, total=  56.0s\n",
      "[CV] n_estimators=144, min_samples_split=2, min_samples_leaf=1, max_features=sqrt, max_depth=38, bootstrap=False \n",
      "[CV]  n_estimators=144, min_samples_split=2, min_samples_leaf=1, max_features=sqrt, max_depth=38, bootstrap=False, score=0.934, total= 1.3min\n",
      "[CV] n_estimators=144, min_samples_split=10, min_samples_leaf=2, max_features=auto, max_depth=38, bootstrap=True \n",
      "[CV]  n_estimators=144, min_samples_split=2, min_samples_leaf=1, max_features=sqrt, max_depth=38, bootstrap=False, score=0.932, total= 1.3min\n",
      "[CV] n_estimators=144, min_samples_split=10, min_samples_leaf=2, max_features=auto, max_depth=38, bootstrap=True \n",
      "[CV]  n_estimators=144, min_samples_split=2, min_samples_leaf=1, max_features=sqrt, max_depth=38, bootstrap=False, score=0.933, total= 1.3min\n",
      "[CV] n_estimators=144, min_samples_split=10, min_samples_leaf=2, max_features=auto, max_depth=38, bootstrap=True \n",
      "[CV]  n_estimators=144, min_samples_split=2, min_samples_leaf=1, max_features=sqrt, max_depth=38, bootstrap=False, score=0.934, total= 1.3min\n",
      "[CV] n_estimators=144, min_samples_split=10, min_samples_leaf=2, max_features=auto, max_depth=38, bootstrap=True \n",
      "[CV]  n_estimators=144, min_samples_split=2, min_samples_leaf=1, max_features=sqrt, max_depth=38, bootstrap=False, score=0.933, total= 1.2min\n",
      "[CV] n_estimators=144, min_samples_split=10, min_samples_leaf=2, max_features=auto, max_depth=38, bootstrap=True \n",
      "[CV]  n_estimators=144, min_samples_split=2, min_samples_leaf=1, max_features=sqrt, max_depth=38, bootstrap=False, score=0.931, total= 1.3min\n",
      "[CV] n_estimators=144, min_samples_split=10, min_samples_leaf=2, max_features=auto, max_depth=38, bootstrap=True \n",
      "[CV]  n_estimators=144, min_samples_split=10, min_samples_leaf=2, max_features=auto, max_depth=38, bootstrap=True, score=0.937, total=  47.4s\n",
      "[CV]  n_estimators=144, min_samples_split=10, min_samples_leaf=2, max_features=auto, max_depth=38, bootstrap=True, score=0.935, total=  47.8s\n",
      "[CV]  n_estimators=144, min_samples_split=10, min_samples_leaf=2, max_features=auto, max_depth=38, bootstrap=True, score=0.936, total=  47.3s[CV]  n_estimators=144, min_samples_split=10, min_samples_leaf=2, max_features=auto, max_depth=38, bootstrap=True, score=0.936, total=  47.0s\n",
      "\n",
      "[CV]  n_estimators=144, min_samples_split=10, min_samples_leaf=2, max_features=auto, max_depth=38, bootstrap=True, score=0.937, total=  46.0s\n",
      "[CV]  n_estimators=144, min_samples_split=10, min_samples_leaf=2, max_features=auto, max_depth=38, bootstrap=True, score=0.935, total=  37.0s\n"
     ]
    },
    {
     "name": "stderr",
     "output_type": "stream",
     "text": [
      "[Parallel(n_jobs=6)]: Done 120 out of 120 | elapsed: 41.0min finished\n"
     ]
    },
    {
     "name": "stdout",
     "output_type": "stream",
     "text": [
      "calibragem finalizada!\n"
     ]
    }
   ],
   "source": [
    "def calibragem_hiperparametros(X, y, potencia_calibragem):\n",
    "    \n",
    "    \"\"\"\n",
    "    \n",
    "    Função para calibrar os hiperparâmetros do modelo Random Forest em busca\n",
    "    da melhor performance no conjunto teste/produção. A função utiliza o\n",
    "    método RandomSearchCV para fazer uma busca aleatória dentro um conjunto\n",
    "    predefinido de hiperparâmetros com relação à combinação que exiba melhor\n",
    "    performance em um conjunto de teste via cross-validation.\n",
    "    \n",
    "    Inputs:\n",
    "        - X: Dataframe de variáveis explicativas.\n",
    "        - y: Dataframe com a variável-resposta.\n",
    "    \n",
    "    Outputs:\n",
    "        - best: dicionário contendo os hiperparâmetros do melhor modelo.\n",
    "    \n",
    "    \"\"\"\n",
    "    \n",
    "    print('calibrando os hiperparâmetros do modelo...')\n",
    "    print(X.shape, y.shape)\n",
    "\n",
    "    rf = RandomForestClassifier(random_state = 12345)\n",
    "    # Number of trees in random forest\n",
    "    n_estimators = [int(x) for x in np.linspace(start = 100, stop = 500, num = 10)]\n",
    "    # Number of features to consider at every split\n",
    "    max_features = ['auto', 'sqrt']\n",
    "    # Maximum number of levels in tree\n",
    "    max_depth = [int(x) for x in np.linspace(10, 50, num = 11)]\n",
    "    max_depth.append(None)\n",
    "    # Minimum number of samples required to split a node\n",
    "    min_samples_split = [2, 5, 10]\n",
    "    # Minimum number of samples required at each leaf node\n",
    "    min_samples_leaf = [1, 2, 4]\n",
    "    # Method of selecting samples for training each tree\n",
    "    bootstrap = [True, False]\n",
    "    # Create the random grid\n",
    "    random_grid = {'n_estimators': n_estimators,\n",
    "                   'max_features': max_features,\n",
    "                   'max_depth': max_depth,\n",
    "                   'min_samples_split': min_samples_split,\n",
    "                   'min_samples_leaf': min_samples_leaf,\n",
    "                   'bootstrap': bootstrap}\n",
    "\n",
    "    # Use the random grid to search for best hyperparameters\n",
    "    # First create the base model to tune\n",
    "    rf = RandomForestClassifier(random_state = 12345)\n",
    "    # Random search of parameters\n",
    "    rf_random = RandomizedSearchCV(estimator = rf, param_distributions = random_grid,\n",
    "                                   n_iter = 10*potencia_calibragem, cv = 3*potencia_calibragem, verbose = 3, random_state = 12345, n_jobs = 6)\n",
    "    # Fit the random search model\n",
    "\n",
    "    with joblib.parallel_backend('threading', n_jobs = 6):\n",
    "        rf_random.fit(X, y)\n",
    "\n",
    "    best = rf_random.best_params_\n",
    "    \n",
    "    print('calibragem finalizada!')\n",
    "    \n",
    "    return best\n",
    "\n",
    "params = calibragem_hiperparametros(train_X, train_y,potencia_calibragem=4)\n"
   ]
  },
  {
   "cell_type": "code",
   "execution_count": 462,
   "metadata": {},
   "outputs": [
    {
     "data": {
      "text/plain": [
       "{'n_estimators': 233,\n",
       " 'min_samples_split': 2,\n",
       " 'min_samples_leaf': 4,\n",
       " 'max_features': 'sqrt',\n",
       " 'max_depth': 30,\n",
       " 'bootstrap': True}"
      ]
     },
     "execution_count": 462,
     "metadata": {},
     "output_type": "execute_result"
    }
   ],
   "source": [
    "params"
   ]
  },
  {
   "cell_type": "code",
   "execution_count": 463,
   "metadata": {},
   "outputs": [],
   "source": [
    "# fit the model on the whole data set\n",
    "model = RandomForestClassifier(**params)\n",
    "result = model.fit(train_X, train_y)\n",
    "# predict = result.predict(test_X)\n",
    "\n"
   ]
  },
  {
   "cell_type": "code",
   "execution_count": 464,
   "metadata": {},
   "outputs": [
    {
     "name": "stdout",
     "output_type": "stream",
     "text": [
      "PR-AUC is -> 0.404806466909871\n"
     ]
    }
   ],
   "source": [
    "AUC = metrics.average_precision_score(train_y, result.predict(train_X))\n",
    "\n",
    "print('PR-AUC is -> ' + str(AUC))"
   ]
  },
  {
   "cell_type": "code",
   "execution_count": 465,
   "metadata": {},
   "outputs": [
    {
     "name": "stdout",
     "output_type": "stream",
     "text": [
      "Train AUC é -> 0.6883312686502805\n",
      "Test AUC é -> 0.5785476982750672\n"
     ]
    }
   ],
   "source": [
    "AUC = metrics.roc_auc_score(train_y, result.predict(train_X))\n",
    "\n",
    "print('Train AUC é -> ' + str(AUC))\n",
    "\n",
    "AUC = metrics.roc_auc_score(test_y, result.predict(test_X))\n",
    "\n",
    "print('Test AUC é -> ' + str(AUC))"
   ]
  },
  {
   "cell_type": "code",
   "execution_count": 466,
   "metadata": {},
   "outputs": [],
   "source": [
    "# create prediction tables\n",
    "train_predicted_prob = pd.DataFrame(result.predict_proba(train_X))\n",
    "train_predicted_prob = train_predicted_prob[1]\n",
    "train_predicted_prob.columns = ['prob']\n",
    "train_actual = train_y.reset_index().drop(labels='index', axis=1)\n",
    "# making a DataFrame with actual and prob columns\n",
    "train_predict = pd.concat([train_actual, train_predicted_prob], axis=1)\n",
    "train_predict.columns = ['actual','prob']\n",
    "\n",
    "test_predicted_prob = pd.DataFrame(result.predict_proba(test_X))\n",
    "test_predicted_prob = test_predicted_prob[1]\n",
    "test_predicted_prob.columns = ['prob']\n",
    "test_actual = test_y.reset_index().drop(labels='index', axis=1)\n",
    "# making a DataFrame with actual and prob columns\n",
    "test_predict = pd.concat([test_actual, test_predicted_prob], axis=1)\n",
    "test_predict.columns = ['actual','prob']"
   ]
  },
  {
   "cell_type": "code",
   "execution_count": 467,
   "metadata": {},
   "outputs": [
    {
     "name": "stderr",
     "output_type": "stream",
     "text": [
      "100%|██████████████████████████████████████████████████████████████████████████████████| 50/50 [08:05<00:00,  9.71s/it]\n"
     ]
    }
   ],
   "source": [
    "## Intuition behind ROC curve - predicted probability as a tool for separating the '1's and '0's\n",
    "def cut_off_calculation(result,train_X,train_predict):\n",
    "    \n",
    "    roc_like_df = pd.DataFrame()\n",
    "    train_temp = train_predict.copy()\n",
    "\n",
    "    for cut_off in  tqdm(np.linspace(0,1,50)):\n",
    "        train_temp['cut_off'] = cut_off\n",
    "        train_temp['predicted'] = train_temp['prob'].apply(lambda x: 0.0 if x < cut_off else 1.0)\n",
    "        train_temp['tp'] = train_temp.apply(lambda x: 1.0 if x['actual']==1.0 and x['predicted']==1 else 0.0, axis=1)\n",
    "        train_temp['fp'] = train_temp.apply(lambda x: 1.0 if x['actual']==0.0 and x['predicted']==1 else 0.0, axis=1)\n",
    "        train_temp['tn'] = train_temp.apply(lambda x: 1.0 if x['actual']==0.0 and x['predicted']==0 else 0.0, axis=1)\n",
    "        train_temp['fn'] = train_temp.apply(lambda x: 1.0 if x['actual']==1.0 and x['predicted']==0 else 0.0, axis=1)\n",
    "        sensitivity = train_temp['tp'].sum() / (train_temp['tp'].sum() + train_temp['fn'].sum())\n",
    "        specificity = train_temp['tn'].sum() / (train_temp['tn'].sum() + train_temp['fp'].sum())\n",
    "        roc_like_table = pd.DataFrame([cut_off, sensitivity, specificity]).T\n",
    "        roc_like_table.columns = ['cutoff', 'sensitivity', 'specificity']\n",
    "        roc_like_df = pd.concat([roc_like_df, roc_like_table], axis=0)\n",
    "    return roc_like_df\n",
    "\n",
    "roc_like_df = cut_off_calculation(result,train_X,train_predict)"
   ]
  },
  {
   "cell_type": "code",
   "execution_count": 468,
   "metadata": {},
   "outputs": [
    {
     "data": {
      "text/html": [
       "<div>\n",
       "<style scoped>\n",
       "    .dataframe tbody tr th:only-of-type {\n",
       "        vertical-align: middle;\n",
       "    }\n",
       "\n",
       "    .dataframe tbody tr th {\n",
       "        vertical-align: top;\n",
       "    }\n",
       "\n",
       "    .dataframe thead th {\n",
       "        text-align: right;\n",
       "    }\n",
       "</style>\n",
       "<table border=\"1\" class=\"dataframe\">\n",
       "  <thead>\n",
       "    <tr style=\"text-align: right;\">\n",
       "      <th></th>\n",
       "      <th>cutoff</th>\n",
       "      <th>sensitivity</th>\n",
       "      <th>specificity</th>\n",
       "      <th>total</th>\n",
       "    </tr>\n",
       "  </thead>\n",
       "  <tbody>\n",
       "    <tr>\n",
       "      <th>0</th>\n",
       "      <td>0.14</td>\n",
       "      <td>1.00</td>\n",
       "      <td>0.93</td>\n",
       "      <td>1.92</td>\n",
       "    </tr>\n",
       "  </tbody>\n",
       "</table>\n",
       "</div>"
      ],
      "text/plain": [
       "   cutoff  sensitivity  specificity  total\n",
       "0    0.14         1.00         0.93   1.92"
      ]
     },
     "execution_count": 468,
     "metadata": {},
     "output_type": "execute_result"
    }
   ],
   "source": [
    "## Finding ideal cut-off for checking if this remains same in OOS validation\n",
    "roc_like_df['total'] = roc_like_df['sensitivity'] + roc_like_df['specificity']\n",
    "roc_like_df[roc_like_df['total']==roc_like_df['total'].max()]"
   ]
  },
  {
   "cell_type": "code",
   "execution_count": 471,
   "metadata": {},
   "outputs": [
    {
     "data": {
      "image/png": "[encoded data removed]",
      "text/plain": [
       "<Figure size 720x540 with 2 Axes>"
      ]
     },
     "metadata": {
      "needs_background": "light"
     },
     "output_type": "display_data"
    }
   ],
   "source": [
    "test_predict['predicted'] = test_predict['prob'].apply(lambda x: 1 if x > 0.14 else 0)\n",
    "sns.heatmap(pd.crosstab(test_predict['actual'], test_predict['predicted'], normalize='index'), annot=True, cmap='PuBu')\n",
    "plt.title('Test Data Confusion Matrix')\n",
    "plt.show()\n",
    "\n",
    "train_predict['predicted'] = train_predict['prob'].apply(lambda x: 1 if x > 0.14 else 0)"
   ]
  },
  {
   "cell_type": "code",
   "execution_count": 472,
   "metadata": {},
   "outputs": [
    {
     "name": "stdout",
     "output_type": "stream",
     "text": [
      "A pontuação geral de precisão para a Train Data é:  0.9286233766233766\n",
      "A pontuação geral de precisão para a Test Data é:  0.8760909090909091\n"
     ]
    }
   ],
   "source": [
    "print(\"A pontuação geral de precisão para a Train Data é: \", metrics.accuracy_score(train_predict.actual, train_predict.predicted))\n",
    "print(\"A pontuação geral de precisão para a Test Data é: \", metrics.accuracy_score(test_predict.actual, test_predict.predicted))"
   ]
  },
  {
   "cell_type": "markdown",
   "metadata": {},
   "source": [
    "------------\n",
    "\n",
    "Mesmo após a calibragem do hiperparâmetros, o modelo **RandomForestClassifier** ainda apresenta desempenho **inferior** ao modelo de **Regressão Logística** se comparados pela métrica ROC-AUC.\n",
    "\n",
    "Ainda que o modelo **RandomForestClassifier** tenha melhor performance se utilizarmos a métrica [PR-AUC](https://towardsdatascience.com/choosing-the-right-metric-is-a-huge-issue-99ccbe73de61) continuo considerando o desempenho do modelo de **[Regressão Logistica com dados balanceados](#2.-Regressão-logística-via-modelo-estatístico-com-o-data-set-balanceado)** como sendo o que melhor descreve e prediz a **resolução do problema proposto neste case** e portanto será a partir dele que calcularei a **planilha de resultados** enviada para avaliação."
   ]
  },
  {
   "cell_type": "markdown",
   "metadata": {},
   "source": [
    "## 6. Gerando planilha de resultados"
   ]
  },
  {
   "cell_type": "markdown",
   "metadata": {
    "_uuid": "d42fbb81796183502ea7fe37f3a5f310d55a0bbf"
   },
   "source": [
    "## Regressão logística via modelo estatístico"
   ]
  },
  {
   "cell_type": "markdown",
   "metadata": {},
   "source": [
    "#### Dividindo train e test"
   ]
  },
  {
   "cell_type": "code",
   "execution_count": 513,
   "metadata": {},
   "outputs": [],
   "source": [
    "train_features = emprestimos.columns.difference(['inadimplente'])\n",
    "train_X_y, test_X_y = train_test_split(emprestimos, test_size=0.3, random_state=42)"
   ]
  },
  {
   "cell_type": "code",
   "execution_count": 514,
   "metadata": {
    "scrolled": true
   },
   "outputs": [
    {
     "name": "stdout",
     "output_type": "stream",
     "text": [
      "Previous Counter({0: 71804, 1: 5196})\n",
      "New Counter({0: 14360, 1: 7180})\n"
     ]
    }
   ],
   "source": [
    "# transformar o data set\n",
    "over = SMOTE(sampling_strategy=0.1, random_state=42)\n",
    "under = RandomUnderSampler(sampling_strategy=0.5, random_state=42)\n",
    "\n",
    "steps = [('o', over), ('u', under)]\n",
    "pipeline = Pipeline(steps=steps)\n",
    "\n",
    "X = train_X_y.drop(labels='inadimplente', axis=1)\n",
    "y =  train_X_y['inadimplente']\n",
    "counter = Counter(y)\n",
    "print('Previous', counter)\n",
    "X, y = pipeline.fit_resample(X, y)\n",
    "\n",
    "counter = Counter(y)\n",
    "print('New' ,counter)"
   ]
  },
  {
   "cell_type": "markdown",
   "metadata": {},
   "source": [
    "-----------------------\n"
   ]
  },
  {
   "cell_type": "markdown",
   "metadata": {},
   "source": [
    "### Gerando Modelo e  conferindo resultados "
   ]
  },
  {
   "cell_type": "code",
   "execution_count": 515,
   "metadata": {},
   "outputs": [],
   "source": [
    "train_y = pd.DataFrame(y, columns=['inadimplente'])\n",
    "train_X_y = train_y.merge(X, how='left', left_index=True, right_index=True)"
   ]
  },
  {
   "cell_type": "code",
   "execution_count": 516,
   "metadata": {
    "_uuid": "3d2dc72b9132a975f3c5643901478cd4ee1f3a36"
   },
   "outputs": [
    {
     "name": "stdout",
     "output_type": "stream",
     "text": [
      "Optimization terminated successfully.\n",
      "         Current function value: 0.458286\n",
      "         Iterations 6\n"
     ]
    },
    {
     "data": {
      "text/html": [
       "<table class=\"simpletable\">\n",
       "<caption>Logit Regression Results</caption>\n",
       "<tr>\n",
       "  <th>Dep. Variable:</th>     <td>inadimplente</td>   <th>  No. Observations:  </th>  <td> 21540</td> \n",
       "</tr>\n",
       "<tr>\n",
       "  <th>Model:</th>                 <td>Logit</td>      <th>  Df Residuals:      </th>  <td> 21529</td> \n",
       "</tr>\n",
       "<tr>\n",
       "  <th>Method:</th>                 <td>MLE</td>       <th>  Df Model:          </th>  <td>    10</td> \n",
       "</tr>\n",
       "<tr>\n",
       "  <th>Date:</th>            <td>Fri, 27 Aug 2021</td> <th>  Pseudo R-squ.:     </th>  <td>0.2800</td> \n",
       "</tr>\n",
       "<tr>\n",
       "  <th>Time:</th>                <td>20:00:30</td>     <th>  Log-Likelihood:    </th> <td> -9871.5</td>\n",
       "</tr>\n",
       "<tr>\n",
       "  <th>converged:</th>             <td>True</td>       <th>  LL-Null:           </th> <td> -13711.</td>\n",
       "</tr>\n",
       "<tr>\n",
       "  <th>Covariance Type:</th>     <td>nonrobust</td>    <th>  LLR p-value:       </th>  <td> 0.000</td> \n",
       "</tr>\n",
       "</table>\n",
       "<table class=\"simpletable\">\n",
       "<tr>\n",
       "                    <td></td>                       <th>coef</th>     <th>std err</th>      <th>z</th>      <th>P>|z|</th>  <th>[0.025</th>    <th>0.975]</th>  \n",
       "</tr>\n",
       "<tr>\n",
       "  <th>Intercept</th>                             <td>   -1.6008</td> <td>    0.085</td> <td>  -18.863</td> <td> 0.000</td> <td>   -1.767</td> <td>   -1.434</td>\n",
       "</tr>\n",
       "<tr>\n",
       "  <th>idade</th>                                 <td>   -0.0197</td> <td>    0.001</td> <td>  -13.918</td> <td> 0.000</td> <td>   -0.022</td> <td>   -0.017</td>\n",
       "</tr>\n",
       "<tr>\n",
       "  <th>numero_de_dependentes</th>                 <td>    0.0487</td> <td>    0.017</td> <td>    2.948</td> <td> 0.003</td> <td>    0.016</td> <td>    0.081</td>\n",
       "</tr>\n",
       "<tr>\n",
       "  <th>numero_de_vezes_que_passou_60_89_dias</th> <td>    0.6880</td> <td>    0.053</td> <td>   12.917</td> <td> 0.000</td> <td>    0.584</td> <td>    0.792</td>\n",
       "</tr>\n",
       "<tr>\n",
       "  <th>numero_emprestimos_imobiliarios</th>       <td>   -0.0248</td> <td>    0.021</td> <td>   -1.171</td> <td> 0.242</td> <td>   -0.066</td> <td>    0.017</td>\n",
       "</tr>\n",
       "<tr>\n",
       "  <th>numero_linhas_crdto_aberto</th>            <td>    0.0487</td> <td>    0.004</td> <td>   11.763</td> <td> 0.000</td> <td>    0.041</td> <td>    0.057</td>\n",
       "</tr>\n",
       "<tr>\n",
       "  <th>numero_vezes_passou_90_dias</th>           <td>    0.8870</td> <td>    0.041</td> <td>   21.879</td> <td> 0.000</td> <td>    0.808</td> <td>    0.966</td>\n",
       "</tr>\n",
       "<tr>\n",
       "  <th>razao_debito</th>                          <td>-4.274e-06</td> <td> 1.99e-05</td> <td>   -0.215</td> <td> 0.830</td> <td>-4.33e-05</td> <td> 3.48e-05</td>\n",
       "</tr>\n",
       "<tr>\n",
       "  <th>salario_mensal</th>                        <td>-1.705e-05</td> <td>  5.1e-06</td> <td>   -3.345</td> <td> 0.001</td> <td> -2.7e-05</td> <td>-7.06e-06</td>\n",
       "</tr>\n",
       "<tr>\n",
       "  <th>util_linhas_inseguras</th>                 <td>    2.1893</td> <td>    0.051</td> <td>   42.652</td> <td> 0.000</td> <td>    2.089</td> <td>    2.290</td>\n",
       "</tr>\n",
       "<tr>\n",
       "  <th>vezes_passou_de_30_59_dias</th>            <td>    0.5216</td> <td>    0.024</td> <td>   22.170</td> <td> 0.000</td> <td>    0.475</td> <td>    0.568</td>\n",
       "</tr>\n",
       "</table>"
      ],
      "text/plain": [
       "<class 'statsmodels.iolib.summary.Summary'>\n",
       "\"\"\"\n",
       "                           Logit Regression Results                           \n",
       "==============================================================================\n",
       "Dep. Variable:           inadimplente   No. Observations:                21540\n",
       "Model:                          Logit   Df Residuals:                    21529\n",
       "Method:                           MLE   Df Model:                           10\n",
       "Date:                Fri, 27 Aug 2021   Pseudo R-squ.:                  0.2800\n",
       "Time:                        20:00:30   Log-Likelihood:                -9871.5\n",
       "converged:                       True   LL-Null:                       -13711.\n",
       "Covariance Type:            nonrobust   LLR p-value:                     0.000\n",
       "=========================================================================================================\n",
       "                                            coef    std err          z      P>|z|      [0.025      0.975]\n",
       "---------------------------------------------------------------------------------------------------------\n",
       "Intercept                                -1.6008      0.085    -18.863      0.000      -1.767      -1.434\n",
       "idade                                    -0.0197      0.001    -13.918      0.000      -0.022      -0.017\n",
       "numero_de_dependentes                     0.0487      0.017      2.948      0.003       0.016       0.081\n",
       "numero_de_vezes_que_passou_60_89_dias     0.6880      0.053     12.917      0.000       0.584       0.792\n",
       "numero_emprestimos_imobiliarios          -0.0248      0.021     -1.171      0.242      -0.066       0.017\n",
       "numero_linhas_crdto_aberto                0.0487      0.004     11.763      0.000       0.041       0.057\n",
       "numero_vezes_passou_90_dias               0.8870      0.041     21.879      0.000       0.808       0.966\n",
       "razao_debito                          -4.274e-06   1.99e-05     -0.215      0.830   -4.33e-05    3.48e-05\n",
       "salario_mensal                        -1.705e-05    5.1e-06     -3.345      0.001    -2.7e-05   -7.06e-06\n",
       "util_linhas_inseguras                     2.1893      0.051     42.652      0.000       2.089       2.290\n",
       "vezes_passou_de_30_59_dias                0.5216      0.024     22.170      0.000       0.475       0.568\n",
       "=========================================================================================================\n",
       "\"\"\""
      ]
     },
     "execution_count": 516,
     "metadata": {},
     "output_type": "execute_result"
    }
   ],
   "source": [
    "logreg = sm.logit(formula='inadimplente ~ ' + \"+\".join(train_features), data=train_X_y)\n",
    "result = logreg.fit()\n",
    "summ = result.summary()\n",
    "summ"
   ]
  },
  {
   "cell_type": "code",
   "execution_count": 517,
   "metadata": {},
   "outputs": [
    {
     "name": "stdout",
     "output_type": "stream",
     "text": [
      "PR-AUC is -> 0.3617625514827067\n"
     ]
    }
   ],
   "source": [
    "AUC = metrics.average_precision_score(test_X_y['inadimplente'], result.predict(test_X_y[train_features]))\n",
    "\n",
    "print('PR-AUC is -> ' + str(AUC))"
   ]
  },
  {
   "cell_type": "code",
   "execution_count": 518,
   "metadata": {
    "_uuid": "5673188167d209743821cb92a219e01b444826f8"
   },
   "outputs": [
    {
     "name": "stdout",
     "output_type": "stream",
     "text": [
      "Train AUC é -> 0.847240943195661\n",
      "Test AUC é -> 0.8460855102544851\n"
     ]
    }
   ],
   "source": [
    "AUC = metrics.roc_auc_score(train_X_y['inadimplente'], result.predict(train_X_y[train_features]))\n",
    "\n",
    "print('Train AUC é -> ' + str(AUC))\n",
    "\n",
    "AUC = metrics.roc_auc_score(test_X_y['inadimplente'], result.predict(test_X_y[train_features]))\n",
    "\n",
    "print('Test AUC é -> ' + str(AUC))"
   ]
  },
  {
   "cell_type": "code",
   "execution_count": 519,
   "metadata": {
    "_uuid": "26ea2baf48c70423ce31d733b353d7c150f65107"
   },
   "outputs": [
    {
     "name": "stdout",
     "output_type": "stream",
     "text": [
      "The Gini Index for the model built on the Train Data is :  0.694481886391322\n",
      "The Gini Index for the model built on the Test Data is :  0.6921710205089702\n"
     ]
    }
   ],
   "source": [
    "train_gini = 2*metrics.roc_auc_score(train_X_y['inadimplente'], result.predict(train_X_y[train_features])) - 1\n",
    "print(\"The Gini Index for the model built on the Train Data is : \", train_gini)\n",
    "\n",
    "test_gini = 2*metrics.roc_auc_score(test_X_y['inadimplente'], result.predict(test_X_y[train_features])) - 1\n",
    "print(\"The Gini Index for the model built on the Test Data is : \", test_gini)"
   ]
  },
  {
   "cell_type": "code",
   "execution_count": 520,
   "metadata": {
    "_uuid": "c2df5a4580e35a786bcb62ce3415149717af411a"
   },
   "outputs": [
    {
     "name": "stderr",
     "output_type": "stream",
     "text": [
      "100%|██████████████████████████████████████████████████████████████████████████████████| 50/50 [02:16<00:00,  2.73s/it]\n"
     ]
    }
   ],
   "source": [
    "train_predicted_prob = pd.DataFrame(result.predict(train_X_y[train_features]))\n",
    "train_predicted_prob.columns = ['prob']\n",
    "train_actual = train_X_y['inadimplente']\n",
    "# making a DataFrame with actual and prob columns\n",
    "train_predict = pd.concat([train_actual, train_predicted_prob], axis=1)\n",
    "train_predict.columns = ['actual','prob']\n",
    "\n",
    "test_predicted_prob = pd.DataFrame(result.predict(test_X_y[train_features]))\n",
    "test_predicted_prob.columns = ['prob']\n",
    "test_actual = test_X_y['inadimplente']\n",
    "# making a DataFrame with actual and prob columns\n",
    "test_predict = pd.concat([test_actual, test_predicted_prob], axis=1)\n",
    "test_predict.columns = ['actual','prob']\n",
    "\n",
    "## Intuition behind ROC curve - predicted probability as a tool for separating the '1's and '0's\n",
    "def cut_off_calculation(result,train_X,train_predict):\n",
    "    \n",
    "    roc_like_df = pd.DataFrame()\n",
    "    train_temp = train_predict.copy()\n",
    "\n",
    "    for cut_off in  tqdm(np.linspace(0,1,50)):\n",
    "        train_temp['cut_off'] = cut_off\n",
    "        train_temp['predicted'] = train_temp['prob'].apply(lambda x: 0.0 if x < cut_off else 1.0)\n",
    "        train_temp['tp'] = train_temp.apply(lambda x: 1.0 if x['actual']==1.0 and x['predicted']==1 else 0.0, axis=1)\n",
    "        train_temp['fp'] = train_temp.apply(lambda x: 1.0 if x['actual']==0.0 and x['predicted']==1 else 0.0, axis=1)\n",
    "        train_temp['tn'] = train_temp.apply(lambda x: 1.0 if x['actual']==0.0 and x['predicted']==0 else 0.0, axis=1)\n",
    "        train_temp['fn'] = train_temp.apply(lambda x: 1.0 if x['actual']==1.0 and x['predicted']==0 else 0.0, axis=1)\n",
    "        sensitivity = train_temp['tp'].sum() / (train_temp['tp'].sum() + train_temp['fn'].sum())\n",
    "        specificity = train_temp['tn'].sum() / (train_temp['tn'].sum() + train_temp['fp'].sum())\n",
    "        roc_like_table = pd.DataFrame([cut_off, sensitivity, specificity]).T\n",
    "        roc_like_table.columns = ['cutoff', 'sensitivity', 'specificity']\n",
    "        roc_like_df = pd.concat([roc_like_df, roc_like_table], axis=0)\n",
    "    return roc_like_df\n",
    "\n",
    "roc_like_df = cut_off_calculation(result,train_X,train_predict)"
   ]
  },
  {
   "cell_type": "code",
   "execution_count": 521,
   "metadata": {
    "_uuid": "7a335b631e95ffe386366084eb90858342458032"
   },
   "outputs": [
    {
     "data": {
      "text/html": [
       "<div>\n",
       "<style scoped>\n",
       "    .dataframe tbody tr th:only-of-type {\n",
       "        vertical-align: middle;\n",
       "    }\n",
       "\n",
       "    .dataframe tbody tr th {\n",
       "        vertical-align: top;\n",
       "    }\n",
       "\n",
       "    .dataframe thead th {\n",
       "        text-align: right;\n",
       "    }\n",
       "</style>\n",
       "<table border=\"1\" class=\"dataframe\">\n",
       "  <thead>\n",
       "    <tr style=\"text-align: right;\">\n",
       "      <th></th>\n",
       "      <th>cutoff</th>\n",
       "      <th>sensitivity</th>\n",
       "      <th>specificity</th>\n",
       "      <th>total</th>\n",
       "    </tr>\n",
       "  </thead>\n",
       "  <tbody>\n",
       "    <tr>\n",
       "      <th>0</th>\n",
       "      <td>0.29</td>\n",
       "      <td>0.79</td>\n",
       "      <td>0.75</td>\n",
       "      <td>1.54</td>\n",
       "    </tr>\n",
       "  </tbody>\n",
       "</table>\n",
       "</div>"
      ],
      "text/plain": [
       "   cutoff  sensitivity  specificity  total\n",
       "0    0.29         0.79         0.75   1.54"
      ]
     },
     "execution_count": 521,
     "metadata": {},
     "output_type": "execute_result"
    }
   ],
   "source": [
    "## Finding ideal cut-off for checking if this remains same in OOS validation\n",
    "roc_like_df['total'] = roc_like_df['sensitivity'] + roc_like_df['specificity']\n",
    "roc_like_df[roc_like_df['total']==roc_like_df['total'].max()]"
   ]
  },
  {
   "cell_type": "code",
   "execution_count": 522,
   "metadata": {
    "_uuid": "5e7aba9e1b6f80d08dab6ef26fd9e25cf3cbdb88"
   },
   "outputs": [
    {
     "data": {
      "image/png": "[encoded data removed]",
      "text/plain": [
       "<Figure size 720x540 with 2 Axes>"
      ]
     },
     "metadata": {
      "needs_background": "light"
     },
     "output_type": "display_data"
    }
   ],
   "source": [
    "test_predict['predicted'] = test_predict['prob'].apply(lambda x: 1 if x > 0.29 else 0)\n",
    "sns.heatmap(pd.crosstab(test_predict['actual'], test_predict['predicted'], normalize='index'), annot=True, cmap='PuBu')\n",
    "plt.title('Test Data Confusion Matrix')\n",
    "plt.show()\n",
    "\n",
    "train_predict['predicted'] = train_predict['prob'].apply(lambda x: 1 if x > 0.29 else 0)\n"
   ]
  },
  {
   "cell_type": "markdown",
   "metadata": {},
   "source": [
    "**Agora que me certifiquei de que o modelo está salvo e rodando irei gerar a tabela de previsões para o mesmo.**\n",
    "\n"
   ]
  },
  {
   "cell_type": "code",
   "execution_count": 538,
   "metadata": {
    "tags": []
   },
   "outputs": [
    {
     "data": {
      "text/html": [
       "<div>\n",
       "<style scoped>\n",
       "    .dataframe tbody tr th:only-of-type {\n",
       "        vertical-align: middle;\n",
       "    }\n",
       "\n",
       "    .dataframe tbody tr th {\n",
       "        vertical-align: top;\n",
       "    }\n",
       "\n",
       "    .dataframe thead th {\n",
       "        text-align: right;\n",
       "    }\n",
       "</style>\n",
       "<table border=\"1\" class=\"dataframe\">\n",
       "  <thead>\n",
       "    <tr style=\"text-align: right;\">\n",
       "      <th></th>\n",
       "      <th>util_linhas_inseguras</th>\n",
       "      <th>idade</th>\n",
       "      <th>vezes_passou_de_30_59_dias</th>\n",
       "      <th>razao_debito</th>\n",
       "      <th>salario_mensal</th>\n",
       "      <th>numero_linhas_crdto_aberto</th>\n",
       "      <th>numero_vezes_passou_90_dias</th>\n",
       "      <th>numero_emprestimos_imobiliarios</th>\n",
       "      <th>numero_de_vezes_que_passou_60_89_dias</th>\n",
       "      <th>numero_de_dependentes</th>\n",
       "    </tr>\n",
       "  </thead>\n",
       "  <tbody>\n",
       "    <tr>\n",
       "      <th>0</th>\n",
       "      <td>0.03</td>\n",
       "      <td>62</td>\n",
       "      <td>0</td>\n",
       "      <td>0.08</td>\n",
       "      <td>8180.00</td>\n",
       "      <td>3</td>\n",
       "      <td>0</td>\n",
       "      <td>2</td>\n",
       "      <td>0</td>\n",
       "      <td>0.00</td>\n",
       "    </tr>\n",
       "    <tr>\n",
       "      <th>1</th>\n",
       "      <td>0.67</td>\n",
       "      <td>55</td>\n",
       "      <td>0</td>\n",
       "      <td>0.15</td>\n",
       "      <td>2200.00</td>\n",
       "      <td>3</td>\n",
       "      <td>0</td>\n",
       "      <td>0</td>\n",
       "      <td>0</td>\n",
       "      <td>0.00</td>\n",
       "    </tr>\n",
       "    <tr>\n",
       "      <th>2</th>\n",
       "      <td>0.01</td>\n",
       "      <td>44</td>\n",
       "      <td>0</td>\n",
       "      <td>0.15</td>\n",
       "      <td>7499.00</td>\n",
       "      <td>20</td>\n",
       "      <td>0</td>\n",
       "      <td>1</td>\n",
       "      <td>0</td>\n",
       "      <td>0.00</td>\n",
       "    </tr>\n",
       "    <tr>\n",
       "      <th>3</th>\n",
       "      <td>0.09</td>\n",
       "      <td>54</td>\n",
       "      <td>0</td>\n",
       "      <td>0.35</td>\n",
       "      <td>5900.00</td>\n",
       "      <td>15</td>\n",
       "      <td>0</td>\n",
       "      <td>1</td>\n",
       "      <td>1</td>\n",
       "      <td>0.00</td>\n",
       "    </tr>\n",
       "    <tr>\n",
       "      <th>4</th>\n",
       "      <td>0.11</td>\n",
       "      <td>54</td>\n",
       "      <td>0</td>\n",
       "      <td>0.07</td>\n",
       "      <td>2167.00</td>\n",
       "      <td>3</td>\n",
       "      <td>0</td>\n",
       "      <td>0</td>\n",
       "      <td>0</td>\n",
       "      <td>0.00</td>\n",
       "    </tr>\n",
       "    <tr>\n",
       "      <th>...</th>\n",
       "      <td>...</td>\n",
       "      <td>...</td>\n",
       "      <td>...</td>\n",
       "      <td>...</td>\n",
       "      <td>...</td>\n",
       "      <td>...</td>\n",
       "      <td>...</td>\n",
       "      <td>...</td>\n",
       "      <td>...</td>\n",
       "      <td>...</td>\n",
       "    </tr>\n",
       "    <tr>\n",
       "      <th>39995</th>\n",
       "      <td>0.00</td>\n",
       "      <td>68</td>\n",
       "      <td>1</td>\n",
       "      <td>0.06</td>\n",
       "      <td>10833.00</td>\n",
       "      <td>9</td>\n",
       "      <td>1</td>\n",
       "      <td>0</td>\n",
       "      <td>0</td>\n",
       "      <td>0.00</td>\n",
       "    </tr>\n",
       "    <tr>\n",
       "      <th>39996</th>\n",
       "      <td>0.06</td>\n",
       "      <td>84</td>\n",
       "      <td>0</td>\n",
       "      <td>0.01</td>\n",
       "      <td>8456.00</td>\n",
       "      <td>7</td>\n",
       "      <td>0</td>\n",
       "      <td>0</td>\n",
       "      <td>0</td>\n",
       "      <td>0.00</td>\n",
       "    </tr>\n",
       "    <tr>\n",
       "      <th>39997</th>\n",
       "      <td>0.82</td>\n",
       "      <td>70</td>\n",
       "      <td>0</td>\n",
       "      <td>0.66</td>\n",
       "      <td>6000.00</td>\n",
       "      <td>17</td>\n",
       "      <td>0</td>\n",
       "      <td>2</td>\n",
       "      <td>0</td>\n",
       "      <td>0.00</td>\n",
       "    </tr>\n",
       "    <tr>\n",
       "      <th>39998</th>\n",
       "      <td>0.11</td>\n",
       "      <td>64</td>\n",
       "      <td>2</td>\n",
       "      <td>0.87</td>\n",
       "      <td>5045.00</td>\n",
       "      <td>12</td>\n",
       "      <td>0</td>\n",
       "      <td>4</td>\n",
       "      <td>0</td>\n",
       "      <td>0.00</td>\n",
       "    </tr>\n",
       "    <tr>\n",
       "      <th>39999</th>\n",
       "      <td>1.00</td>\n",
       "      <td>28</td>\n",
       "      <td>0</td>\n",
       "      <td>0.00</td>\n",
       "      <td>3500.00</td>\n",
       "      <td>0</td>\n",
       "      <td>1</td>\n",
       "      <td>0</td>\n",
       "      <td>0</td>\n",
       "      <td>0.00</td>\n",
       "    </tr>\n",
       "  </tbody>\n",
       "</table>\n",
       "<p>40000 rows × 10 columns</p>\n",
       "</div>"
      ],
      "text/plain": [
       "       util_linhas_inseguras  idade  vezes_passou_de_30_59_dias  razao_debito  \\\n",
       "0                       0.03     62                           0          0.08   \n",
       "1                       0.67     55                           0          0.15   \n",
       "2                       0.01     44                           0          0.15   \n",
       "3                       0.09     54                           0          0.35   \n",
       "4                       0.11     54                           0          0.07   \n",
       "...                      ...    ...                         ...           ...   \n",
       "39995                   0.00     68                           1          0.06   \n",
       "39996                   0.06     84                           0          0.01   \n",
       "39997                   0.82     70                           0          0.66   \n",
       "39998                   0.11     64                           2          0.87   \n",
       "39999                   1.00     28                           0          0.00   \n",
       "\n",
       "       salario_mensal  numero_linhas_crdto_aberto  \\\n",
       "0             8180.00                           3   \n",
       "1             2200.00                           3   \n",
       "2             7499.00                          20   \n",
       "3             5900.00                          15   \n",
       "4             2167.00                           3   \n",
       "...               ...                         ...   \n",
       "39995        10833.00                           9   \n",
       "39996         8456.00                           7   \n",
       "39997         6000.00                          17   \n",
       "39998         5045.00                          12   \n",
       "39999         3500.00                           0   \n",
       "\n",
       "       numero_vezes_passou_90_dias  numero_emprestimos_imobiliarios  \\\n",
       "0                                0                                2   \n",
       "1                                0                                0   \n",
       "2                                0                                1   \n",
       "3                                0                                1   \n",
       "4                                0                                0   \n",
       "...                            ...                              ...   \n",
       "39995                            1                                0   \n",
       "39996                            0                                0   \n",
       "39997                            0                                2   \n",
       "39998                            0                                4   \n",
       "39999                            1                                0   \n",
       "\n",
       "       numero_de_vezes_que_passou_60_89_dias  numero_de_dependentes  \n",
       "0                                          0                   0.00  \n",
       "1                                          0                   0.00  \n",
       "2                                          0                   0.00  \n",
       "3                                          1                   0.00  \n",
       "4                                          0                   0.00  \n",
       "...                                      ...                    ...  \n",
       "39995                                      0                   0.00  \n",
       "39996                                      0                   0.00  \n",
       "39997                                      0                   0.00  \n",
       "39998                                      0                   0.00  \n",
       "39999                                      0                   0.00  \n",
       "\n",
       "[40000 rows x 10 columns]"
      ]
     },
     "execution_count": 538,
     "metadata": {},
     "output_type": "execute_result"
    }
   ],
   "source": [
    "teste = pd.read_csv('teste.csv')\n",
    "teste=teste.apply(lambda x: outlier_capping(x))\n",
    "teste=teste.apply(lambda x: Missing_imputation(x))\n",
    "\n",
    "teste"
   ]
  },
  {
   "cell_type": "code",
   "execution_count": 539,
   "metadata": {},
   "outputs": [],
   "source": [
    "teste['inadimplente'] = result.predict(teste)\n",
    "teste['inadimplente'] = teste['inadimplente'].apply(lambda x: 1 if x > 0.29 else 0)\n"
   ]
  },
  {
   "cell_type": "code",
   "execution_count": 542,
   "metadata": {},
   "outputs": [],
   "source": [
    "cols =  ['inadimplente', 'util_linhas_inseguras', 'idade',\n",
    "        'vezes_passou_de_30_59_dias', 'razao_debito', 'salario_mensal',\n",
    "        'numero_linhas_crdto_aberto', 'numero_vezes_passou_90_dias',\n",
    "        'numero_emprestimos_imobiliarios',\n",
    "        'numero_de_vezes_que_passou_60_89_dias', 'numero_de_dependentes']"
   ]
  },
  {
   "cell_type": "code",
   "execution_count": 544,
   "metadata": {},
   "outputs": [
    {
     "data": {
      "text/html": [
       "<div>\n",
       "<style scoped>\n",
       "    .dataframe tbody tr th:only-of-type {\n",
       "        vertical-align: middle;\n",
       "    }\n",
       "\n",
       "    .dataframe tbody tr th {\n",
       "        vertical-align: top;\n",
       "    }\n",
       "\n",
       "    .dataframe thead th {\n",
       "        text-align: right;\n",
       "    }\n",
       "</style>\n",
       "<table border=\"1\" class=\"dataframe\">\n",
       "  <thead>\n",
       "    <tr style=\"text-align: right;\">\n",
       "      <th></th>\n",
       "      <th>inadimplente</th>\n",
       "      <th>util_linhas_inseguras</th>\n",
       "      <th>idade</th>\n",
       "      <th>vezes_passou_de_30_59_dias</th>\n",
       "      <th>razao_debito</th>\n",
       "      <th>salario_mensal</th>\n",
       "      <th>numero_linhas_crdto_aberto</th>\n",
       "      <th>numero_vezes_passou_90_dias</th>\n",
       "      <th>numero_emprestimos_imobiliarios</th>\n",
       "      <th>numero_de_vezes_que_passou_60_89_dias</th>\n",
       "      <th>numero_de_dependentes</th>\n",
       "    </tr>\n",
       "  </thead>\n",
       "  <tbody>\n",
       "    <tr>\n",
       "      <th>0</th>\n",
       "      <td>0</td>\n",
       "      <td>0.03</td>\n",
       "      <td>62</td>\n",
       "      <td>0</td>\n",
       "      <td>0.08</td>\n",
       "      <td>8180.00</td>\n",
       "      <td>3</td>\n",
       "      <td>0</td>\n",
       "      <td>2</td>\n",
       "      <td>0</td>\n",
       "      <td>0.00</td>\n",
       "    </tr>\n",
       "    <tr>\n",
       "      <th>1</th>\n",
       "      <td>0</td>\n",
       "      <td>0.67</td>\n",
       "      <td>55</td>\n",
       "      <td>0</td>\n",
       "      <td>0.15</td>\n",
       "      <td>2200.00</td>\n",
       "      <td>3</td>\n",
       "      <td>0</td>\n",
       "      <td>0</td>\n",
       "      <td>0</td>\n",
       "      <td>0.00</td>\n",
       "    </tr>\n",
       "    <tr>\n",
       "      <th>2</th>\n",
       "      <td>0</td>\n",
       "      <td>0.01</td>\n",
       "      <td>44</td>\n",
       "      <td>0</td>\n",
       "      <td>0.15</td>\n",
       "      <td>7499.00</td>\n",
       "      <td>20</td>\n",
       "      <td>0</td>\n",
       "      <td>1</td>\n",
       "      <td>0</td>\n",
       "      <td>0.00</td>\n",
       "    </tr>\n",
       "    <tr>\n",
       "      <th>3</th>\n",
       "      <td>0</td>\n",
       "      <td>0.09</td>\n",
       "      <td>54</td>\n",
       "      <td>0</td>\n",
       "      <td>0.35</td>\n",
       "      <td>5900.00</td>\n",
       "      <td>15</td>\n",
       "      <td>0</td>\n",
       "      <td>1</td>\n",
       "      <td>1</td>\n",
       "      <td>0.00</td>\n",
       "    </tr>\n",
       "    <tr>\n",
       "      <th>4</th>\n",
       "      <td>0</td>\n",
       "      <td>0.11</td>\n",
       "      <td>54</td>\n",
       "      <td>0</td>\n",
       "      <td>0.07</td>\n",
       "      <td>2167.00</td>\n",
       "      <td>3</td>\n",
       "      <td>0</td>\n",
       "      <td>0</td>\n",
       "      <td>0</td>\n",
       "      <td>0.00</td>\n",
       "    </tr>\n",
       "    <tr>\n",
       "      <th>...</th>\n",
       "      <td>...</td>\n",
       "      <td>...</td>\n",
       "      <td>...</td>\n",
       "      <td>...</td>\n",
       "      <td>...</td>\n",
       "      <td>...</td>\n",
       "      <td>...</td>\n",
       "      <td>...</td>\n",
       "      <td>...</td>\n",
       "      <td>...</td>\n",
       "      <td>...</td>\n",
       "    </tr>\n",
       "    <tr>\n",
       "      <th>39995</th>\n",
       "      <td>0</td>\n",
       "      <td>0.00</td>\n",
       "      <td>68</td>\n",
       "      <td>1</td>\n",
       "      <td>0.06</td>\n",
       "      <td>10833.00</td>\n",
       "      <td>9</td>\n",
       "      <td>1</td>\n",
       "      <td>0</td>\n",
       "      <td>0</td>\n",
       "      <td>0.00</td>\n",
       "    </tr>\n",
       "    <tr>\n",
       "      <th>39996</th>\n",
       "      <td>0</td>\n",
       "      <td>0.06</td>\n",
       "      <td>84</td>\n",
       "      <td>0</td>\n",
       "      <td>0.01</td>\n",
       "      <td>8456.00</td>\n",
       "      <td>7</td>\n",
       "      <td>0</td>\n",
       "      <td>0</td>\n",
       "      <td>0</td>\n",
       "      <td>0.00</td>\n",
       "    </tr>\n",
       "    <tr>\n",
       "      <th>39997</th>\n",
       "      <td>1</td>\n",
       "      <td>0.82</td>\n",
       "      <td>70</td>\n",
       "      <td>0</td>\n",
       "      <td>0.66</td>\n",
       "      <td>6000.00</td>\n",
       "      <td>17</td>\n",
       "      <td>0</td>\n",
       "      <td>2</td>\n",
       "      <td>0</td>\n",
       "      <td>0.00</td>\n",
       "    </tr>\n",
       "    <tr>\n",
       "      <th>39998</th>\n",
       "      <td>0</td>\n",
       "      <td>0.11</td>\n",
       "      <td>64</td>\n",
       "      <td>2</td>\n",
       "      <td>0.87</td>\n",
       "      <td>5045.00</td>\n",
       "      <td>12</td>\n",
       "      <td>0</td>\n",
       "      <td>4</td>\n",
       "      <td>0</td>\n",
       "      <td>0.00</td>\n",
       "    </tr>\n",
       "    <tr>\n",
       "      <th>39999</th>\n",
       "      <td>1</td>\n",
       "      <td>1.00</td>\n",
       "      <td>28</td>\n",
       "      <td>0</td>\n",
       "      <td>0.00</td>\n",
       "      <td>3500.00</td>\n",
       "      <td>0</td>\n",
       "      <td>1</td>\n",
       "      <td>0</td>\n",
       "      <td>0</td>\n",
       "      <td>0.00</td>\n",
       "    </tr>\n",
       "  </tbody>\n",
       "</table>\n",
       "<p>40000 rows × 11 columns</p>\n",
       "</div>"
      ],
      "text/plain": [
       "       inadimplente  util_linhas_inseguras  idade  vezes_passou_de_30_59_dias  \\\n",
       "0                 0                   0.03     62                           0   \n",
       "1                 0                   0.67     55                           0   \n",
       "2                 0                   0.01     44                           0   \n",
       "3                 0                   0.09     54                           0   \n",
       "4                 0                   0.11     54                           0   \n",
       "...             ...                    ...    ...                         ...   \n",
       "39995             0                   0.00     68                           1   \n",
       "39996             0                   0.06     84                           0   \n",
       "39997             1                   0.82     70                           0   \n",
       "39998             0                   0.11     64                           2   \n",
       "39999             1                   1.00     28                           0   \n",
       "\n",
       "       razao_debito  salario_mensal  numero_linhas_crdto_aberto  \\\n",
       "0              0.08         8180.00                           3   \n",
       "1              0.15         2200.00                           3   \n",
       "2              0.15         7499.00                          20   \n",
       "3              0.35         5900.00                          15   \n",
       "4              0.07         2167.00                           3   \n",
       "...             ...             ...                         ...   \n",
       "39995          0.06        10833.00                           9   \n",
       "39996          0.01         8456.00                           7   \n",
       "39997          0.66         6000.00                          17   \n",
       "39998          0.87         5045.00                          12   \n",
       "39999          0.00         3500.00                           0   \n",
       "\n",
       "       numero_vezes_passou_90_dias  numero_emprestimos_imobiliarios  \\\n",
       "0                                0                                2   \n",
       "1                                0                                0   \n",
       "2                                0                                1   \n",
       "3                                0                                1   \n",
       "4                                0                                0   \n",
       "...                            ...                              ...   \n",
       "39995                            1                                0   \n",
       "39996                            0                                0   \n",
       "39997                            0                                2   \n",
       "39998                            0                                4   \n",
       "39999                            1                                0   \n",
       "\n",
       "       numero_de_vezes_que_passou_60_89_dias  numero_de_dependentes  \n",
       "0                                          0                   0.00  \n",
       "1                                          0                   0.00  \n",
       "2                                          0                   0.00  \n",
       "3                                          1                   0.00  \n",
       "4                                          0                   0.00  \n",
       "...                                      ...                    ...  \n",
       "39995                                      0                   0.00  \n",
       "39996                                      0                   0.00  \n",
       "39997                                      0                   0.00  \n",
       "39998                                      0                   0.00  \n",
       "39999                                      0                   0.00  \n",
       "\n",
       "[40000 rows x 11 columns]"
      ]
     },
     "execution_count": 544,
     "metadata": {},
     "output_type": "execute_result"
    }
   ],
   "source": [
    "teste[cols].to_csv('resposta_ao_teste_Joao_Aguilera.csv')\n",
    "teste[cols]"
   ]
  }
 ],
 "metadata": {
  "anaconda-cloud": {},
  "kernelspec": {
   "display_name": "Python 3",
   "language": "python",
   "name": "python3"
  },
  "language_info": {
   "codemirror_mode": {
    "name": "ipython",
    "version": 3
   },
   "file_extension": ".py",
   "mimetype": "text/x-python",
   "name": "python",
   "nbconvert_exporter": "python",
   "pygments_lexer": "ipython3",
   "version": "3.9.4"
  },
  "toc-showcode": false,
  "toc-showtags": false
 },
 "nbformat": 4,
 "nbformat_minor": 4
}
